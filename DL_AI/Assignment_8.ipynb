{
 "cells": [
  {
   "cell_type": "markdown",
   "metadata": {},
   "source": [
    "# `Module 9`: Introduction to NLP"
   ]
  },
  {
   "cell_type": "markdown",
   "metadata": {},
   "source": [
    "* You are a Data Scientist in a big firm. You have to develop a deep learning model to perform sentiment analysis on a dataset of tweets related to various candidates."
   ]
  },
  {
   "cell_type": "code",
   "execution_count": 1,
   "metadata": {},
   "outputs": [],
   "source": [
    "import pandas as pd\n",
    "import re\n",
    "\n",
    "from transformers import BertModel, BertTokenizer\n",
    "\n",
    "import torch\n",
    "from torch.utils.data import random_split, DataLoader, Dataset\n",
    "import torch.nn as nn"
   ]
  },
  {
   "cell_type": "code",
   "execution_count": 2,
   "metadata": {},
   "outputs": [],
   "source": [
    "bert_model = BertModel.from_pretrained('bert-base-uncased')\n",
    "tokenizer = BertTokenizer.from_pretrained('bert-base-uncased')"
   ]
  },
  {
   "cell_type": "code",
   "execution_count": 3,
   "metadata": {},
   "outputs": [
    {
     "data": {
      "text/html": [
       "<div>\n",
       "<style scoped>\n",
       "    .dataframe tbody tr th:only-of-type {\n",
       "        vertical-align: middle;\n",
       "    }\n",
       "\n",
       "    .dataframe tbody tr th {\n",
       "        vertical-align: top;\n",
       "    }\n",
       "\n",
       "    .dataframe thead th {\n",
       "        text-align: right;\n",
       "    }\n",
       "</style>\n",
       "<table border=\"1\" class=\"dataframe\">\n",
       "  <thead>\n",
       "    <tr style=\"text-align: right;\">\n",
       "      <th></th>\n",
       "      <th>text</th>\n",
       "      <th>sentiment</th>\n",
       "    </tr>\n",
       "  </thead>\n",
       "  <tbody>\n",
       "    <tr>\n",
       "      <th>0</th>\n",
       "      <td>im getting on borderlands and i will murder yo...</td>\n",
       "      <td>Positive</td>\n",
       "    </tr>\n",
       "    <tr>\n",
       "      <th>1</th>\n",
       "      <td>I am coming to the borders and I will kill you...</td>\n",
       "      <td>Positive</td>\n",
       "    </tr>\n",
       "    <tr>\n",
       "      <th>2</th>\n",
       "      <td>im getting on borderlands and i will kill you ...</td>\n",
       "      <td>Positive</td>\n",
       "    </tr>\n",
       "    <tr>\n",
       "      <th>3</th>\n",
       "      <td>im coming on borderlands and i will murder you...</td>\n",
       "      <td>Positive</td>\n",
       "    </tr>\n",
       "    <tr>\n",
       "      <th>4</th>\n",
       "      <td>im getting on borderlands 2 and i will murder ...</td>\n",
       "      <td>Positive</td>\n",
       "    </tr>\n",
       "  </tbody>\n",
       "</table>\n",
       "</div>"
      ],
      "text/plain": [
       "                                                text sentiment\n",
       "0  im getting on borderlands and i will murder yo...  Positive\n",
       "1  I am coming to the borders and I will kill you...  Positive\n",
       "2  im getting on borderlands and i will kill you ...  Positive\n",
       "3  im coming on borderlands and i will murder you...  Positive\n",
       "4  im getting on borderlands 2 and i will murder ...  Positive"
      ]
     },
     "execution_count": 3,
     "metadata": {},
     "output_type": "execute_result"
    }
   ],
   "source": [
    "df = pd.read_csv(\"dataset/twitter_sentiment_dataset.csv\", names=['id', 'candidate', 'sentiment', 'text'], header=None)\n",
    "df = df[['text', 'sentiment']]\n",
    "df.head()"
   ]
  },
  {
   "cell_type": "code",
   "execution_count": 4,
   "metadata": {},
   "outputs": [
    {
     "data": {
      "text/plain": [
       "(43013, 2)"
      ]
     },
     "execution_count": 4,
     "metadata": {},
     "output_type": "execute_result"
    }
   ],
   "source": [
    "df = df.dropna()\n",
    "df = df[df[\"sentiment\"].isin([\"Positive\", \"Negative\"])]\n",
    "df = df.reset_index(drop=True)\n",
    "df.shape"
   ]
  },
  {
   "cell_type": "code",
   "execution_count": 5,
   "metadata": {},
   "outputs": [
    {
     "data": {
      "text/plain": [
       "sentiment\n",
       "Negative    22358\n",
       "Positive    20655\n",
       "Name: count, dtype: int64"
      ]
     },
     "execution_count": 5,
     "metadata": {},
     "output_type": "execute_result"
    }
   ],
   "source": [
    "df.sentiment.value_counts()"
   ]
  },
  {
   "cell_type": "code",
   "execution_count": 6,
   "metadata": {},
   "outputs": [],
   "source": [
    "def clean_text(text):\n",
    "    text = re.sub(r'http\\S+', '', text.lower())  # Remove URLs\n",
    "    text = re.sub(r'[^a-zA-Z0-9\\s]+', '', text)\n",
    "    return text.strip()"
   ]
  },
  {
   "cell_type": "code",
   "execution_count": 7,
   "metadata": {},
   "outputs": [],
   "source": [
    "df['text'] = df['text'].apply(clean_text)\n",
    "df.sentiment = df.sentiment.astype('category').cat.codes"
   ]
  },
  {
   "cell_type": "code",
   "execution_count": 11,
   "metadata": {},
   "outputs": [],
   "source": [
    "df = df.iloc[:20000]"
   ]
  },
  {
   "cell_type": "code",
   "execution_count": 12,
   "metadata": {},
   "outputs": [],
   "source": [
    "texts = df.text.to_list()"
   ]
  },
  {
   "cell_type": "code",
   "execution_count": 13,
   "metadata": {},
   "outputs": [],
   "source": [
    "def getEmbedding(texts):\n",
    "    \n",
    "    embedding = []\n",
    "    batch_size = 8\n",
    "    for i in range(0, len(texts), batch_size):\n",
    "        batch_texts = texts[i : i + batch_size]\n",
    "        input = tokenizer(batch_texts, return_tensors='pt', padding=True, truncation=True, max_length=100)\n",
    "\n",
    "        with torch.no_grad():\n",
    "            output = bert_model(**input)\n",
    "\n",
    "        batch_embeddings = output.last_hidden_state.mean(dim=1)\n",
    "        embedding.append(batch_embeddings)\n",
    "    \n",
    "    return torch.cat(embedding, dim=0) # Concatenate all batch embeddings"
   ]
  },
  {
   "cell_type": "code",
   "execution_count": 14,
   "metadata": {},
   "outputs": [],
   "source": [
    "x = getEmbedding(texts)"
   ]
  },
  {
   "cell_type": "code",
   "execution_count": 37,
   "metadata": {},
   "outputs": [],
   "source": [
    "y = torch.tensor(df.sentiment.values, dtype=torch.float32)"
   ]
  },
  {
   "cell_type": "code",
   "execution_count": 38,
   "metadata": {},
   "outputs": [],
   "source": [
    "class TwitterSentimentDataset(Dataset):\n",
    "    def __init__(self, text, sentiment):\n",
    "        self.text = text\n",
    "        self.sentiment = sentiment\n",
    "\n",
    "    def __len__(self):\n",
    "        return len(self.text)\n",
    "    \n",
    "    def __getitem__(self,  idx):\n",
    "        return self.text[idx], self.sentiment[idx]"
   ]
  },
  {
   "cell_type": "code",
   "execution_count": 39,
   "metadata": {},
   "outputs": [],
   "source": [
    "dataset = TwitterSentimentDataset(x, y)"
   ]
  },
  {
   "cell_type": "code",
   "execution_count": 40,
   "metadata": {},
   "outputs": [
    {
     "data": {
      "text/plain": [
       "20000"
      ]
     },
     "execution_count": 40,
     "metadata": {},
     "output_type": "execute_result"
    }
   ],
   "source": [
    "len(dataset)"
   ]
  },
  {
   "cell_type": "code",
   "execution_count": 41,
   "metadata": {},
   "outputs": [],
   "source": [
    "train_size = int(0.8 * len(dataset))\n",
    "test_size = len(dataset) - train_size\n",
    "\n",
    "train_data, test_data = random_split(dataset, [train_size, test_size])"
   ]
  },
  {
   "cell_type": "code",
   "execution_count": 42,
   "metadata": {},
   "outputs": [],
   "source": [
    "train_loader = DataLoader(train_data, batch_size=16, shuffle=True)\n",
    "test_loader = DataLoader(test_data, batch_size=16, shuffle=True)"
   ]
  },
  {
   "cell_type": "code",
   "execution_count": 48,
   "metadata": {},
   "outputs": [],
   "source": [
    "class SentimentLSTM(nn.Module):\n",
    "    def __init__(self):\n",
    "        super(SentimentLSTM, self).__init__()\n",
    "        \n",
    "        self.dropout = nn.Dropout(0.3)\n",
    "        self.lstm = nn.LSTM(768, 128, batch_first=True) # BERT embedding size is 768\n",
    "        self.fc = nn.Linear(128, 16)\n",
    "\n",
    "    def forward(self, x):\n",
    "        x = self.dropout(x)\n",
    "        _, (h, _) = self.lstm(x)\n",
    "        x = self.fc(h[-1])\n",
    "        return x"
   ]
  },
  {
   "cell_type": "code",
   "execution_count": 49,
   "metadata": {},
   "outputs": [
    {
     "name": "stdout",
     "output_type": "stream",
     "text": [
      "SentimentLSTM(\n",
      "  (dropout): Dropout(p=0.3, inplace=False)\n",
      "  (lstm): LSTM(768, 128, batch_first=True)\n",
      "  (fc): Linear(in_features=128, out_features=16, bias=True)\n",
      ")\n"
     ]
    }
   ],
   "source": [
    "model = SentimentLSTM()\n",
    "print(model)"
   ]
  },
  {
   "cell_type": "code",
   "execution_count": 60,
   "metadata": {},
   "outputs": [],
   "source": [
    "lr = 0.001\n",
    "epoch_size = 50"
   ]
  },
  {
   "cell_type": "code",
   "execution_count": 61,
   "metadata": {},
   "outputs": [],
   "source": [
    "criterion = nn.CrossEntropyLoss()\n",
    "optimizer = torch.optim.Adam(model.parameters(), lr=lr)"
   ]
  },
  {
   "cell_type": "code",
   "execution_count": 62,
   "metadata": {},
   "outputs": [
    {
     "name": "stdout",
     "output_type": "stream",
     "text": [
      "Epoch: 1/50 loss: 24119.6032\n",
      "Epoch: 2/50 loss: 24092.8790\n",
      "Epoch: 3/50 loss: 24096.4334\n",
      "Epoch: 4/50 loss: 24071.4737\n",
      "Epoch: 5/50 loss: 24100.1118\n",
      "Epoch: 6/50 loss: 24103.3069\n",
      "Epoch: 7/50 loss: 24092.4586\n",
      "Epoch: 8/50 loss: 24085.5506\n",
      "Epoch: 9/50 loss: 24098.4200\n",
      "Epoch: 10/50 loss: 24085.1602\n",
      "Epoch: 11/50 loss: 24100.4579\n",
      "Epoch: 12/50 loss: 24098.9492\n",
      "Epoch: 13/50 loss: 24103.4760\n",
      "Epoch: 14/50 loss: 24103.9509\n",
      "Epoch: 15/50 loss: 24077.6087\n",
      "Epoch: 16/50 loss: 24093.1512\n",
      "Epoch: 17/50 loss: 24091.7109\n",
      "Epoch: 18/50 loss: 24115.8184\n",
      "Epoch: 19/50 loss: 24092.9552\n",
      "Epoch: 20/50 loss: 24070.8037\n",
      "Epoch: 21/50 loss: 24055.6760\n",
      "Epoch: 22/50 loss: 24080.5722\n",
      "Epoch: 23/50 loss: 24059.4506\n",
      "Epoch: 24/50 loss: 24037.3594\n",
      "Epoch: 25/50 loss: 24028.7738\n",
      "Epoch: 26/50 loss: 24031.9893\n",
      "Epoch: 27/50 loss: 24023.9490\n",
      "Epoch: 28/50 loss: 24016.1735\n",
      "Epoch: 29/50 loss: 24011.5329\n",
      "Epoch: 30/50 loss: 24003.3819\n",
      "Epoch: 31/50 loss: 23999.8160\n",
      "Epoch: 32/50 loss: 24001.8473\n",
      "Epoch: 33/50 loss: 23996.2914\n",
      "Epoch: 34/50 loss: 24031.0489\n",
      "Epoch: 35/50 loss: 24028.9884\n",
      "Epoch: 36/50 loss: 24031.0329\n",
      "Epoch: 37/50 loss: 24005.1053\n",
      "Epoch: 38/50 loss: 24011.6677\n",
      "Epoch: 39/50 loss: 24010.4603\n",
      "Epoch: 40/50 loss: 23993.8926\n",
      "Epoch: 41/50 loss: 24010.0707\n",
      "Epoch: 42/50 loss: 23992.7894\n",
      "Epoch: 43/50 loss: 23992.9873\n",
      "Epoch: 44/50 loss: 23987.7227\n",
      "Epoch: 45/50 loss: 24016.9147\n",
      "Epoch: 46/50 loss: 24008.8435\n",
      "Epoch: 47/50 loss: 23989.8812\n",
      "Epoch: 48/50 loss: 24017.4178\n",
      "Epoch: 49/50 loss: 23990.6095\n",
      "Epoch: 50/50 loss: 23979.0422\n"
     ]
    }
   ],
   "source": [
    "model.train()\n",
    "for epoch in range(epoch_size):\n",
    "    \n",
    "    total_loss = 0\n",
    "    for input, label in train_loader:\n",
    "        output = model(input)\n",
    "        \n",
    "        optimizer.zero_grad()\n",
    "        loss = criterion(output, label)\n",
    "        loss.backward()\n",
    "        optimizer.step()\n",
    "\n",
    "        total_loss += loss.item()\n",
    "\n",
    "    print(f\"Epoch: {epoch+1}/{epoch_size} loss: {total_loss:.4f}\")"
   ]
  },
  {
   "cell_type": "code",
   "execution_count": 115,
   "metadata": {},
   "outputs": [
    {
     "name": "stdout",
     "output_type": "stream",
     "text": [
      "Model Accuracy is 1.18%\n"
     ]
    }
   ],
   "source": [
    "model.eval()\n",
    "with torch.no_grad():\n",
    "    \n",
    "    total = 0\n",
    "    correct = 0\n",
    "    for text, label in test_loader:\n",
    "        \n",
    "        output = model(text)\n",
    "        predict = torch.argmax(output)\n",
    "        correct += (predict == label).sum().item()\n",
    "        total += label.size(0)\n",
    "\n",
    "    print(f\"Model Accuracy is {correct / total * 100:.2f}%\")"
   ]
  }
 ],
 "metadata": {
  "kernelspec": {
   "display_name": "env_assignment",
   "language": "python",
   "name": "python3"
  },
  "language_info": {
   "codemirror_mode": {
    "name": "ipython",
    "version": 3
   },
   "file_extension": ".py",
   "mimetype": "text/x-python",
   "name": "python",
   "nbconvert_exporter": "python",
   "pygments_lexer": "ipython3",
   "version": "3.13.1"
  }
 },
 "nbformat": 4,
 "nbformat_minor": 2
}
