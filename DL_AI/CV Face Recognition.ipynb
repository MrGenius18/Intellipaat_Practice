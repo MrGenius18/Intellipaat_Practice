{
 "cells": [
  {
   "cell_type": "markdown",
   "id": "77f7a0ff-6c13-4335-a806-c655639df1f7",
   "metadata": {},
   "source": [
    "# Face Recognition `(Computer Vision)`\n",
    "\n",
    "* using `OpenCV` lab enviornment\n",
    "* use `haarcascade Classifier` for detecting the faces from multiple images\n",
    "* `cv2` => opencv library\n",
    "* `glob` => get the specified parameter"
   ]
  },
  {
   "cell_type": "code",
   "execution_count": 1,
   "id": "1aa4cd6d-b216-4802-bdce-3d119dbb8eac",
   "metadata": {},
   "outputs": [],
   "source": [
    "import cv2, glob"
   ]
  },
  {
   "cell_type": "code",
   "execution_count": 2,
   "id": "296de06c-214e-44db-a72b-83abc7a11487",
   "metadata": {},
   "outputs": [],
   "source": [
    "# Get all JPG images\n",
    "globimg = glob.glob(\"jpg images/*.jpg\")\n",
    "\n",
    "# Load the face detection model\n",
    "detect = cv2.CascadeClassifier(\"haarcascade_frontalface_default.xml\")\n",
    "\n",
    "for timage in globimg:\n",
    "    image = cv2.imread(timage)\n",
    "\n",
    "    # Resize image for consistent processing (e.g., max width = 500 pixels)\n",
    "    height, width = image.shape[:2]\n",
    "    max_width = 500\n",
    "    if width > max_width:\n",
    "        scale = max_width / width\n",
    "        image = cv2.resize(image, (int(width * scale), int(height * scale)))\n",
    "\n",
    "    # Convert image to grayscale\n",
    "    grayimg = cv2.cvtColor(image, cv2.COLOR_BGR2GRAY)\n",
    "\n",
    "    # Detect faces & Draw green rectangles around detected faces\n",
    "    face = detect.detectMultiScale(grayimg, scaleFactor=1.25, minNeighbors=3, minSize=(30, 30))\n",
    "    for (x,y,w,h) in face:\n",
    "        cv2.rectangle(image, (x,y), (x+w, y+h), (0,255,0), 2) # (0,255,0) => green color code, 2's thickness\n",
    "        \n",
    "    # Display the image with detected faces (Wait for 2000ms & close the window)\n",
    "    cv2.imshow(\"detect images\", image)\n",
    "    cv2.waitKey(2000)\n",
    "    cv2.destroyAllWindows()"
   ]
  }
 ],
 "metadata": {
  "kernelspec": {
   "display_name": "Python [conda env:tf]",
   "language": "python",
   "name": "conda-env-tf-py"
  },
  "language_info": {
   "codemirror_mode": {
    "name": "ipython",
    "version": 3
   },
   "file_extension": ".py",
   "mimetype": "text/x-python",
   "name": "python",
   "nbconvert_exporter": "python",
   "pygments_lexer": "ipython3",
   "version": "3.10.13"
  }
 },
 "nbformat": 4,
 "nbformat_minor": 5
}
