{
  "cells": [
    {
      "cell_type": "markdown",
      "metadata": {
        "id": "m2ocqQDIZuSI"
      },
      "source": [
        "# `Module 4`: Introduction to Fully Connected NN"
      ]
    },
    {
      "cell_type": "markdown",
      "metadata": {
        "id": "r63Pbla0Z899"
      },
      "source": [
        "### Problem Statement:"
      ]
    },
    {
      "cell_type": "markdown",
      "metadata": {
        "id": "oIAToC-MaEdo"
      },
      "source": [
        "* Fashion MNIST is a dataset comprising 60,000 training images and 10,000 testing images, each depicting various fashion items in a 28x28 grayscale format. The dataset encompasses ten distinct categories of apparel. The primary aim of this assignment is to develop a fully connected neural network (FCNN) that can accurately classify these images into the correct fashion categories."
      ]
    },
    {
      "cell_type": "markdown",
      "metadata": {
        "id": "o6inyE_FaVPW"
      },
      "source": [
        "-------------------------"
      ]
    },
    {
      "cell_type": "code",
      "execution_count": null,
      "metadata": {
        "id": "YScYBB1raDCx"
      },
      "outputs": [],
      "source": [
        "import numpy as np\n",
        "import matplotlib.pyplot as plt\n",
        "import seaborn as sns\n",
        "\n",
        "import torch\n",
        "import torchvision\n",
        "\n",
        "from torchvision import transforms, datasets\n",
        "from torch.utils.data import DataLoader, random_split\n",
        "\n",
        "import torch.nn as nn"
      ]
    },
    {
      "cell_type": "code",
      "execution_count": null,
      "metadata": {
        "colab": {
          "base_uri": "https://localhost:8080/",
          "height": 36
        },
        "id": "9IjWy7becaCk",
        "outputId": "d10b35cf-cfea-4fc4-bffc-c51c519ebc4a"
      },
      "outputs": [
        {
          "data": {
            "application/vnd.google.colaboratory.intrinsic+json": {
              "type": "string"
            },
            "text/plain": [
              "'cpu'"
            ]
          },
          "execution_count": 2,
          "metadata": {},
          "output_type": "execute_result"
        }
      ],
      "source": [
        "device = \"cuda\" if torch.cuda.is_available() else \"cpu\"\n",
        "device"
      ]
    },
    {
      "cell_type": "code",
      "execution_count": null,
      "metadata": {
        "id": "XF935-a1ci0f"
      },
      "outputs": [],
      "source": [
        "custom_transfromer = transforms.Compose([\n",
        "    transforms.ToTensor(),\n",
        "    transforms.Normalize(0.5, 0.5)\n",
        "])"
      ]
    },
    {
      "cell_type": "code",
      "execution_count": null,
      "metadata": {
        "collapsed": true,
        "id": "nEPHit3Ccypb"
      },
      "outputs": [],
      "source": [
        "train_dataset = datasets.FashionMNIST(root='/content/datasets', download=True, train=True, transform=custom_transfromer)\n",
        "test_dataset = datasets.FashionMNIST(root='/content/datasets', download=True, train=False, transform=custom_transfromer)"
      ]
    },
    {
      "cell_type": "code",
      "execution_count": null,
      "metadata": {
        "id": "OwG3QedBdK6M"
      },
      "outputs": [],
      "source": [
        "# split the train data into train & validate\n",
        "train_size = int(0.8 * len(train_dataset))\n",
        "validate_size = len(train_dataset) - train_size\n",
        "train_data, validate_data = random_split(train_dataset, [train_size, validate_size])"
      ]
    },
    {
      "cell_type": "code",
      "execution_count": null,
      "metadata": {
        "id": "jXtHIlP0d7jn"
      },
      "outputs": [],
      "source": [
        "# data loader\n",
        "train_loader = DataLoader(train_data, batch_size=32, shuffle=True)\n",
        "validate_loader = DataLoader(validate_data, batch_size=32, shuffle=False)\n",
        "test_loader = DataLoader(test_dataset, batch_size=32, shuffle=False)"
      ]
    },
    {
      "cell_type": "code",
      "execution_count": null,
      "metadata": {
        "colab": {
          "base_uri": "https://localhost:8080/",
          "height": 472
        },
        "id": "ezRtnSN7fT-A",
        "outputId": "7747d662-b428-4e73-ef7e-078a53f7608d"
      },
      "outputs": [
        {
          "data": {
            "image/png": "[encoded data removed]",
            "text/plain": [
              "<Figure size 640x480 with 1 Axes>"
            ]
          },
          "metadata": {},
          "output_type": "display_data"
        }
      ],
      "source": [
        "# Visualize class distribution\n",
        "labels = np.array([label for _, label in train_dataset])\n",
        "unique_label, count = np.unique(labels, return_counts=True)\n",
        "ax = sns.barplot(x=unique_label, y=count)\n",
        "ax.bar_label(ax.containers[0])\n",
        "plt.xlabel(\"Class Labels\")\n",
        "plt.ylabel(\"Number of Samples\")\n",
        "plt.title(\"Distribution of Fashion Items in Training Data\")\n",
        "plt.show()"
      ]
    },
    {
      "cell_type": "markdown",
      "metadata": {
        "id": "OYZp-10PpvSe"
      },
      "source": [
        "---"
      ]
    },
    {
      "cell_type": "code",
      "execution_count": null,
      "metadata": {
        "id": "PK-9_P7nnVWd"
      },
      "outputs": [],
      "source": [
        "# create FCNN Architecture\n",
        "class FullyConnectedNN(nn.Module):\n",
        "    def __init__(self):\n",
        "        super(FullyConnectedNN, self).__init__()\n",
        "\n",
        "        self.flatten = nn.Flatten()\n",
        "        self.fc1 = nn.Linear(28*28, 128)\n",
        "        self.fc2 = nn.Linear(128, 64)\n",
        "        self.fc3 = nn.Linear(64, 10)\n",
        "\n",
        "        self.relu = nn.ReLU()\n",
        "        self.softmax = nn.Softmax(dim=1)\n",
        "\n",
        "    def forward(self, x):\n",
        "        x = self.flatten(x)\n",
        "        x = self.relu(self.fc1(x))\n",
        "        x = self.relu(self.fc2(x))\n",
        "        x = self.softmax(self.fc3(x))\n",
        "        return x"
      ]
    },
    {
      "cell_type": "code",
      "execution_count": null,
      "metadata": {
        "colab": {
          "base_uri": "https://localhost:8080/"
        },
        "id": "J-oxVYOtrYul",
        "outputId": "22ccf3cf-19d2-4438-e665-7f1935973a52"
      },
      "outputs": [
        {
          "name": "stdout",
          "output_type": "stream",
          "text": [
            "FullyConnectedNN(\n",
            "  (flatten): Flatten(start_dim=1, end_dim=-1)\n",
            "  (fc1): Linear(in_features=784, out_features=128, bias=True)\n",
            "  (fc2): Linear(in_features=128, out_features=64, bias=True)\n",
            "  (fc3): Linear(in_features=64, out_features=10, bias=True)\n",
            "  (relu): ReLU()\n",
            "  (softmax): Softmax(dim=1)\n",
            ")\n"
          ]
        }
      ],
      "source": [
        "model = FullyConnectedNN().to(device)\n",
        "print(model)"
      ]
    },
    {
      "cell_type": "code",
      "execution_count": null,
      "metadata": {
        "id": "mcJxQu4Z_qjf"
      },
      "outputs": [],
      "source": [
        "epoch_size = 25\n",
        "lr = 0.01"
      ]
    },
    {
      "cell_type": "code",
      "execution_count": null,
      "metadata": {
        "id": "ge76fwfNrd81"
      },
      "outputs": [],
      "source": [
        "criterion = nn.CrossEntropyLoss()\n",
        "optimizer = torch.optim.SGD(model.parameters(), lr=lr)"
      ]
    },
    {
      "cell_type": "code",
      "execution_count": null,
      "metadata": {
        "colab": {
          "base_uri": "https://localhost:8080/"
        },
        "id": "VvLXiqNkrym8",
        "outputId": "4f3204de-5e4b-4da3-acff-3dfcedc4a749"
      },
      "outputs": [
        {
          "name": "stdout",
          "output_type": "stream",
          "text": [
            "epoch: 1/25 train_loss: 3269.4965 validate_loss: 745.9141 \n",
            "epoch: 2/25 train_loss: 2791.0869 validate_loss: 674.8329 \n",
            "epoch: 3/25 train_loss: 2672.9544 validate_loss: 664.4794 \n",
            "epoch: 4/25 train_loss: 2644.1051 validate_loss: 659.1705 \n",
            "epoch: 5/25 train_loss: 2612.1126 validate_loss: 647.3923 \n",
            "epoch: 6/25 train_loss: 2577.7701 validate_loss: 643.2861 \n",
            "epoch: 7/25 train_loss: 2560.5702 validate_loss: 638.9694 \n",
            "epoch: 8/25 train_loss: 2548.9494 validate_loss: 636.8715 \n",
            "epoch: 9/25 train_loss: 2540.6271 validate_loss: 636.0903 \n",
            "epoch: 10/25 train_loss: 2533.7427 validate_loss: 633.7959 \n",
            "epoch: 11/25 train_loss: 2528.3302 validate_loss: 632.5495 \n",
            "epoch: 12/25 train_loss: 2523.6150 validate_loss: 631.6488 \n",
            "epoch: 13/25 train_loss: 2519.0802 validate_loss: 631.1162 \n",
            "epoch: 14/25 train_loss: 2516.0884 validate_loss: 630.5675 \n",
            "epoch: 15/25 train_loss: 2511.9603 validate_loss: 630.9539 \n",
            "epoch: 16/25 train_loss: 2509.0313 validate_loss: 629.3921 \n",
            "epoch: 17/25 train_loss: 2506.4410 validate_loss: 629.7685 \n",
            "epoch: 18/25 train_loss: 2504.1118 validate_loss: 628.7717 \n",
            "epoch: 19/25 train_loss: 2501.5299 validate_loss: 628.0993 \n",
            "epoch: 20/25 train_loss: 2500.1209 validate_loss: 627.9935 \n",
            "epoch: 21/25 train_loss: 2497.6209 validate_loss: 627.1654 \n",
            "epoch: 22/25 train_loss: 2495.7297 validate_loss: 627.4100 \n",
            "epoch: 23/25 train_loss: 2493.9677 validate_loss: 626.9753 \n",
            "epoch: 24/25 train_loss: 2492.3826 validate_loss: 627.2594 \n",
            "epoch: 25/25 train_loss: 2490.7574 validate_loss: 626.2895 \n"
          ]
        }
      ],
      "source": [
        "# train & validate model\n",
        "train_losses = []\n",
        "validate_losses = []\n",
        "\n",
        "for epoch in range(epoch_size):\n",
        "\n",
        "    model.train()\n",
        "    total_train_loss = 0\n",
        "    for train_img, train_lab in train_loader:\n",
        "        train_img, train_lab = train_img.to(device), train_lab.to(device)\n",
        "\n",
        "        pred_train_lab = model(train_img)\n",
        "        optimizer.zero_grad()\n",
        "        train_loss = criterion(pred_train_lab, train_lab)\n",
        "        train_loss.backward()\n",
        "        optimizer.step()\n",
        "\n",
        "        total_train_loss += train_loss.item()\n",
        "    train_losses.append(total_train_loss)\n",
        "\n",
        "    model.eval()\n",
        "    total_val_loss = 0\n",
        "    with torch.no_grad():\n",
        "        for val_img, val_lab in validate_loader:\n",
        "            val_img, val_lab = val_img.to(device), val_lab.to(device)\n",
        "\n",
        "            pred_val_lab = model(val_img)\n",
        "            val_loss = criterion(pred_val_lab, val_lab)\n",
        "\n",
        "            total_val_loss += val_loss.item()\n",
        "        validate_losses.append(total_val_loss)\n",
        "\n",
        "    print(f\"epoch: {epoch+1}/{epoch_size} train_loss: {total_train_loss:0.4f} validate_loss: {total_val_loss:0.4f} \")"
      ]
    },
    {
      "cell_type": "code",
      "execution_count": null,
      "metadata": {
        "colab": {
          "base_uri": "https://localhost:8080/"
        },
        "id": "RUmsZfqg7NVZ",
        "outputId": "ff31488d-83b8-498f-b6d5-c22ce660e25e"
      },
      "outputs": [
        {
          "name": "stdout",
          "output_type": "stream",
          "text": [
            "Model Accuracy is 78.63%\n"
          ]
        }
      ],
      "source": [
        "# Evalute the model\n",
        "model.eval()\n",
        "with torch.no_grad():\n",
        "    total_correct = 0\n",
        "    total = 0\n",
        "    for test_img, test_lab in test_loader:\n",
        "        test_img, test_lab = test_img.to(device), test_lab.to(device)\n",
        "\n",
        "        output = model(test_img)\n",
        "        pred_test_lab = torch.argmax(output, dim=1)\n",
        "        correct = (pred_test_lab == test_lab).sum().item()\n",
        "\n",
        "        total_correct += correct\n",
        "        total += test_img.size(0)\n",
        "\n",
        "    print(f\"Model Accuracy is {total_correct/total*100:0.2f}%\")"
      ]
    },
    {
      "cell_type": "code",
      "execution_count": null,
      "metadata": {
        "colab": {
          "base_uri": "https://localhost:8080/",
          "height": 487
        },
        "id": "92ejOhpa-9vl",
        "outputId": "8adde316-49e0-4df5-e6a5-8594adcedb68"
      },
      "outputs": [
        {
          "data": {
            "image/png": "[encoded data removed]",
            "text/plain": [
              "<Figure size 640x480 with 2 Axes>"
            ]
          },
          "metadata": {},
          "output_type": "display_data"
        }
      ],
      "source": [
        "# visualize training loss and validation loss\n",
        "plt.subplot(1, 2, 1)\n",
        "plt.plot(range(epoch_size), train_losses, label=\"Training Loss\")\n",
        "plt.xlabel(\"Epochs\")\n",
        "plt.ylabel(\"Loss\")\n",
        "plt.title('Training Loss')\n",
        "\n",
        "plt.subplot(1, 2, 2)\n",
        "plt.plot(range(epoch_size), validate_losses, label=\"Validattion Loss\")\n",
        "plt.xlabel(\"Epochs\")\n",
        "plt.ylabel(\"Loss\")\n",
        "plt.title('Validation Loss')\n",
        "\n",
        "plt.tight_layout()\n",
        "plt.show()"
      ]
    }
  ],
  "metadata": {
    "accelerator": "GPU",
    "colab": {
      "gpuType": "T4",
      "provenance": []
    },
    "kernelspec": {
      "display_name": "env_assignment",
      "language": "python",
      "name": "python3"
    },
    "language_info": {
      "name": "python",
      "version": "3.13.1"
    }
  },
  "nbformat": 4,
  "nbformat_minor": 0
}
