{
  "cells": [
    {
      "cell_type": "markdown",
      "metadata": {
        "id": "9Ll8VijJV3Nk"
      },
      "source": [
        "# `Module 3`: Introduction to NN Frameworks"
      ]
    },
    {
      "cell_type": "markdown",
      "metadata": {
        "id": "74w2S_3yWBxa"
      },
      "source": [
        " ### train a neural network to accurately classify handwritten digits from the MNIST dataset.\n",
        " * The goal is to navigate through the preprocessing of image data, select an appropriate neural network architecture, and apply optimization techniques to achieve high\n",
        " classification accuracy."
      ]
    },
    {
      "cell_type": "markdown",
      "metadata": {
        "id": "Z_GCWvPNWRCY"
      },
      "source": [
        "* The MNIST dataset is a large database of handwritten digits commonly used for training various image processing systems. The dataset contains 60,000 training images and 10,000 testing images, each of which is a 28x28 pixel grayscale image. The goal is to build a neural network model that can accurately classify these images into one of the ten digit classes (0 through 9)."
      ]
    },
    {
      "cell_type": "markdown",
      "metadata": {
        "id": "RqK_PRGFWik_"
      },
      "source": [
        "# `Objectives`:"
      ]
    },
    {
      "cell_type": "markdown",
      "metadata": {
        "id": "TCRH29raYRAE"
      },
      "source": [
        "* Data Preprocessing\n",
        "* Model Development\n",
        "* Training\n",
        "* Evaluation\n",
        "* Prediction\n",
        "* Analysis"
      ]
    },
    {
      "cell_type": "markdown",
      "metadata": {
        "id": "vDtIcOBfYNZm"
      },
      "source": [
        "# ---------------------------"
      ]
    },
    {
      "cell_type": "code",
      "execution_count": null,
      "metadata": {
        "id": "4h2iBDslVxB0"
      },
      "outputs": [],
      "source": [
        "import numpy as np\n",
        "import matplotlib.pyplot as plt\n",
        "\n",
        "import torch\n",
        "import torchvision\n",
        "\n",
        "from torchvision import transforms, datasets\n",
        "from torch.utils.data import DataLoader\n",
        "\n",
        "import torch.nn as nn"
      ]
    },
    {
      "cell_type": "code",
      "execution_count": null,
      "metadata": {
        "colab": {
          "base_uri": "https://localhost:8080/",
          "height": 35
        },
        "id": "hwCcDdCMsiul",
        "outputId": "50132744-647f-4e93-fab4-8eca3f077ddc"
      },
      "outputs": [
        {
          "data": {
            "application/vnd.google.colaboratory.intrinsic+json": {
              "type": "string"
            },
            "text/plain": [
              "'cuda'"
            ]
          },
          "execution_count": 2,
          "metadata": {},
          "output_type": "execute_result"
        }
      ],
      "source": [
        "device = \"cuda\" if torch.cuda.is_available() else \"cpu\"\n",
        "device"
      ]
    },
    {
      "cell_type": "code",
      "execution_count": null,
      "metadata": {
        "id": "QHxAxfn-YMQ-"
      },
      "outputs": [],
      "source": [
        "custom_transform = transforms.Compose([\n",
        "    transforms.ToTensor(),\n",
        "    transforms.Normalize(0.5, 0.5)\n",
        "])"
      ]
    },
    {
      "cell_type": "code",
      "execution_count": null,
      "metadata": {
        "colab": {
          "base_uri": "https://localhost:8080/"
        },
        "id": "s6q1G1iZZfmU",
        "outputId": "d93e100d-5a53-47c4-db88-c3ae549ecef5"
      },
      "outputs": [
        {
          "name": "stdout",
          "output_type": "stream",
          "text": [
            "Downloading http://yann.lecun.com/exdb/mnist/train-images-idx3-ubyte.gz\n",
            "Failed to download (trying next):\n",
            "HTTP Error 404: Not Found\n",
            "\n",
            "Downloading https://ossci-datasets.s3.amazonaws.com/mnist/train-images-idx3-ubyte.gz\n",
            "Downloading https://ossci-datasets.s3.amazonaws.com/mnist/train-images-idx3-ubyte.gz to /content/datasets/MNIST/raw/train-images-idx3-ubyte.gz\n"
          ]
        },
        {
          "name": "stderr",
          "output_type": "stream",
          "text": [
            "100%|██████████| 9.91M/9.91M [00:00<00:00, 10.5MB/s]\n"
          ]
        },
        {
          "name": "stdout",
          "output_type": "stream",
          "text": [
            "Extracting /content/datasets/MNIST/raw/train-images-idx3-ubyte.gz to /content/datasets/MNIST/raw\n",
            "\n",
            "Downloading http://yann.lecun.com/exdb/mnist/train-labels-idx1-ubyte.gz\n",
            "Failed to download (trying next):\n",
            "HTTP Error 404: Not Found\n",
            "\n",
            "Downloading https://ossci-datasets.s3.amazonaws.com/mnist/train-labels-idx1-ubyte.gz\n",
            "Downloading https://ossci-datasets.s3.amazonaws.com/mnist/train-labels-idx1-ubyte.gz to /content/datasets/MNIST/raw/train-labels-idx1-ubyte.gz\n"
          ]
        },
        {
          "name": "stderr",
          "output_type": "stream",
          "text": [
            "100%|██████████| 28.9k/28.9k [00:00<00:00, 346kB/s]\n"
          ]
        },
        {
          "name": "stdout",
          "output_type": "stream",
          "text": [
            "Extracting /content/datasets/MNIST/raw/train-labels-idx1-ubyte.gz to /content/datasets/MNIST/raw\n",
            "\n",
            "Downloading http://yann.lecun.com/exdb/mnist/t10k-images-idx3-ubyte.gz\n",
            "Failed to download (trying next):\n",
            "HTTP Error 404: Not Found\n",
            "\n",
            "Downloading https://ossci-datasets.s3.amazonaws.com/mnist/t10k-images-idx3-ubyte.gz\n",
            "Downloading https://ossci-datasets.s3.amazonaws.com/mnist/t10k-images-idx3-ubyte.gz to /content/datasets/MNIST/raw/t10k-images-idx3-ubyte.gz\n"
          ]
        },
        {
          "name": "stderr",
          "output_type": "stream",
          "text": [
            "100%|██████████| 1.65M/1.65M [00:00<00:00, 3.19MB/s]\n"
          ]
        },
        {
          "name": "stdout",
          "output_type": "stream",
          "text": [
            "Extracting /content/datasets/MNIST/raw/t10k-images-idx3-ubyte.gz to /content/datasets/MNIST/raw\n",
            "\n",
            "Downloading http://yann.lecun.com/exdb/mnist/t10k-labels-idx1-ubyte.gz\n",
            "Failed to download (trying next):\n",
            "HTTP Error 404: Not Found\n",
            "\n",
            "Downloading https://ossci-datasets.s3.amazonaws.com/mnist/t10k-labels-idx1-ubyte.gz\n",
            "Downloading https://ossci-datasets.s3.amazonaws.com/mnist/t10k-labels-idx1-ubyte.gz to /content/datasets/MNIST/raw/t10k-labels-idx1-ubyte.gz\n"
          ]
        },
        {
          "name": "stderr",
          "output_type": "stream",
          "text": [
            "100%|██████████| 4.54k/4.54k [00:00<00:00, 3.72MB/s]"
          ]
        },
        {
          "name": "stdout",
          "output_type": "stream",
          "text": [
            "Extracting /content/datasets/MNIST/raw/t10k-labels-idx1-ubyte.gz to /content/datasets/MNIST/raw\n",
            "\n"
          ]
        },
        {
          "name": "stderr",
          "output_type": "stream",
          "text": [
            "\n"
          ]
        }
      ],
      "source": [
        "train_data = datasets.MNIST(root='/content/datasets', download=True, train=True, transform=custom_transform)\n",
        "test_data = datasets.MNIST(root='/content/datasets', download=True, train=False, transform=custom_transform)"
      ]
    },
    {
      "cell_type": "code",
      "execution_count": null,
      "metadata": {
        "id": "jWBuES59Z_Z6"
      },
      "outputs": [],
      "source": [
        "train_loader = DataLoader(train_data, batch_size=32, shuffle=True)\n",
        "test_loader = DataLoader(test_data, batch_size=32, shuffle=True)"
      ]
    },
    {
      "cell_type": "code",
      "execution_count": null,
      "metadata": {
        "id": "5CbRISKDaWe_"
      },
      "outputs": [],
      "source": [
        "sample = iter(train_loader)\n",
        "img, lab = next(sample)"
      ]
    },
    {
      "cell_type": "code",
      "execution_count": null,
      "metadata": {
        "colab": {
          "base_uri": "https://localhost:8080/"
        },
        "id": "6RodZNz3cDmu",
        "outputId": "7b0676f6-70a3-4d40-e2de-7a237098eebc"
      },
      "outputs": [
        {
          "data": {
            "text/plain": [
              "torch.Size([32, 1, 28, 28])"
            ]
          },
          "execution_count": 7,
          "metadata": {},
          "output_type": "execute_result"
        }
      ],
      "source": [
        "img.shape"
      ]
    },
    {
      "cell_type": "code",
      "execution_count": null,
      "metadata": {
        "colab": {
          "base_uri": "https://localhost:8080/",
          "height": 164
        },
        "id": "P7Dfd68MasRY",
        "outputId": "6109ae60-2919-4b0f-9a4b-6dbc2e3ca084"
      },
      "outputs": [
        {
          "data": {
            "image/png": "[encoded data removed]",
            "text/plain": [
              "<Figure size 640x480 with 5 Axes>"
            ]
          },
          "metadata": {},
          "output_type": "display_data"
        }
      ],
      "source": [
        "for i in range(5):\n",
        "    plt.subplot(1, 5, i+1)\n",
        "    plt.imshow(img[i][0])\n",
        "    plt.title(lab[i].item())\n",
        "    plt.tight_layout()"
      ]
    },
    {
      "cell_type": "code",
      "execution_count": null,
      "metadata": {
        "id": "RxuKopnObHgQ"
      },
      "outputs": [],
      "source": [
        "class NeuralNetwork(nn.Module):\n",
        "    def __init__(self):\n",
        "        super(NeuralNetwork, self).__init__()\n",
        "\n",
        "        self.inp_layer = nn.Linear(28*28, 500)\n",
        "        self.hid_layer1 = nn.Linear(500, 250)\n",
        "        self.hid_layer2 = nn.Linear(250, 125)\n",
        "        self.hid_layer3 = nn.Linear(125, 65)\n",
        "        self.out_layer = nn.Linear(65, 10)\n",
        "\n",
        "        self.relu = nn.ReLU()\n",
        "\n",
        "    def forward(self, x):\n",
        "        x = self.relu(self.inp_layer(x))\n",
        "        x = self.relu(self.hid_layer1(x))\n",
        "        x = self.relu(self.hid_layer2(x))\n",
        "        x = self.relu(self.hid_layer3(x))\n",
        "        out = self.out_layer(x)\n",
        "        return out"
      ]
    },
    {
      "cell_type": "code",
      "execution_count": null,
      "metadata": {
        "colab": {
          "base_uri": "https://localhost:8080/"
        },
        "id": "m_kbSgj9dslt",
        "outputId": "8b39c8fa-4b18-487a-a997-ac1f67a18581"
      },
      "outputs": [
        {
          "name": "stdout",
          "output_type": "stream",
          "text": [
            "NeuralNetwork(\n",
            "  (inp_layer): Linear(in_features=784, out_features=500, bias=True)\n",
            "  (hid_layer1): Linear(in_features=500, out_features=250, bias=True)\n",
            "  (hid_layer2): Linear(in_features=250, out_features=125, bias=True)\n",
            "  (hid_layer3): Linear(in_features=125, out_features=65, bias=True)\n",
            "  (out_layer): Linear(in_features=65, out_features=10, bias=True)\n",
            "  (relu): ReLU()\n",
            ")\n"
          ]
        }
      ],
      "source": [
        "model = NeuralNetwork().to(device)\n",
        "print(model)"
      ]
    },
    {
      "cell_type": "code",
      "execution_count": null,
      "metadata": {
        "id": "VvIVUtPffwgu"
      },
      "outputs": [],
      "source": [
        "criterion = nn.CrossEntropyLoss()\n",
        "optimizer = torch.optim.SGD(model.parameters(), lr=0.001)"
      ]
    },
    {
      "cell_type": "code",
      "execution_count": null,
      "metadata": {
        "colab": {
          "base_uri": "https://localhost:8080/"
        },
        "id": "9-QAjRmDgQ5u",
        "outputId": "390d8e48-67eb-408d-fb5d-eaf4f752e572"
      },
      "outputs": [
        {
          "name": "stdout",
          "output_type": "stream",
          "text": [
            "epoch: 1 loss: 4306.6383\n",
            "epoch: 2 loss: 4272.2149\n",
            "epoch: 3 loss: 4183.9585\n",
            "epoch: 4 loss: 3769.8767\n",
            "epoch: 5 loss: 2643.6927\n",
            "epoch: 6 loss: 1758.2695\n",
            "epoch: 7 loss: 1284.4406\n",
            "epoch: 8 loss: 1058.2413\n",
            "epoch: 9 loss: 912.6521\n",
            "epoch: 10 loss: 820.5994\n",
            "epoch: 11 loss: 765.2775\n",
            "epoch: 12 loss: 724.4265\n",
            "epoch: 13 loss: 692.2097\n",
            "epoch: 14 loss: 665.1561\n",
            "epoch: 15 loss: 640.8578\n",
            "epoch: 16 loss: 618.2644\n",
            "epoch: 17 loss: 597.9699\n",
            "epoch: 18 loss: 578.9119\n",
            "epoch: 19 loss: 560.2485\n",
            "epoch: 20 loss: 542.9670\n",
            "epoch: 21 loss: 526.0958\n",
            "epoch: 22 loss: 509.9294\n",
            "epoch: 23 loss: 493.8302\n",
            "epoch: 24 loss: 477.4324\n",
            "epoch: 25 loss: 462.8428\n",
            "epoch: 26 loss: 447.3103\n",
            "epoch: 27 loss: 433.3546\n",
            "epoch: 28 loss: 418.7587\n",
            "epoch: 29 loss: 404.7241\n",
            "epoch: 30 loss: 391.1082\n",
            "epoch: 31 loss: 378.3517\n",
            "epoch: 32 loss: 366.0648\n",
            "epoch: 33 loss: 353.9290\n",
            "epoch: 34 loss: 342.9104\n",
            "epoch: 35 loss: 332.8526\n",
            "epoch: 36 loss: 322.4770\n",
            "epoch: 37 loss: 312.3003\n",
            "epoch: 38 loss: 302.8284\n",
            "epoch: 39 loss: 294.1493\n",
            "epoch: 40 loss: 285.8321\n",
            "epoch: 41 loss: 278.3546\n",
            "epoch: 42 loss: 270.2457\n",
            "epoch: 43 loss: 262.9130\n",
            "epoch: 44 loss: 255.7518\n",
            "epoch: 45 loss: 249.0781\n",
            "epoch: 46 loss: 242.7976\n",
            "epoch: 47 loss: 236.4311\n",
            "epoch: 48 loss: 230.5513\n",
            "epoch: 49 loss: 224.6327\n",
            "epoch: 50 loss: 218.4730\n"
          ]
        }
      ],
      "source": [
        "# train model\n",
        "for epoch in range(50):\n",
        "    total_loss = 0\n",
        "    for img, lab in train_loader:\n",
        "        img, lab = img.to(device), lab.to(device)\n",
        "        img = img.reshape(-1, 28*28)\n",
        "        pred = model(img)\n",
        "\n",
        "        optimizer.zero_grad()\n",
        "        loss = criterion(pred, lab)\n",
        "        loss.backward()\n",
        "        optimizer.step()\n",
        "\n",
        "        total_loss += loss.item()\n",
        "\n",
        "    print(f\"epoch: {epoch+1} loss: {total_loss:.4f}\")"
      ]
    },
    {
      "cell_type": "code",
      "execution_count": null,
      "metadata": {
        "colab": {
          "base_uri": "https://localhost:8080/"
        },
        "id": "8Et2z-Fohy7O",
        "outputId": "0b400f9e-bf88-48b2-d788-03fa351f1629"
      },
      "outputs": [
        {
          "name": "stdout",
          "output_type": "stream",
          "text": [
            "Model accuracy is 96.01%\n"
          ]
        }
      ],
      "source": [
        "# Evalute model\n",
        "with torch.no_grad():\n",
        "    total = 0\n",
        "    total_correct = 0\n",
        "    for imgs, labs in test_loader:\n",
        "\n",
        "        imgs, labs = imgs.to(device), labs.to(device)\n",
        "        imgs = imgs.reshape(-1, 28*28)\n",
        "        output = model(imgs)\n",
        "        predict = torch.argmax(output, dim=1)\n",
        "\n",
        "        total += imgs.size(0)\n",
        "        total_correct += (predict == labs).sum().item()\n",
        "\n",
        "    print(f\"Model accuracy is {total_correct/total*100:0.2f}%\")"
      ]
    },
    {
      "cell_type": "code",
      "execution_count": null,
      "metadata": {
        "id": "-KGGrXuAUY-O"
      },
      "outputs": [],
      "source": [
        "sample = iter(test_loader)\n",
        "img, _ = next(sample)"
      ]
    },
    {
      "cell_type": "code",
      "execution_count": null,
      "metadata": {
        "id": "bvTPCPzOUnJP"
      },
      "outputs": [],
      "source": [
        "def prediction(imgs):\n",
        "    with torch.no_grad():\n",
        "        imgs = imgs.to(device)\n",
        "        imgs = imgs.reshape(-1, 28*28)\n",
        "        out = model(imgs)\n",
        "        prediction = torch.argmax(out, 1)\n",
        "        return prediction"
      ]
    },
    {
      "cell_type": "code",
      "execution_count": null,
      "metadata": {
        "id": "WRPcXKwVWCkT"
      },
      "outputs": [],
      "source": [
        "pred_lab = prediction(img).cpu()"
      ]
    },
    {
      "cell_type": "code",
      "execution_count": null,
      "metadata": {
        "colab": {
          "base_uri": "https://localhost:8080/",
          "height": 383
        },
        "id": "ii5YfxIQUXg6",
        "outputId": "a950b841-90e2-4898-e5c0-681923c06a57"
      },
      "outputs": [
        {
          "data": {
            "image/png": "[encoded data removed]",
            "text/plain": [
              "<Figure size 640x480 with 21 Axes>"
            ]
          },
          "metadata": {},
          "output_type": "display_data"
        }
      ],
      "source": [
        "for i in range(21):\n",
        "    plt.subplot(3, 7, i+1)\n",
        "    plt.imshow(img[i][0])\n",
        "    plt.title(np.array(pred_lab)[i])\n",
        "    plt.tight_layout()"
      ]
    }
  ],
  "metadata": {
    "accelerator": "GPU",
    "colab": {
      "collapsed_sections": [
        "74w2S_3yWBxa",
        "RqK_PRGFWik_"
      ],
      "gpuType": "T4",
      "provenance": []
    },
    "kernelspec": {
      "display_name": "env_assignment",
      "language": "python",
      "name": "python3"
    },
    "language_info": {
      "name": "python",
      "version": "3.13.1"
    }
  },
  "nbformat": 4,
  "nbformat_minor": 0
}
