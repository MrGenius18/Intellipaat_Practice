{
 "cells": [
  {
   "cell_type": "code",
   "execution_count": 1,
   "id": "85c7a51b-90af-4f01-aaff-8b0285d691be",
   "metadata": {},
   "outputs": [],
   "source": [
    "import numpy as np\n",
    "import pandas as pd\n",
    "\n",
    "np.random.seed(1212)\n",
    "\n",
    "import keras\n",
    "from keras.utils import to_categorical\n",
    "from keras.models import Model\n",
    "from keras.layers import *\n",
    "from keras import optimizers"
   ]
  },
  {
   "cell_type": "markdown",
   "id": "a89de171-2e72-4461-81b7-9ec097282c9a",
   "metadata": {},
   "source": [
    "# Load Dataset"
   ]
  },
  {
   "cell_type": "code",
   "execution_count": 2,
   "id": "c578e16a-ecf6-4e0f-b2af-f898d7104e65",
   "metadata": {},
   "outputs": [],
   "source": [
    "df_train = pd.read_csv(\"train.csv\")\n",
    "df_test = pd.read_csv(\"test.csv\")"
   ]
  },
  {
   "cell_type": "code",
   "execution_count": 3,
   "id": "ee311f46-8dec-48a5-94f5-cb1762bde850",
   "metadata": {},
   "outputs": [
    {
     "data": {
      "text/html": [
       "<div>\n",
       "<style scoped>\n",
       "    .dataframe tbody tr th:only-of-type {\n",
       "        vertical-align: middle;\n",
       "    }\n",
       "\n",
       "    .dataframe tbody tr th {\n",
       "        vertical-align: top;\n",
       "    }\n",
       "\n",
       "    .dataframe thead th {\n",
       "        text-align: right;\n",
       "    }\n",
       "</style>\n",
       "<table border=\"1\" class=\"dataframe\">\n",
       "  <thead>\n",
       "    <tr style=\"text-align: right;\">\n",
       "      <th></th>\n",
       "      <th>label</th>\n",
       "      <th>pixel0</th>\n",
       "      <th>pixel1</th>\n",
       "      <th>pixel2</th>\n",
       "      <th>pixel3</th>\n",
       "      <th>pixel4</th>\n",
       "      <th>pixel5</th>\n",
       "      <th>pixel6</th>\n",
       "      <th>pixel7</th>\n",
       "      <th>pixel8</th>\n",
       "      <th>...</th>\n",
       "      <th>pixel774</th>\n",
       "      <th>pixel775</th>\n",
       "      <th>pixel776</th>\n",
       "      <th>pixel777</th>\n",
       "      <th>pixel778</th>\n",
       "      <th>pixel779</th>\n",
       "      <th>pixel780</th>\n",
       "      <th>pixel781</th>\n",
       "      <th>pixel782</th>\n",
       "      <th>pixel783</th>\n",
       "    </tr>\n",
       "  </thead>\n",
       "  <tbody>\n",
       "    <tr>\n",
       "      <th>0</th>\n",
       "      <td>1</td>\n",
       "      <td>0</td>\n",
       "      <td>0</td>\n",
       "      <td>0</td>\n",
       "      <td>0</td>\n",
       "      <td>0</td>\n",
       "      <td>0</td>\n",
       "      <td>0</td>\n",
       "      <td>0</td>\n",
       "      <td>0</td>\n",
       "      <td>...</td>\n",
       "      <td>0</td>\n",
       "      <td>0</td>\n",
       "      <td>0</td>\n",
       "      <td>0</td>\n",
       "      <td>0</td>\n",
       "      <td>0</td>\n",
       "      <td>0</td>\n",
       "      <td>0</td>\n",
       "      <td>0</td>\n",
       "      <td>0</td>\n",
       "    </tr>\n",
       "    <tr>\n",
       "      <th>1</th>\n",
       "      <td>0</td>\n",
       "      <td>0</td>\n",
       "      <td>0</td>\n",
       "      <td>0</td>\n",
       "      <td>0</td>\n",
       "      <td>0</td>\n",
       "      <td>0</td>\n",
       "      <td>0</td>\n",
       "      <td>0</td>\n",
       "      <td>0</td>\n",
       "      <td>...</td>\n",
       "      <td>0</td>\n",
       "      <td>0</td>\n",
       "      <td>0</td>\n",
       "      <td>0</td>\n",
       "      <td>0</td>\n",
       "      <td>0</td>\n",
       "      <td>0</td>\n",
       "      <td>0</td>\n",
       "      <td>0</td>\n",
       "      <td>0</td>\n",
       "    </tr>\n",
       "    <tr>\n",
       "      <th>2</th>\n",
       "      <td>1</td>\n",
       "      <td>0</td>\n",
       "      <td>0</td>\n",
       "      <td>0</td>\n",
       "      <td>0</td>\n",
       "      <td>0</td>\n",
       "      <td>0</td>\n",
       "      <td>0</td>\n",
       "      <td>0</td>\n",
       "      <td>0</td>\n",
       "      <td>...</td>\n",
       "      <td>0</td>\n",
       "      <td>0</td>\n",
       "      <td>0</td>\n",
       "      <td>0</td>\n",
       "      <td>0</td>\n",
       "      <td>0</td>\n",
       "      <td>0</td>\n",
       "      <td>0</td>\n",
       "      <td>0</td>\n",
       "      <td>0</td>\n",
       "    </tr>\n",
       "    <tr>\n",
       "      <th>3</th>\n",
       "      <td>4</td>\n",
       "      <td>0</td>\n",
       "      <td>0</td>\n",
       "      <td>0</td>\n",
       "      <td>0</td>\n",
       "      <td>0</td>\n",
       "      <td>0</td>\n",
       "      <td>0</td>\n",
       "      <td>0</td>\n",
       "      <td>0</td>\n",
       "      <td>...</td>\n",
       "      <td>0</td>\n",
       "      <td>0</td>\n",
       "      <td>0</td>\n",
       "      <td>0</td>\n",
       "      <td>0</td>\n",
       "      <td>0</td>\n",
       "      <td>0</td>\n",
       "      <td>0</td>\n",
       "      <td>0</td>\n",
       "      <td>0</td>\n",
       "    </tr>\n",
       "    <tr>\n",
       "      <th>4</th>\n",
       "      <td>0</td>\n",
       "      <td>0</td>\n",
       "      <td>0</td>\n",
       "      <td>0</td>\n",
       "      <td>0</td>\n",
       "      <td>0</td>\n",
       "      <td>0</td>\n",
       "      <td>0</td>\n",
       "      <td>0</td>\n",
       "      <td>0</td>\n",
       "      <td>...</td>\n",
       "      <td>0</td>\n",
       "      <td>0</td>\n",
       "      <td>0</td>\n",
       "      <td>0</td>\n",
       "      <td>0</td>\n",
       "      <td>0</td>\n",
       "      <td>0</td>\n",
       "      <td>0</td>\n",
       "      <td>0</td>\n",
       "      <td>0</td>\n",
       "    </tr>\n",
       "  </tbody>\n",
       "</table>\n",
       "<p>5 rows × 785 columns</p>\n",
       "</div>"
      ],
      "text/plain": [
       "   label  pixel0  pixel1  pixel2  pixel3  pixel4  pixel5  pixel6  pixel7  \\\n",
       "0      1       0       0       0       0       0       0       0       0   \n",
       "1      0       0       0       0       0       0       0       0       0   \n",
       "2      1       0       0       0       0       0       0       0       0   \n",
       "3      4       0       0       0       0       0       0       0       0   \n",
       "4      0       0       0       0       0       0       0       0       0   \n",
       "\n",
       "   pixel8  ...  pixel774  pixel775  pixel776  pixel777  pixel778  pixel779  \\\n",
       "0       0  ...         0         0         0         0         0         0   \n",
       "1       0  ...         0         0         0         0         0         0   \n",
       "2       0  ...         0         0         0         0         0         0   \n",
       "3       0  ...         0         0         0         0         0         0   \n",
       "4       0  ...         0         0         0         0         0         0   \n",
       "\n",
       "   pixel780  pixel781  pixel782  pixel783  \n",
       "0         0         0         0         0  \n",
       "1         0         0         0         0  \n",
       "2         0         0         0         0  \n",
       "3         0         0         0         0  \n",
       "4         0         0         0         0  \n",
       "\n",
       "[5 rows x 785 columns]"
      ]
     },
     "execution_count": 3,
     "metadata": {},
     "output_type": "execute_result"
    }
   ],
   "source": [
    "df_train.head() # 784 pixel, 1 label"
   ]
  },
  {
   "cell_type": "code",
   "execution_count": 4,
   "id": "0220d4e9-a48c-47ee-9c0d-01ecd1e43da2",
   "metadata": {},
   "outputs": [
    {
     "data": {
      "text/plain": [
       "((42000, 785), (28000, 784))"
      ]
     },
     "execution_count": 4,
     "metadata": {},
     "output_type": "execute_result"
    }
   ],
   "source": [
    "df_train.shape, df_test.shape"
   ]
  },
  {
   "cell_type": "markdown",
   "id": "b6f12379-27c0-4f97-a814-508dc474364f",
   "metadata": {},
   "source": [
    "# Split the data"
   ]
  },
  {
   "cell_type": "code",
   "execution_count": 5,
   "id": "32ac1f3e-a9bb-4ca9-bcb3-19cc7341cf15",
   "metadata": {},
   "outputs": [],
   "source": [
    "x = df_train.iloc[:, 1:]\n",
    "y = df_train.iloc[:, 0]\n",
    "\n",
    "x_test = df_test"
   ]
  },
  {
   "cell_type": "code",
   "execution_count": 6,
   "id": "ad8b4922-fd88-4e34-9bc9-1d11aa1a4ac3",
   "metadata": {},
   "outputs": [],
   "source": [
    "from sklearn.model_selection import train_test_split\n",
    "\n",
    "x_train, x_cv, y_train, y_cv = train_test_split(x, y, test_size=0.2, random_state=1212)"
   ]
  },
  {
   "cell_type": "markdown",
   "id": "66833a3a-8893-4b11-8734-a579d103ca64",
   "metadata": {},
   "source": [
    "# convert the data for dataFrame to np_array"
   ]
  },
  {
   "cell_type": "code",
   "execution_count": 7,
   "id": "313f9b82-185f-498a-aa09-a7c6378e8a97",
   "metadata": {},
   "outputs": [],
   "source": [
    "x_train = x_train.to_numpy()\n",
    "x_cv = x_cv.to_numpy()\n",
    "\n",
    "x_test = x_test.to_numpy()"
   ]
  },
  {
   "cell_type": "markdown",
   "id": "85f0be43-5e5b-40eb-ad6f-38731f2bbe07",
   "metadata": {},
   "source": [
    "# find the pixel range"
   ]
  },
  {
   "cell_type": "code",
   "execution_count": 8,
   "id": "2bd81553-ba82-4ad9-b940-920b5cc4ec30",
   "metadata": {},
   "outputs": [
    {
     "name": "stdout",
     "output_type": "stream",
     "text": [
      "0 255\n"
     ]
    }
   ],
   "source": [
    "print(min(x_train[1]), max(x_train[1]))"
   ]
  },
  {
   "cell_type": "markdown",
   "id": "9433bf4f-80b1-4953-a783-9c1f284a7258",
   "metadata": {},
   "source": [
    "# Feature Normalization"
   ]
  },
  {
   "cell_type": "code",
   "execution_count": 9,
   "id": "8151eef9-68a4-4544-936c-c1b3b10b5e0d",
   "metadata": {},
   "outputs": [],
   "source": [
    "x_train = x_train.astype('float32')\n",
    "x_test = x_test.astype('float32')\n",
    "x_cv = x_cv.astype('float32')\n",
    "\n",
    "x_train /= 255\n",
    "x_test /= 255\n",
    "x_cv /= 255"
   ]
  },
  {
   "cell_type": "markdown",
   "id": "3d951191-546e-4f59-a4ae-8ec3a9120c70",
   "metadata": {},
   "source": [
    "# convert labels to One Hot Encoded"
   ]
  },
  {
   "cell_type": "code",
   "execution_count": 10,
   "id": "962a794d-afb7-4dc9-b909-c65867c9fbcf",
   "metadata": {},
   "outputs": [],
   "source": [
    "# 0 to 9 digits so use 10\n",
    "y_train = to_categorical(y_train, 10)\n",
    "y_cv = to_categorical(y_cv, 10)"
   ]
  },
  {
   "cell_type": "code",
   "execution_count": 11,
   "id": "2323cea7-38c6-45d4-9bdd-6c4bda6cdf18",
   "metadata": {},
   "outputs": [
    {
     "data": {
      "text/plain": [
       "(array([0., 0., 1., 0., 0., 0., 0., 0., 0., 0.]),\n",
       " array([0., 0., 0., 0., 0., 0., 0., 1., 0., 0.]))"
      ]
     },
     "execution_count": 11,
     "metadata": {},
     "output_type": "execute_result"
    }
   ],
   "source": [
    "y_train[0], y_train[3]"
   ]
  },
  {
   "cell_type": "markdown",
   "id": "95e22cbf-d23a-4aef-a128-b9239a4dc426",
   "metadata": {},
   "source": [
    "# create a NN model"
   ]
  },
  {
   "cell_type": "code",
   "execution_count": 12,
   "id": "71a1c8c4-7276-4c0c-a616-bf6d26c3f5db",
   "metadata": {},
   "outputs": [],
   "source": [
    "inp = Input(shape=(784,))\n",
    "x = Dense(300, activation='relu', name='Hidden_Layer_1')(inp)\n",
    "x = Dense(100, activation='relu', name='Hidden_Layer_2')(x)\n",
    "x = Dense(100, activation='relu', name='Hidden_Layer_3')(x)\n",
    "x = Dense(200, activation='relu', name='Hidden_Layer_4')(x)\n",
    "outp = Dense(10, activation='softmax', name='Output_Layer')(x)"
   ]
  },
  {
   "cell_type": "markdown",
   "id": "d9bbb780-b5a4-4d57-8c87-04ed3abb8a93",
   "metadata": {},
   "source": [
    "# Use SGD optimizers Model"
   ]
  },
  {
   "cell_type": "code",
   "execution_count": 13,
   "id": "72ad42a1-63e8-44c8-a5bf-8db7cd700ab3",
   "metadata": {},
   "outputs": [
    {
     "data": {
      "text/html": [
       "<pre style=\"white-space:pre;overflow-x:auto;line-height:normal;font-family:Menlo,'DejaVu Sans Mono',consolas,'Courier New',monospace\"><span style=\"font-weight: bold\">Model: \"functional\"</span>\n",
       "</pre>\n"
      ],
      "text/plain": [
       "\u001b[1mModel: \"functional\"\u001b[0m\n"
      ]
     },
     "metadata": {},
     "output_type": "display_data"
    },
    {
     "data": {
      "text/html": [
       "<pre style=\"white-space:pre;overflow-x:auto;line-height:normal;font-family:Menlo,'DejaVu Sans Mono',consolas,'Courier New',monospace\">┏━━━━━━━━━━━━━━━━━━━━━━━━━━━━━━━━━┳━━━━━━━━━━━━━━━━━━━━━━━━┳━━━━━━━━━━━━━━━┓\n",
       "┃<span style=\"font-weight: bold\"> Layer (type)                    </span>┃<span style=\"font-weight: bold\"> Output Shape           </span>┃<span style=\"font-weight: bold\">       Param # </span>┃\n",
       "┡━━━━━━━━━━━━━━━━━━━━━━━━━━━━━━━━━╇━━━━━━━━━━━━━━━━━━━━━━━━╇━━━━━━━━━━━━━━━┩\n",
       "│ input_layer (<span style=\"color: #0087ff; text-decoration-color: #0087ff\">InputLayer</span>)        │ (<span style=\"color: #00d7ff; text-decoration-color: #00d7ff\">None</span>, <span style=\"color: #00af00; text-decoration-color: #00af00\">784</span>)            │             <span style=\"color: #00af00; text-decoration-color: #00af00\">0</span> │\n",
       "├─────────────────────────────────┼────────────────────────┼───────────────┤\n",
       "│ Hidden_Layer_1 (<span style=\"color: #0087ff; text-decoration-color: #0087ff\">Dense</span>)          │ (<span style=\"color: #00d7ff; text-decoration-color: #00d7ff\">None</span>, <span style=\"color: #00af00; text-decoration-color: #00af00\">300</span>)            │       <span style=\"color: #00af00; text-decoration-color: #00af00\">235,500</span> │\n",
       "├─────────────────────────────────┼────────────────────────┼───────────────┤\n",
       "│ Hidden_Layer_2 (<span style=\"color: #0087ff; text-decoration-color: #0087ff\">Dense</span>)          │ (<span style=\"color: #00d7ff; text-decoration-color: #00d7ff\">None</span>, <span style=\"color: #00af00; text-decoration-color: #00af00\">100</span>)            │        <span style=\"color: #00af00; text-decoration-color: #00af00\">30,100</span> │\n",
       "├─────────────────────────────────┼────────────────────────┼───────────────┤\n",
       "│ Hidden_Layer_3 (<span style=\"color: #0087ff; text-decoration-color: #0087ff\">Dense</span>)          │ (<span style=\"color: #00d7ff; text-decoration-color: #00d7ff\">None</span>, <span style=\"color: #00af00; text-decoration-color: #00af00\">100</span>)            │        <span style=\"color: #00af00; text-decoration-color: #00af00\">10,100</span> │\n",
       "├─────────────────────────────────┼────────────────────────┼───────────────┤\n",
       "│ Hidden_Layer_4 (<span style=\"color: #0087ff; text-decoration-color: #0087ff\">Dense</span>)          │ (<span style=\"color: #00d7ff; text-decoration-color: #00d7ff\">None</span>, <span style=\"color: #00af00; text-decoration-color: #00af00\">200</span>)            │        <span style=\"color: #00af00; text-decoration-color: #00af00\">20,200</span> │\n",
       "├─────────────────────────────────┼────────────────────────┼───────────────┤\n",
       "│ Output_Layer (<span style=\"color: #0087ff; text-decoration-color: #0087ff\">Dense</span>)            │ (<span style=\"color: #00d7ff; text-decoration-color: #00d7ff\">None</span>, <span style=\"color: #00af00; text-decoration-color: #00af00\">10</span>)             │         <span style=\"color: #00af00; text-decoration-color: #00af00\">2,010</span> │\n",
       "└─────────────────────────────────┴────────────────────────┴───────────────┘\n",
       "</pre>\n"
      ],
      "text/plain": [
       "┏━━━━━━━━━━━━━━━━━━━━━━━━━━━━━━━━━┳━━━━━━━━━━━━━━━━━━━━━━━━┳━━━━━━━━━━━━━━━┓\n",
       "┃\u001b[1m \u001b[0m\u001b[1mLayer (type)                   \u001b[0m\u001b[1m \u001b[0m┃\u001b[1m \u001b[0m\u001b[1mOutput Shape          \u001b[0m\u001b[1m \u001b[0m┃\u001b[1m \u001b[0m\u001b[1m      Param #\u001b[0m\u001b[1m \u001b[0m┃\n",
       "┡━━━━━━━━━━━━━━━━━━━━━━━━━━━━━━━━━╇━━━━━━━━━━━━━━━━━━━━━━━━╇━━━━━━━━━━━━━━━┩\n",
       "│ input_layer (\u001b[38;5;33mInputLayer\u001b[0m)        │ (\u001b[38;5;45mNone\u001b[0m, \u001b[38;5;34m784\u001b[0m)            │             \u001b[38;5;34m0\u001b[0m │\n",
       "├─────────────────────────────────┼────────────────────────┼───────────────┤\n",
       "│ Hidden_Layer_1 (\u001b[38;5;33mDense\u001b[0m)          │ (\u001b[38;5;45mNone\u001b[0m, \u001b[38;5;34m300\u001b[0m)            │       \u001b[38;5;34m235,500\u001b[0m │\n",
       "├─────────────────────────────────┼────────────────────────┼───────────────┤\n",
       "│ Hidden_Layer_2 (\u001b[38;5;33mDense\u001b[0m)          │ (\u001b[38;5;45mNone\u001b[0m, \u001b[38;5;34m100\u001b[0m)            │        \u001b[38;5;34m30,100\u001b[0m │\n",
       "├─────────────────────────────────┼────────────────────────┼───────────────┤\n",
       "│ Hidden_Layer_3 (\u001b[38;5;33mDense\u001b[0m)          │ (\u001b[38;5;45mNone\u001b[0m, \u001b[38;5;34m100\u001b[0m)            │        \u001b[38;5;34m10,100\u001b[0m │\n",
       "├─────────────────────────────────┼────────────────────────┼───────────────┤\n",
       "│ Hidden_Layer_4 (\u001b[38;5;33mDense\u001b[0m)          │ (\u001b[38;5;45mNone\u001b[0m, \u001b[38;5;34m200\u001b[0m)            │        \u001b[38;5;34m20,200\u001b[0m │\n",
       "├─────────────────────────────────┼────────────────────────┼───────────────┤\n",
       "│ Output_Layer (\u001b[38;5;33mDense\u001b[0m)            │ (\u001b[38;5;45mNone\u001b[0m, \u001b[38;5;34m10\u001b[0m)             │         \u001b[38;5;34m2,010\u001b[0m │\n",
       "└─────────────────────────────────┴────────────────────────┴───────────────┘\n"
      ]
     },
     "metadata": {},
     "output_type": "display_data"
    },
    {
     "data": {
      "text/html": [
       "<pre style=\"white-space:pre;overflow-x:auto;line-height:normal;font-family:Menlo,'DejaVu Sans Mono',consolas,'Courier New',monospace\"><span style=\"font-weight: bold\"> Total params: </span><span style=\"color: #00af00; text-decoration-color: #00af00\">297,910</span> (1.14 MB)\n",
       "</pre>\n"
      ],
      "text/plain": [
       "\u001b[1m Total params: \u001b[0m\u001b[38;5;34m297,910\u001b[0m (1.14 MB)\n"
      ]
     },
     "metadata": {},
     "output_type": "display_data"
    },
    {
     "data": {
      "text/html": [
       "<pre style=\"white-space:pre;overflow-x:auto;line-height:normal;font-family:Menlo,'DejaVu Sans Mono',consolas,'Courier New',monospace\"><span style=\"font-weight: bold\"> Trainable params: </span><span style=\"color: #00af00; text-decoration-color: #00af00\">297,910</span> (1.14 MB)\n",
       "</pre>\n"
      ],
      "text/plain": [
       "\u001b[1m Trainable params: \u001b[0m\u001b[38;5;34m297,910\u001b[0m (1.14 MB)\n"
      ]
     },
     "metadata": {},
     "output_type": "display_data"
    },
    {
     "data": {
      "text/html": [
       "<pre style=\"white-space:pre;overflow-x:auto;line-height:normal;font-family:Menlo,'DejaVu Sans Mono',consolas,'Courier New',monospace\"><span style=\"font-weight: bold\"> Non-trainable params: </span><span style=\"color: #00af00; text-decoration-color: #00af00\">0</span> (0.00 B)\n",
       "</pre>\n"
      ],
      "text/plain": [
       "\u001b[1m Non-trainable params: \u001b[0m\u001b[38;5;34m0\u001b[0m (0.00 B)\n"
      ]
     },
     "metadata": {},
     "output_type": "display_data"
    }
   ],
   "source": [
    "model1 = Model(inp, outp)\n",
    "model1.summary()"
   ]
  },
  {
   "cell_type": "code",
   "execution_count": 14,
   "id": "c9ae4e6e-8b18-4cdc-95e2-070f9e561420",
   "metadata": {},
   "outputs": [
    {
     "name": "stdout",
     "output_type": "stream",
     "text": [
      "Epoch 1/20\n",
      "336/336 - 4s - 13ms/step - accuracy: 0.8265 - loss: 0.5780 - val_accuracy: 0.9339 - val_loss: 0.2200\n",
      "Epoch 2/20\n",
      "336/336 - 2s - 7ms/step - accuracy: 0.9403 - loss: 0.1942 - val_accuracy: 0.9561 - val_loss: 0.1481\n",
      "Epoch 3/20\n",
      "336/336 - 2s - 7ms/step - accuracy: 0.9585 - loss: 0.1332 - val_accuracy: 0.9610 - val_loss: 0.1260\n",
      "Epoch 4/20\n",
      "336/336 - 2s - 7ms/step - accuracy: 0.9691 - loss: 0.1004 - val_accuracy: 0.9608 - val_loss: 0.1253\n",
      "Epoch 5/20\n",
      "336/336 - 2s - 7ms/step - accuracy: 0.9764 - loss: 0.0758 - val_accuracy: 0.9658 - val_loss: 0.1082\n",
      "Epoch 6/20\n",
      "336/336 - 2s - 7ms/step - accuracy: 0.9822 - loss: 0.0591 - val_accuracy: 0.9725 - val_loss: 0.0947\n",
      "Epoch 7/20\n",
      "336/336 - 2s - 7ms/step - accuracy: 0.9853 - loss: 0.0470 - val_accuracy: 0.9714 - val_loss: 0.0994\n",
      "Epoch 8/20\n",
      "336/336 - 2s - 7ms/step - accuracy: 0.9903 - loss: 0.0347 - val_accuracy: 0.9696 - val_loss: 0.1035\n",
      "Epoch 9/20\n",
      "336/336 - 2s - 7ms/step - accuracy: 0.9915 - loss: 0.0291 - val_accuracy: 0.9701 - val_loss: 0.1054\n",
      "Epoch 10/20\n",
      "336/336 - 2s - 7ms/step - accuracy: 0.9946 - loss: 0.0204 - val_accuracy: 0.9732 - val_loss: 0.0969\n",
      "Epoch 11/20\n",
      "336/336 - 2s - 7ms/step - accuracy: 0.9962 - loss: 0.0155 - val_accuracy: 0.9739 - val_loss: 0.0926\n",
      "Epoch 12/20\n",
      "336/336 - 2s - 7ms/step - accuracy: 0.9970 - loss: 0.0129 - val_accuracy: 0.9739 - val_loss: 0.0954\n",
      "Epoch 13/20\n",
      "336/336 - 2s - 7ms/step - accuracy: 0.9984 - loss: 0.0084 - val_accuracy: 0.9726 - val_loss: 0.0986\n",
      "Epoch 14/20\n",
      "336/336 - 2s - 7ms/step - accuracy: 0.9993 - loss: 0.0055 - val_accuracy: 0.9746 - val_loss: 0.0977\n",
      "Epoch 15/20\n",
      "336/336 - 2s - 7ms/step - accuracy: 0.9989 - loss: 0.0057 - val_accuracy: 0.9761 - val_loss: 0.0970\n",
      "Epoch 16/20\n",
      "336/336 - 2s - 7ms/step - accuracy: 0.9996 - loss: 0.0031 - val_accuracy: 0.9764 - val_loss: 0.0978\n",
      "Epoch 17/20\n",
      "336/336 - 2s - 7ms/step - accuracy: 0.9999 - loss: 0.0018 - val_accuracy: 0.9755 - val_loss: 0.0995\n",
      "Epoch 18/20\n",
      "336/336 - 2s - 7ms/step - accuracy: 0.9998 - loss: 0.0020 - val_accuracy: 0.9760 - val_loss: 0.1009\n",
      "Epoch 19/20\n",
      "336/336 - 2s - 7ms/step - accuracy: 1.0000 - loss: 0.0013 - val_accuracy: 0.9760 - val_loss: 0.1031\n",
      "Epoch 20/20\n",
      "336/336 - 2s - 7ms/step - accuracy: 1.0000 - loss: 0.0011 - val_accuracy: 0.9761 - val_loss: 0.1028\n"
     ]
    }
   ],
   "source": [
    "# we rely on the plain vanilla (Stochastic Gradient Descent) as our optimizing methodology\n",
    "model1.compile(loss='categorical_crossentropy',\n",
    "             optimizer=optimizers.SGD(learning_rate=0.1),\n",
    "             metrics=['accuracy'])\n",
    "\n",
    "# train model\n",
    "history1 = model1.fit(x_train, y_train,\n",
    "                    batch_size=100, epochs=20,\n",
    "                    verbose=2, validation_data=(x_cv,y_cv))"
   ]
  },
  {
   "cell_type": "markdown",
   "id": "8be13c7b-6302-4129-b835-98cd346e19dd",
   "metadata": {},
   "source": [
    "# Use ADAM optimizers Model"
   ]
  },
  {
   "cell_type": "code",
   "execution_count": 21,
   "id": "fe41dcf0-fecd-434c-be48-047addb77a1b",
   "metadata": {},
   "outputs": [
    {
     "data": {
      "text/html": [
       "<pre style=\"white-space:pre;overflow-x:auto;line-height:normal;font-family:Menlo,'DejaVu Sans Mono',consolas,'Courier New',monospace\"><span style=\"font-weight: bold\">Model: \"functional_4\"</span>\n",
       "</pre>\n"
      ],
      "text/plain": [
       "\u001b[1mModel: \"functional_4\"\u001b[0m\n"
      ]
     },
     "metadata": {},
     "output_type": "display_data"
    },
    {
     "data": {
      "text/html": [
       "<pre style=\"white-space:pre;overflow-x:auto;line-height:normal;font-family:Menlo,'DejaVu Sans Mono',consolas,'Courier New',monospace\">┏━━━━━━━━━━━━━━━━━━━━━━━━━━━━━━━━━┳━━━━━━━━━━━━━━━━━━━━━━━━┳━━━━━━━━━━━━━━━┓\n",
       "┃<span style=\"font-weight: bold\"> Layer (type)                    </span>┃<span style=\"font-weight: bold\"> Output Shape           </span>┃<span style=\"font-weight: bold\">       Param # </span>┃\n",
       "┡━━━━━━━━━━━━━━━━━━━━━━━━━━━━━━━━━╇━━━━━━━━━━━━━━━━━━━━━━━━╇━━━━━━━━━━━━━━━┩\n",
       "│ input_layer_4 (<span style=\"color: #0087ff; text-decoration-color: #0087ff\">InputLayer</span>)      │ (<span style=\"color: #00d7ff; text-decoration-color: #00d7ff\">None</span>, <span style=\"color: #00af00; text-decoration-color: #00af00\">784</span>)            │             <span style=\"color: #00af00; text-decoration-color: #00af00\">0</span> │\n",
       "├─────────────────────────────────┼────────────────────────┼───────────────┤\n",
       "│ Hidden_Layer_1 (<span style=\"color: #0087ff; text-decoration-color: #0087ff\">Dense</span>)          │ (<span style=\"color: #00d7ff; text-decoration-color: #00d7ff\">None</span>, <span style=\"color: #00af00; text-decoration-color: #00af00\">300</span>)            │       <span style=\"color: #00af00; text-decoration-color: #00af00\">235,500</span> │\n",
       "├─────────────────────────────────┼────────────────────────┼───────────────┤\n",
       "│ Hidden_Layer_2 (<span style=\"color: #0087ff; text-decoration-color: #0087ff\">Dense</span>)          │ (<span style=\"color: #00d7ff; text-decoration-color: #00d7ff\">None</span>, <span style=\"color: #00af00; text-decoration-color: #00af00\">100</span>)            │        <span style=\"color: #00af00; text-decoration-color: #00af00\">30,100</span> │\n",
       "├─────────────────────────────────┼────────────────────────┼───────────────┤\n",
       "│ Hidden_Layer_3 (<span style=\"color: #0087ff; text-decoration-color: #0087ff\">Dense</span>)          │ (<span style=\"color: #00d7ff; text-decoration-color: #00d7ff\">None</span>, <span style=\"color: #00af00; text-decoration-color: #00af00\">100</span>)            │        <span style=\"color: #00af00; text-decoration-color: #00af00\">10,100</span> │\n",
       "├─────────────────────────────────┼────────────────────────┼───────────────┤\n",
       "│ Hidden_Layer_4 (<span style=\"color: #0087ff; text-decoration-color: #0087ff\">Dense</span>)          │ (<span style=\"color: #00d7ff; text-decoration-color: #00d7ff\">None</span>, <span style=\"color: #00af00; text-decoration-color: #00af00\">200</span>)            │        <span style=\"color: #00af00; text-decoration-color: #00af00\">20,200</span> │\n",
       "├─────────────────────────────────┼────────────────────────┼───────────────┤\n",
       "│ Output_Layer (<span style=\"color: #0087ff; text-decoration-color: #0087ff\">Dense</span>)            │ (<span style=\"color: #00d7ff; text-decoration-color: #00d7ff\">None</span>, <span style=\"color: #00af00; text-decoration-color: #00af00\">10</span>)             │         <span style=\"color: #00af00; text-decoration-color: #00af00\">2,010</span> │\n",
       "└─────────────────────────────────┴────────────────────────┴───────────────┘\n",
       "</pre>\n"
      ],
      "text/plain": [
       "┏━━━━━━━━━━━━━━━━━━━━━━━━━━━━━━━━━┳━━━━━━━━━━━━━━━━━━━━━━━━┳━━━━━━━━━━━━━━━┓\n",
       "┃\u001b[1m \u001b[0m\u001b[1mLayer (type)                   \u001b[0m\u001b[1m \u001b[0m┃\u001b[1m \u001b[0m\u001b[1mOutput Shape          \u001b[0m\u001b[1m \u001b[0m┃\u001b[1m \u001b[0m\u001b[1m      Param #\u001b[0m\u001b[1m \u001b[0m┃\n",
       "┡━━━━━━━━━━━━━━━━━━━━━━━━━━━━━━━━━╇━━━━━━━━━━━━━━━━━━━━━━━━╇━━━━━━━━━━━━━━━┩\n",
       "│ input_layer_4 (\u001b[38;5;33mInputLayer\u001b[0m)      │ (\u001b[38;5;45mNone\u001b[0m, \u001b[38;5;34m784\u001b[0m)            │             \u001b[38;5;34m0\u001b[0m │\n",
       "├─────────────────────────────────┼────────────────────────┼───────────────┤\n",
       "│ Hidden_Layer_1 (\u001b[38;5;33mDense\u001b[0m)          │ (\u001b[38;5;45mNone\u001b[0m, \u001b[38;5;34m300\u001b[0m)            │       \u001b[38;5;34m235,500\u001b[0m │\n",
       "├─────────────────────────────────┼────────────────────────┼───────────────┤\n",
       "│ Hidden_Layer_2 (\u001b[38;5;33mDense\u001b[0m)          │ (\u001b[38;5;45mNone\u001b[0m, \u001b[38;5;34m100\u001b[0m)            │        \u001b[38;5;34m30,100\u001b[0m │\n",
       "├─────────────────────────────────┼────────────────────────┼───────────────┤\n",
       "│ Hidden_Layer_3 (\u001b[38;5;33mDense\u001b[0m)          │ (\u001b[38;5;45mNone\u001b[0m, \u001b[38;5;34m100\u001b[0m)            │        \u001b[38;5;34m10,100\u001b[0m │\n",
       "├─────────────────────────────────┼────────────────────────┼───────────────┤\n",
       "│ Hidden_Layer_4 (\u001b[38;5;33mDense\u001b[0m)          │ (\u001b[38;5;45mNone\u001b[0m, \u001b[38;5;34m200\u001b[0m)            │        \u001b[38;5;34m20,200\u001b[0m │\n",
       "├─────────────────────────────────┼────────────────────────┼───────────────┤\n",
       "│ Output_Layer (\u001b[38;5;33mDense\u001b[0m)            │ (\u001b[38;5;45mNone\u001b[0m, \u001b[38;5;34m10\u001b[0m)             │         \u001b[38;5;34m2,010\u001b[0m │\n",
       "└─────────────────────────────────┴────────────────────────┴───────────────┘\n"
      ]
     },
     "metadata": {},
     "output_type": "display_data"
    },
    {
     "data": {
      "text/html": [
       "<pre style=\"white-space:pre;overflow-x:auto;line-height:normal;font-family:Menlo,'DejaVu Sans Mono',consolas,'Courier New',monospace\"><span style=\"font-weight: bold\"> Total params: </span><span style=\"color: #00af00; text-decoration-color: #00af00\">297,910</span> (1.14 MB)\n",
       "</pre>\n"
      ],
      "text/plain": [
       "\u001b[1m Total params: \u001b[0m\u001b[38;5;34m297,910\u001b[0m (1.14 MB)\n"
      ]
     },
     "metadata": {},
     "output_type": "display_data"
    },
    {
     "data": {
      "text/html": [
       "<pre style=\"white-space:pre;overflow-x:auto;line-height:normal;font-family:Menlo,'DejaVu Sans Mono',consolas,'Courier New',monospace\"><span style=\"font-weight: bold\"> Trainable params: </span><span style=\"color: #00af00; text-decoration-color: #00af00\">297,910</span> (1.14 MB)\n",
       "</pre>\n"
      ],
      "text/plain": [
       "\u001b[1m Trainable params: \u001b[0m\u001b[38;5;34m297,910\u001b[0m (1.14 MB)\n"
      ]
     },
     "metadata": {},
     "output_type": "display_data"
    },
    {
     "data": {
      "text/html": [
       "<pre style=\"white-space:pre;overflow-x:auto;line-height:normal;font-family:Menlo,'DejaVu Sans Mono',consolas,'Courier New',monospace\"><span style=\"font-weight: bold\"> Non-trainable params: </span><span style=\"color: #00af00; text-decoration-color: #00af00\">0</span> (0.00 B)\n",
       "</pre>\n"
      ],
      "text/plain": [
       "\u001b[1m Non-trainable params: \u001b[0m\u001b[38;5;34m0\u001b[0m (0.00 B)\n"
      ]
     },
     "metadata": {},
     "output_type": "display_data"
    }
   ],
   "source": [
    "inp = Input(shape=(784,))\n",
    "x = Dense(300, activation='relu', name='Hidden_Layer_1')(inp)\n",
    "x = Dense(100, activation='relu', name='Hidden_Layer_2')(x)\n",
    "x = Dense(100, activation='relu', name='Hidden_Layer_3')(x)\n",
    "x = Dense(200, activation='relu', name='Hidden_Layer_4')(x)\n",
    "outp = Dense(10, activation='softmax', name='Output_Layer')(x)\n",
    "\n",
    "model2 = Model(inp, outp)\n",
    "model2.summary()"
   ]
  },
  {
   "cell_type": "code",
   "execution_count": 22,
   "id": "a671de19-04c9-4927-804d-6de7c89e7c25",
   "metadata": {},
   "outputs": [
    {
     "name": "stdout",
     "output_type": "stream",
     "text": [
      "Epoch 1/20\n",
      "336/336 - 6s - 17ms/step - accuracy: 0.1108 - loss: 5.5198 - val_accuracy: 0.1086 - val_loss: 2.3055\n",
      "Epoch 2/20\n",
      "336/336 - 3s - 8ms/step - accuracy: 0.1061 - loss: 2.9841 - val_accuracy: 0.1086 - val_loss: 2.3056\n",
      "Epoch 3/20\n",
      "336/336 - 3s - 8ms/step - accuracy: 0.1050 - loss: 2.3067 - val_accuracy: 0.0995 - val_loss: 2.3100\n",
      "Epoch 4/20\n",
      "336/336 - 3s - 8ms/step - accuracy: 0.1036 - loss: 2.3083 - val_accuracy: 0.1086 - val_loss: 2.3092\n",
      "Epoch 5/20\n",
      "336/336 - 3s - 8ms/step - accuracy: 0.1018 - loss: 2.3077 - val_accuracy: 0.1086 - val_loss: 2.3060\n",
      "Epoch 6/20\n",
      "336/336 - 3s - 8ms/step - accuracy: 0.1041 - loss: 2.3088 - val_accuracy: 0.1086 - val_loss: 2.3054\n",
      "Epoch 7/20\n",
      "336/336 - 3s - 8ms/step - accuracy: 0.1064 - loss: 2.3068 - val_accuracy: 0.1086 - val_loss: 2.3068\n",
      "Epoch 8/20\n",
      "336/336 - 3s - 8ms/step - accuracy: 0.1057 - loss: 2.3074 - val_accuracy: 0.0963 - val_loss: 2.3078\n",
      "Epoch 9/20\n",
      "336/336 - 3s - 8ms/step - accuracy: 0.1064 - loss: 2.3086 - val_accuracy: 0.1086 - val_loss: 2.3075\n",
      "Epoch 10/20\n",
      "336/336 - 3s - 8ms/step - accuracy: 0.1018 - loss: 2.3083 - val_accuracy: 0.1038 - val_loss: 2.3052\n",
      "Epoch 11/20\n",
      "336/336 - 3s - 8ms/step - accuracy: 0.1065 - loss: 2.3073 - val_accuracy: 0.1086 - val_loss: 2.3079\n",
      "Epoch 12/20\n",
      "336/336 - 3s - 8ms/step - accuracy: 0.1043 - loss: 2.3084 - val_accuracy: 0.1018 - val_loss: 2.3086\n",
      "Epoch 13/20\n",
      "336/336 - 3s - 8ms/step - accuracy: 0.1058 - loss: 2.3074 - val_accuracy: 0.1018 - val_loss: 2.3092\n",
      "Epoch 14/20\n",
      "336/336 - 3s - 8ms/step - accuracy: 0.1031 - loss: 2.3086 - val_accuracy: 0.0963 - val_loss: 2.3116\n",
      "Epoch 15/20\n",
      "336/336 - 3s - 8ms/step - accuracy: 0.1068 - loss: 2.3077 - val_accuracy: 0.0995 - val_loss: 2.3080\n",
      "Epoch 16/20\n",
      "336/336 - 3s - 8ms/step - accuracy: 0.1045 - loss: 2.3091 - val_accuracy: 0.0963 - val_loss: 2.3103\n",
      "Epoch 17/20\n",
      "336/336 - 3s - 8ms/step - accuracy: 0.1019 - loss: 2.3080 - val_accuracy: 0.1035 - val_loss: 2.3071\n",
      "Epoch 18/20\n",
      "336/336 - 3s - 8ms/step - accuracy: 0.1062 - loss: 2.3074 - val_accuracy: 0.1038 - val_loss: 2.3069\n",
      "Epoch 19/20\n",
      "336/336 - 3s - 8ms/step - accuracy: 0.1054 - loss: 2.3086 - val_accuracy: 0.1038 - val_loss: 2.3084\n",
      "Epoch 20/20\n",
      "336/336 - 3s - 8ms/step - accuracy: 0.1055 - loss: 2.3082 - val_accuracy: 0.0963 - val_loss: 2.3086\n"
     ]
    }
   ],
   "source": [
    "# we rely on the ADAM as our optimizing methodology\n",
    "model2.compile(loss='categorical_crossentropy',\n",
    "             optimizer=optimizers.Adam(learning_rate=0.1),\n",
    "             metrics=['accuracy'])\n",
    "\n",
    "# train model2\n",
    "history2 = model2.fit(x_train, y_train,\n",
    "                    batch_size=100, epochs=20,\n",
    "                    verbose=2, validation_data=(x_cv,y_cv))"
   ]
  },
  {
   "cell_type": "code",
   "execution_count": 17,
   "id": "2f49fb9c-9a9a-451b-b8ed-f970b15deab4",
   "metadata": {},
   "outputs": [
    {
     "data": {
      "text/html": [
       "<pre style=\"white-space:pre;overflow-x:auto;line-height:normal;font-family:Menlo,'DejaVu Sans Mono',consolas,'Courier New',monospace\"><span style=\"font-weight: bold\">Model: \"functional_2\"</span>\n",
       "</pre>\n"
      ],
      "text/plain": [
       "\u001b[1mModel: \"functional_2\"\u001b[0m\n"
      ]
     },
     "metadata": {},
     "output_type": "display_data"
    },
    {
     "data": {
      "text/html": [
       "<pre style=\"white-space:pre;overflow-x:auto;line-height:normal;font-family:Menlo,'DejaVu Sans Mono',consolas,'Courier New',monospace\">┏━━━━━━━━━━━━━━━━━━━━━━━━━━━━━━━━━┳━━━━━━━━━━━━━━━━━━━━━━━━┳━━━━━━━━━━━━━━━┓\n",
       "┃<span style=\"font-weight: bold\"> Layer (type)                    </span>┃<span style=\"font-weight: bold\"> Output Shape           </span>┃<span style=\"font-weight: bold\">       Param # </span>┃\n",
       "┡━━━━━━━━━━━━━━━━━━━━━━━━━━━━━━━━━╇━━━━━━━━━━━━━━━━━━━━━━━━╇━━━━━━━━━━━━━━━┩\n",
       "│ input_layer_2 (<span style=\"color: #0087ff; text-decoration-color: #0087ff\">InputLayer</span>)      │ (<span style=\"color: #00d7ff; text-decoration-color: #00d7ff\">None</span>, <span style=\"color: #00af00; text-decoration-color: #00af00\">784</span>)            │             <span style=\"color: #00af00; text-decoration-color: #00af00\">0</span> │\n",
       "├─────────────────────────────────┼────────────────────────┼───────────────┤\n",
       "│ Hidden_Layer_1 (<span style=\"color: #0087ff; text-decoration-color: #0087ff\">Dense</span>)          │ (<span style=\"color: #00d7ff; text-decoration-color: #00d7ff\">None</span>, <span style=\"color: #00af00; text-decoration-color: #00af00\">300</span>)            │       <span style=\"color: #00af00; text-decoration-color: #00af00\">235,500</span> │\n",
       "├─────────────────────────────────┼────────────────────────┼───────────────┤\n",
       "│ Hidden_Layer_2 (<span style=\"color: #0087ff; text-decoration-color: #0087ff\">Dense</span>)          │ (<span style=\"color: #00d7ff; text-decoration-color: #00d7ff\">None</span>, <span style=\"color: #00af00; text-decoration-color: #00af00\">100</span>)            │        <span style=\"color: #00af00; text-decoration-color: #00af00\">30,100</span> │\n",
       "├─────────────────────────────────┼────────────────────────┼───────────────┤\n",
       "│ Hidden_Layer_3 (<span style=\"color: #0087ff; text-decoration-color: #0087ff\">Dense</span>)          │ (<span style=\"color: #00d7ff; text-decoration-color: #00d7ff\">None</span>, <span style=\"color: #00af00; text-decoration-color: #00af00\">100</span>)            │        <span style=\"color: #00af00; text-decoration-color: #00af00\">10,100</span> │\n",
       "├─────────────────────────────────┼────────────────────────┼───────────────┤\n",
       "│ Hidden_Layer_4 (<span style=\"color: #0087ff; text-decoration-color: #0087ff\">Dense</span>)          │ (<span style=\"color: #00d7ff; text-decoration-color: #00d7ff\">None</span>, <span style=\"color: #00af00; text-decoration-color: #00af00\">200</span>)            │        <span style=\"color: #00af00; text-decoration-color: #00af00\">20,200</span> │\n",
       "├─────────────────────────────────┼────────────────────────┼───────────────┤\n",
       "│ Output_Layer (<span style=\"color: #0087ff; text-decoration-color: #0087ff\">Dense</span>)            │ (<span style=\"color: #00d7ff; text-decoration-color: #00d7ff\">None</span>, <span style=\"color: #00af00; text-decoration-color: #00af00\">10</span>)             │         <span style=\"color: #00af00; text-decoration-color: #00af00\">2,010</span> │\n",
       "└─────────────────────────────────┴────────────────────────┴───────────────┘\n",
       "</pre>\n"
      ],
      "text/plain": [
       "┏━━━━━━━━━━━━━━━━━━━━━━━━━━━━━━━━━┳━━━━━━━━━━━━━━━━━━━━━━━━┳━━━━━━━━━━━━━━━┓\n",
       "┃\u001b[1m \u001b[0m\u001b[1mLayer (type)                   \u001b[0m\u001b[1m \u001b[0m┃\u001b[1m \u001b[0m\u001b[1mOutput Shape          \u001b[0m\u001b[1m \u001b[0m┃\u001b[1m \u001b[0m\u001b[1m      Param #\u001b[0m\u001b[1m \u001b[0m┃\n",
       "┡━━━━━━━━━━━━━━━━━━━━━━━━━━━━━━━━━╇━━━━━━━━━━━━━━━━━━━━━━━━╇━━━━━━━━━━━━━━━┩\n",
       "│ input_layer_2 (\u001b[38;5;33mInputLayer\u001b[0m)      │ (\u001b[38;5;45mNone\u001b[0m, \u001b[38;5;34m784\u001b[0m)            │             \u001b[38;5;34m0\u001b[0m │\n",
       "├─────────────────────────────────┼────────────────────────┼───────────────┤\n",
       "│ Hidden_Layer_1 (\u001b[38;5;33mDense\u001b[0m)          │ (\u001b[38;5;45mNone\u001b[0m, \u001b[38;5;34m300\u001b[0m)            │       \u001b[38;5;34m235,500\u001b[0m │\n",
       "├─────────────────────────────────┼────────────────────────┼───────────────┤\n",
       "│ Hidden_Layer_2 (\u001b[38;5;33mDense\u001b[0m)          │ (\u001b[38;5;45mNone\u001b[0m, \u001b[38;5;34m100\u001b[0m)            │        \u001b[38;5;34m30,100\u001b[0m │\n",
       "├─────────────────────────────────┼────────────────────────┼───────────────┤\n",
       "│ Hidden_Layer_3 (\u001b[38;5;33mDense\u001b[0m)          │ (\u001b[38;5;45mNone\u001b[0m, \u001b[38;5;34m100\u001b[0m)            │        \u001b[38;5;34m10,100\u001b[0m │\n",
       "├─────────────────────────────────┼────────────────────────┼───────────────┤\n",
       "│ Hidden_Layer_4 (\u001b[38;5;33mDense\u001b[0m)          │ (\u001b[38;5;45mNone\u001b[0m, \u001b[38;5;34m200\u001b[0m)            │        \u001b[38;5;34m20,200\u001b[0m │\n",
       "├─────────────────────────────────┼────────────────────────┼───────────────┤\n",
       "│ Output_Layer (\u001b[38;5;33mDense\u001b[0m)            │ (\u001b[38;5;45mNone\u001b[0m, \u001b[38;5;34m10\u001b[0m)             │         \u001b[38;5;34m2,010\u001b[0m │\n",
       "└─────────────────────────────────┴────────────────────────┴───────────────┘\n"
      ]
     },
     "metadata": {},
     "output_type": "display_data"
    },
    {
     "data": {
      "text/html": [
       "<pre style=\"white-space:pre;overflow-x:auto;line-height:normal;font-family:Menlo,'DejaVu Sans Mono',consolas,'Courier New',monospace\"><span style=\"font-weight: bold\"> Total params: </span><span style=\"color: #00af00; text-decoration-color: #00af00\">297,910</span> (1.14 MB)\n",
       "</pre>\n"
      ],
      "text/plain": [
       "\u001b[1m Total params: \u001b[0m\u001b[38;5;34m297,910\u001b[0m (1.14 MB)\n"
      ]
     },
     "metadata": {},
     "output_type": "display_data"
    },
    {
     "data": {
      "text/html": [
       "<pre style=\"white-space:pre;overflow-x:auto;line-height:normal;font-family:Menlo,'DejaVu Sans Mono',consolas,'Courier New',monospace\"><span style=\"font-weight: bold\"> Trainable params: </span><span style=\"color: #00af00; text-decoration-color: #00af00\">297,910</span> (1.14 MB)\n",
       "</pre>\n"
      ],
      "text/plain": [
       "\u001b[1m Trainable params: \u001b[0m\u001b[38;5;34m297,910\u001b[0m (1.14 MB)\n"
      ]
     },
     "metadata": {},
     "output_type": "display_data"
    },
    {
     "data": {
      "text/html": [
       "<pre style=\"white-space:pre;overflow-x:auto;line-height:normal;font-family:Menlo,'DejaVu Sans Mono',consolas,'Courier New',monospace\"><span style=\"font-weight: bold\"> Non-trainable params: </span><span style=\"color: #00af00; text-decoration-color: #00af00\">0</span> (0.00 B)\n",
       "</pre>\n"
      ],
      "text/plain": [
       "\u001b[1m Non-trainable params: \u001b[0m\u001b[38;5;34m0\u001b[0m (0.00 B)\n"
      ]
     },
     "metadata": {},
     "output_type": "display_data"
    }
   ],
   "source": [
    "inp = Input(shape=(784,))\n",
    "x = Dense(300, activation='relu', name='Hidden_Layer_1')(inp)\n",
    "x = Dense(100, activation='relu', name='Hidden_Layer_2')(x)\n",
    "x = Dense(100, activation='relu', name='Hidden_Layer_3')(x)\n",
    "x = Dense(200, activation='relu', name='Hidden_Layer_4')(x)\n",
    "outp = Dense(10, activation='softmax', name='Output_Layer')(x)\n",
    "\n",
    "model3 = Model(inp, outp)\n",
    "model3.summary()"
   ]
  },
  {
   "cell_type": "code",
   "execution_count": 18,
   "id": "a0278bbb-0e66-4ce0-8754-1b1eeda3fe5b",
   "metadata": {},
   "outputs": [
    {
     "name": "stdout",
     "output_type": "stream",
     "text": [
      "Epoch 1/20\n",
      "336/336 - 6s - 17ms/step - accuracy: 0.6437 - loss: 1.3871 - val_accuracy: 0.8193 - val_loss: 0.6049\n",
      "Epoch 2/20\n",
      "336/336 - 3s - 8ms/step - accuracy: 0.7894 - loss: 0.8234 - val_accuracy: 0.4237 - val_loss: 1.5957\n",
      "Epoch 3/20\n",
      "336/336 - 3s - 8ms/step - accuracy: 0.7431 - loss: 0.8536 - val_accuracy: 0.6158 - val_loss: 1.1414\n",
      "Epoch 4/20\n",
      "336/336 - 3s - 8ms/step - accuracy: 0.6431 - loss: 1.0629 - val_accuracy: 0.6012 - val_loss: 1.1604\n",
      "Epoch 5/20\n",
      "336/336 - 3s - 8ms/step - accuracy: 0.7033 - loss: 0.9210 - val_accuracy: 0.7531 - val_loss: 0.8050\n",
      "Epoch 6/20\n",
      "336/336 - 3s - 8ms/step - accuracy: 0.7085 - loss: 0.9606 - val_accuracy: 0.5571 - val_loss: 1.6272\n",
      "Epoch 7/20\n",
      "336/336 - 3s - 8ms/step - accuracy: 0.2501 - loss: 1.9953 - val_accuracy: 0.1874 - val_loss: 1.8998\n",
      "Epoch 8/20\n",
      "336/336 - 3s - 8ms/step - accuracy: 0.1981 - loss: 1.8847 - val_accuracy: 0.1929 - val_loss: 1.8720\n",
      "Epoch 9/20\n",
      "336/336 - 3s - 8ms/step - accuracy: 0.2069 - loss: 1.8638 - val_accuracy: 0.2036 - val_loss: 2.3129\n",
      "Epoch 10/20\n",
      "336/336 - 3s - 8ms/step - accuracy: 0.2082 - loss: 2.0478 - val_accuracy: 0.1940 - val_loss: 1.9468\n",
      "Epoch 11/20\n",
      "336/336 - 3s - 8ms/step - accuracy: 0.1999 - loss: 1.9186 - val_accuracy: 0.2013 - val_loss: 1.8694\n",
      "Epoch 12/20\n",
      "336/336 - 3s - 8ms/step - accuracy: 0.1930 - loss: 1.9321 - val_accuracy: 0.1761 - val_loss: 1.9340\n",
      "Epoch 13/20\n",
      "336/336 - 3s - 8ms/step - accuracy: 0.1971 - loss: 1.8996 - val_accuracy: 0.1915 - val_loss: 1.9302\n",
      "Epoch 14/20\n",
      "336/336 - 3s - 8ms/step - accuracy: 0.2000 - loss: 1.8898 - val_accuracy: 0.1992 - val_loss: 1.8847\n",
      "Epoch 15/20\n",
      "336/336 - 3s - 8ms/step - accuracy: 0.2030 - loss: 1.9209 - val_accuracy: 0.2039 - val_loss: 1.9168\n",
      "Epoch 16/20\n",
      "336/336 - 3s - 8ms/step - accuracy: 0.2082 - loss: 1.8915 - val_accuracy: 0.2038 - val_loss: 1.8617\n",
      "Epoch 17/20\n",
      "336/336 - 5s - 16ms/step - accuracy: 0.2039 - loss: 1.8933 - val_accuracy: 0.1974 - val_loss: 1.9271\n",
      "Epoch 18/20\n",
      "336/336 - 3s - 8ms/step - accuracy: 0.2043 - loss: 1.8658 - val_accuracy: 0.2006 - val_loss: 1.8315\n",
      "Epoch 19/20\n",
      "336/336 - 3s - 8ms/step - accuracy: 0.2041 - loss: 1.8419 - val_accuracy: 0.2076 - val_loss: 1.8451\n",
      "Epoch 20/20\n",
      "336/336 - 3s - 8ms/step - accuracy: 0.2032 - loss: 1.8673 - val_accuracy: 0.2045 - val_loss: 1.8504\n"
     ]
    }
   ],
   "source": [
    "model3.compile(loss='categorical_crossentropy',\n",
    "             optimizer=optimizers.Adam(learning_rate=0.05),\n",
    "             metrics=['accuracy'])\n",
    "\n",
    "history3 = model3.fit(x_train, y_train,\n",
    "                    batch_size=100, epochs=20,\n",
    "                    verbose=2, validation_data=(x_cv,y_cv))"
   ]
  },
  {
   "cell_type": "code",
   "execution_count": 19,
   "id": "e7b7ba09-3a3a-488a-820a-afd3aa55fe1c",
   "metadata": {},
   "outputs": [
    {
     "data": {
      "text/html": [
       "<pre style=\"white-space:pre;overflow-x:auto;line-height:normal;font-family:Menlo,'DejaVu Sans Mono',consolas,'Courier New',monospace\"><span style=\"font-weight: bold\">Model: \"functional_3\"</span>\n",
       "</pre>\n"
      ],
      "text/plain": [
       "\u001b[1mModel: \"functional_3\"\u001b[0m\n"
      ]
     },
     "metadata": {},
     "output_type": "display_data"
    },
    {
     "data": {
      "text/html": [
       "<pre style=\"white-space:pre;overflow-x:auto;line-height:normal;font-family:Menlo,'DejaVu Sans Mono',consolas,'Courier New',monospace\">┏━━━━━━━━━━━━━━━━━━━━━━━━━━━━━━━━━┳━━━━━━━━━━━━━━━━━━━━━━━━┳━━━━━━━━━━━━━━━┓\n",
       "┃<span style=\"font-weight: bold\"> Layer (type)                    </span>┃<span style=\"font-weight: bold\"> Output Shape           </span>┃<span style=\"font-weight: bold\">       Param # </span>┃\n",
       "┡━━━━━━━━━━━━━━━━━━━━━━━━━━━━━━━━━╇━━━━━━━━━━━━━━━━━━━━━━━━╇━━━━━━━━━━━━━━━┩\n",
       "│ input_layer_3 (<span style=\"color: #0087ff; text-decoration-color: #0087ff\">InputLayer</span>)      │ (<span style=\"color: #00d7ff; text-decoration-color: #00d7ff\">None</span>, <span style=\"color: #00af00; text-decoration-color: #00af00\">784</span>)            │             <span style=\"color: #00af00; text-decoration-color: #00af00\">0</span> │\n",
       "├─────────────────────────────────┼────────────────────────┼───────────────┤\n",
       "│ Hidden_Layer_1 (<span style=\"color: #0087ff; text-decoration-color: #0087ff\">Dense</span>)          │ (<span style=\"color: #00d7ff; text-decoration-color: #00d7ff\">None</span>, <span style=\"color: #00af00; text-decoration-color: #00af00\">300</span>)            │       <span style=\"color: #00af00; text-decoration-color: #00af00\">235,500</span> │\n",
       "├─────────────────────────────────┼────────────────────────┼───────────────┤\n",
       "│ Hidden_Layer_2 (<span style=\"color: #0087ff; text-decoration-color: #0087ff\">Dense</span>)          │ (<span style=\"color: #00d7ff; text-decoration-color: #00d7ff\">None</span>, <span style=\"color: #00af00; text-decoration-color: #00af00\">100</span>)            │        <span style=\"color: #00af00; text-decoration-color: #00af00\">30,100</span> │\n",
       "├─────────────────────────────────┼────────────────────────┼───────────────┤\n",
       "│ Hidden_Layer_3 (<span style=\"color: #0087ff; text-decoration-color: #0087ff\">Dense</span>)          │ (<span style=\"color: #00d7ff; text-decoration-color: #00d7ff\">None</span>, <span style=\"color: #00af00; text-decoration-color: #00af00\">100</span>)            │        <span style=\"color: #00af00; text-decoration-color: #00af00\">10,100</span> │\n",
       "├─────────────────────────────────┼────────────────────────┼───────────────┤\n",
       "│ Hidden_Layer_4 (<span style=\"color: #0087ff; text-decoration-color: #0087ff\">Dense</span>)          │ (<span style=\"color: #00d7ff; text-decoration-color: #00d7ff\">None</span>, <span style=\"color: #00af00; text-decoration-color: #00af00\">100</span>)            │        <span style=\"color: #00af00; text-decoration-color: #00af00\">10,100</span> │\n",
       "├─────────────────────────────────┼────────────────────────┼───────────────┤\n",
       "│ Hidden_Layer_5 (<span style=\"color: #0087ff; text-decoration-color: #0087ff\">Dense</span>)          │ (<span style=\"color: #00d7ff; text-decoration-color: #00d7ff\">None</span>, <span style=\"color: #00af00; text-decoration-color: #00af00\">200</span>)            │        <span style=\"color: #00af00; text-decoration-color: #00af00\">20,200</span> │\n",
       "├─────────────────────────────────┼────────────────────────┼───────────────┤\n",
       "│ Output_Layer (<span style=\"color: #0087ff; text-decoration-color: #0087ff\">Dense</span>)            │ (<span style=\"color: #00d7ff; text-decoration-color: #00d7ff\">None</span>, <span style=\"color: #00af00; text-decoration-color: #00af00\">10</span>)             │         <span style=\"color: #00af00; text-decoration-color: #00af00\">2,010</span> │\n",
       "└─────────────────────────────────┴────────────────────────┴───────────────┘\n",
       "</pre>\n"
      ],
      "text/plain": [
       "┏━━━━━━━━━━━━━━━━━━━━━━━━━━━━━━━━━┳━━━━━━━━━━━━━━━━━━━━━━━━┳━━━━━━━━━━━━━━━┓\n",
       "┃\u001b[1m \u001b[0m\u001b[1mLayer (type)                   \u001b[0m\u001b[1m \u001b[0m┃\u001b[1m \u001b[0m\u001b[1mOutput Shape          \u001b[0m\u001b[1m \u001b[0m┃\u001b[1m \u001b[0m\u001b[1m      Param #\u001b[0m\u001b[1m \u001b[0m┃\n",
       "┡━━━━━━━━━━━━━━━━━━━━━━━━━━━━━━━━━╇━━━━━━━━━━━━━━━━━━━━━━━━╇━━━━━━━━━━━━━━━┩\n",
       "│ input_layer_3 (\u001b[38;5;33mInputLayer\u001b[0m)      │ (\u001b[38;5;45mNone\u001b[0m, \u001b[38;5;34m784\u001b[0m)            │             \u001b[38;5;34m0\u001b[0m │\n",
       "├─────────────────────────────────┼────────────────────────┼───────────────┤\n",
       "│ Hidden_Layer_1 (\u001b[38;5;33mDense\u001b[0m)          │ (\u001b[38;5;45mNone\u001b[0m, \u001b[38;5;34m300\u001b[0m)            │       \u001b[38;5;34m235,500\u001b[0m │\n",
       "├─────────────────────────────────┼────────────────────────┼───────────────┤\n",
       "│ Hidden_Layer_2 (\u001b[38;5;33mDense\u001b[0m)          │ (\u001b[38;5;45mNone\u001b[0m, \u001b[38;5;34m100\u001b[0m)            │        \u001b[38;5;34m30,100\u001b[0m │\n",
       "├─────────────────────────────────┼────────────────────────┼───────────────┤\n",
       "│ Hidden_Layer_3 (\u001b[38;5;33mDense\u001b[0m)          │ (\u001b[38;5;45mNone\u001b[0m, \u001b[38;5;34m100\u001b[0m)            │        \u001b[38;5;34m10,100\u001b[0m │\n",
       "├─────────────────────────────────┼────────────────────────┼───────────────┤\n",
       "│ Hidden_Layer_4 (\u001b[38;5;33mDense\u001b[0m)          │ (\u001b[38;5;45mNone\u001b[0m, \u001b[38;5;34m100\u001b[0m)            │        \u001b[38;5;34m10,100\u001b[0m │\n",
       "├─────────────────────────────────┼────────────────────────┼───────────────┤\n",
       "│ Hidden_Layer_5 (\u001b[38;5;33mDense\u001b[0m)          │ (\u001b[38;5;45mNone\u001b[0m, \u001b[38;5;34m200\u001b[0m)            │        \u001b[38;5;34m20,200\u001b[0m │\n",
       "├─────────────────────────────────┼────────────────────────┼───────────────┤\n",
       "│ Output_Layer (\u001b[38;5;33mDense\u001b[0m)            │ (\u001b[38;5;45mNone\u001b[0m, \u001b[38;5;34m10\u001b[0m)             │         \u001b[38;5;34m2,010\u001b[0m │\n",
       "└─────────────────────────────────┴────────────────────────┴───────────────┘\n"
      ]
     },
     "metadata": {},
     "output_type": "display_data"
    },
    {
     "data": {
      "text/html": [
       "<pre style=\"white-space:pre;overflow-x:auto;line-height:normal;font-family:Menlo,'DejaVu Sans Mono',consolas,'Courier New',monospace\"><span style=\"font-weight: bold\"> Total params: </span><span style=\"color: #00af00; text-decoration-color: #00af00\">308,010</span> (1.17 MB)\n",
       "</pre>\n"
      ],
      "text/plain": [
       "\u001b[1m Total params: \u001b[0m\u001b[38;5;34m308,010\u001b[0m (1.17 MB)\n"
      ]
     },
     "metadata": {},
     "output_type": "display_data"
    },
    {
     "data": {
      "text/html": [
       "<pre style=\"white-space:pre;overflow-x:auto;line-height:normal;font-family:Menlo,'DejaVu Sans Mono',consolas,'Courier New',monospace\"><span style=\"font-weight: bold\"> Trainable params: </span><span style=\"color: #00af00; text-decoration-color: #00af00\">308,010</span> (1.17 MB)\n",
       "</pre>\n"
      ],
      "text/plain": [
       "\u001b[1m Trainable params: \u001b[0m\u001b[38;5;34m308,010\u001b[0m (1.17 MB)\n"
      ]
     },
     "metadata": {},
     "output_type": "display_data"
    },
    {
     "data": {
      "text/html": [
       "<pre style=\"white-space:pre;overflow-x:auto;line-height:normal;font-family:Menlo,'DejaVu Sans Mono',consolas,'Courier New',monospace\"><span style=\"font-weight: bold\"> Non-trainable params: </span><span style=\"color: #00af00; text-decoration-color: #00af00\">0</span> (0.00 B)\n",
       "</pre>\n"
      ],
      "text/plain": [
       "\u001b[1m Non-trainable params: \u001b[0m\u001b[38;5;34m0\u001b[0m (0.00 B)\n"
      ]
     },
     "metadata": {},
     "output_type": "display_data"
    }
   ],
   "source": [
    "inp = Input(shape=(784,))\n",
    "x = Dense(300, activation='relu', name='Hidden_Layer_1')(inp)\n",
    "x = Dense(100, activation='relu', name='Hidden_Layer_2')(x)\n",
    "x = Dense(100, activation='relu', name='Hidden_Layer_3')(x)\n",
    "x = Dense(100, activation='relu', name='Hidden_Layer_4')(x)\n",
    "x = Dense(200, activation='relu', name='Hidden_Layer_5')(x)\n",
    "outp = Dense(10, activation='softmax', name='Output_Layer')(x)\n",
    "\n",
    "model4 = Model(inp, outp)\n",
    "model4.summary()"
   ]
  },
  {
   "cell_type": "code",
   "execution_count": 20,
   "id": "964ad7fa-aeb7-4221-afa5-45de85ce2605",
   "metadata": {},
   "outputs": [
    {
     "name": "stdout",
     "output_type": "stream",
     "text": [
      "Epoch 1/20\n",
      "336/336 - 6s - 18ms/step - accuracy: 0.8755 - loss: 0.4082 - val_accuracy: 0.9261 - val_loss: 0.2536\n",
      "Epoch 2/20\n",
      "336/336 - 3s - 8ms/step - accuracy: 0.9503 - loss: 0.1849 - val_accuracy: 0.9513 - val_loss: 0.1936\n",
      "Epoch 3/20\n",
      "336/336 - 3s - 8ms/step - accuracy: 0.9573 - loss: 0.1686 - val_accuracy: 0.9587 - val_loss: 0.1692\n",
      "Epoch 4/20\n",
      "336/336 - 3s - 8ms/step - accuracy: 0.9644 - loss: 0.1373 - val_accuracy: 0.9614 - val_loss: 0.1656\n",
      "Epoch 5/20\n",
      "336/336 - 3s - 8ms/step - accuracy: 0.9673 - loss: 0.1253 - val_accuracy: 0.9598 - val_loss: 0.1637\n",
      "Epoch 6/20\n",
      "336/336 - 3s - 8ms/step - accuracy: 0.9737 - loss: 0.1047 - val_accuracy: 0.9649 - val_loss: 0.1588\n",
      "Epoch 7/20\n",
      "336/336 - 3s - 8ms/step - accuracy: 0.9756 - loss: 0.0988 - val_accuracy: 0.9635 - val_loss: 0.1652\n",
      "Epoch 8/20\n",
      "336/336 - 3s - 9ms/step - accuracy: 0.9738 - loss: 0.1117 - val_accuracy: 0.9619 - val_loss: 0.1611\n",
      "Epoch 9/20\n",
      "336/336 - 3s - 8ms/step - accuracy: 0.9768 - loss: 0.0939 - val_accuracy: 0.9645 - val_loss: 0.1417\n",
      "Epoch 10/20\n",
      "336/336 - 3s - 8ms/step - accuracy: 0.9778 - loss: 0.0941 - val_accuracy: 0.9636 - val_loss: 0.1714\n",
      "Epoch 11/20\n",
      "336/336 - 3s - 8ms/step - accuracy: 0.9734 - loss: 0.1147 - val_accuracy: 0.9614 - val_loss: 0.1697\n",
      "Epoch 12/20\n",
      "336/336 - 3s - 8ms/step - accuracy: 0.9779 - loss: 0.1006 - val_accuracy: 0.9668 - val_loss: 0.1522\n",
      "Epoch 13/20\n",
      "336/336 - 3s - 8ms/step - accuracy: 0.9814 - loss: 0.0789 - val_accuracy: 0.9696 - val_loss: 0.1472\n",
      "Epoch 14/20\n",
      "336/336 - 3s - 8ms/step - accuracy: 0.9826 - loss: 0.0742 - val_accuracy: 0.9664 - val_loss: 0.2460\n",
      "Epoch 15/20\n",
      "336/336 - 3s - 8ms/step - accuracy: 0.9832 - loss: 0.0756 - val_accuracy: 0.9668 - val_loss: 0.1804\n",
      "Epoch 16/20\n",
      "336/336 - 3s - 8ms/step - accuracy: 0.9790 - loss: 0.0936 - val_accuracy: 0.9676 - val_loss: 0.1781\n",
      "Epoch 17/20\n",
      "336/336 - 3s - 8ms/step - accuracy: 0.9821 - loss: 0.0728 - val_accuracy: 0.9693 - val_loss: 0.1437\n",
      "Epoch 18/20\n",
      "336/336 - 3s - 8ms/step - accuracy: 0.9849 - loss: 0.0596 - val_accuracy: 0.9651 - val_loss: 0.2802\n",
      "Epoch 19/20\n",
      "336/336 - 3s - 8ms/step - accuracy: 0.9745 - loss: 0.1305 - val_accuracy: 0.9546 - val_loss: 0.2188\n",
      "Epoch 20/20\n",
      "336/336 - 3s - 9ms/step - accuracy: 0.9799 - loss: 0.0876 - val_accuracy: 0.9655 - val_loss: 0.1623\n"
     ]
    }
   ],
   "source": [
    "model4.compile(loss='categorical_crossentropy',\n",
    "             optimizer=optimizers.Adam(learning_rate=0.01),\n",
    "             metrics=['accuracy'])\n",
    "\n",
    "history4 = model4.fit(x_train, y_train,\n",
    "                    batch_size=100, epochs=20,\n",
    "                    verbose=2, validation_data=(x_cv,y_cv))"
   ]
  },
  {
   "cell_type": "markdown",
   "id": "0648529a-db34-40dd-8b17-a71ab62910de",
   "metadata": {},
   "source": [
    "# using Drop-out Regularization"
   ]
  },
  {
   "cell_type": "code",
   "execution_count": 24,
   "id": "a303d4aa-026c-4098-a659-b4d5bfb0c47c",
   "metadata": {},
   "outputs": [
    {
     "data": {
      "text/html": [
       "<pre style=\"white-space:pre;overflow-x:auto;line-height:normal;font-family:Menlo,'DejaVu Sans Mono',consolas,'Courier New',monospace\"><span style=\"font-weight: bold\">Model: \"functional_6\"</span>\n",
       "</pre>\n"
      ],
      "text/plain": [
       "\u001b[1mModel: \"functional_6\"\u001b[0m\n"
      ]
     },
     "metadata": {},
     "output_type": "display_data"
    },
    {
     "data": {
      "text/html": [
       "<pre style=\"white-space:pre;overflow-x:auto;line-height:normal;font-family:Menlo,'DejaVu Sans Mono',consolas,'Courier New',monospace\">┏━━━━━━━━━━━━━━━━━━━━━━━━━━━━━━━━━┳━━━━━━━━━━━━━━━━━━━━━━━━┳━━━━━━━━━━━━━━━┓\n",
       "┃<span style=\"font-weight: bold\"> Layer (type)                    </span>┃<span style=\"font-weight: bold\"> Output Shape           </span>┃<span style=\"font-weight: bold\">       Param # </span>┃\n",
       "┡━━━━━━━━━━━━━━━━━━━━━━━━━━━━━━━━━╇━━━━━━━━━━━━━━━━━━━━━━━━╇━━━━━━━━━━━━━━━┩\n",
       "│ input_layer_6 (<span style=\"color: #0087ff; text-decoration-color: #0087ff\">InputLayer</span>)      │ (<span style=\"color: #00d7ff; text-decoration-color: #00d7ff\">None</span>, <span style=\"color: #00af00; text-decoration-color: #00af00\">784</span>)            │             <span style=\"color: #00af00; text-decoration-color: #00af00\">0</span> │\n",
       "├─────────────────────────────────┼────────────────────────┼───────────────┤\n",
       "│ Hidden_Layer_1 (<span style=\"color: #0087ff; text-decoration-color: #0087ff\">Dense</span>)          │ (<span style=\"color: #00d7ff; text-decoration-color: #00d7ff\">None</span>, <span style=\"color: #00af00; text-decoration-color: #00af00\">300</span>)            │       <span style=\"color: #00af00; text-decoration-color: #00af00\">235,500</span> │\n",
       "├─────────────────────────────────┼────────────────────────┼───────────────┤\n",
       "│ dropout_3 (<span style=\"color: #0087ff; text-decoration-color: #0087ff\">Dropout</span>)             │ (<span style=\"color: #00d7ff; text-decoration-color: #00d7ff\">None</span>, <span style=\"color: #00af00; text-decoration-color: #00af00\">300</span>)            │             <span style=\"color: #00af00; text-decoration-color: #00af00\">0</span> │\n",
       "├─────────────────────────────────┼────────────────────────┼───────────────┤\n",
       "│ Hidden_Layer_2 (<span style=\"color: #0087ff; text-decoration-color: #0087ff\">Dense</span>)          │ (<span style=\"color: #00d7ff; text-decoration-color: #00d7ff\">None</span>, <span style=\"color: #00af00; text-decoration-color: #00af00\">100</span>)            │        <span style=\"color: #00af00; text-decoration-color: #00af00\">30,100</span> │\n",
       "├─────────────────────────────────┼────────────────────────┼───────────────┤\n",
       "│ dropout_4 (<span style=\"color: #0087ff; text-decoration-color: #0087ff\">Dropout</span>)             │ (<span style=\"color: #00d7ff; text-decoration-color: #00d7ff\">None</span>, <span style=\"color: #00af00; text-decoration-color: #00af00\">100</span>)            │             <span style=\"color: #00af00; text-decoration-color: #00af00\">0</span> │\n",
       "├─────────────────────────────────┼────────────────────────┼───────────────┤\n",
       "│ Hidden_Layer_3 (<span style=\"color: #0087ff; text-decoration-color: #0087ff\">Dense</span>)          │ (<span style=\"color: #00d7ff; text-decoration-color: #00d7ff\">None</span>, <span style=\"color: #00af00; text-decoration-color: #00af00\">100</span>)            │        <span style=\"color: #00af00; text-decoration-color: #00af00\">10,100</span> │\n",
       "├─────────────────────────────────┼────────────────────────┼───────────────┤\n",
       "│ dropout_5 (<span style=\"color: #0087ff; text-decoration-color: #0087ff\">Dropout</span>)             │ (<span style=\"color: #00d7ff; text-decoration-color: #00d7ff\">None</span>, <span style=\"color: #00af00; text-decoration-color: #00af00\">100</span>)            │             <span style=\"color: #00af00; text-decoration-color: #00af00\">0</span> │\n",
       "├─────────────────────────────────┼────────────────────────┼───────────────┤\n",
       "│ Hidden_Layer_4 (<span style=\"color: #0087ff; text-decoration-color: #0087ff\">Dense</span>)          │ (<span style=\"color: #00d7ff; text-decoration-color: #00d7ff\">None</span>, <span style=\"color: #00af00; text-decoration-color: #00af00\">200</span>)            │        <span style=\"color: #00af00; text-decoration-color: #00af00\">20,200</span> │\n",
       "├─────────────────────────────────┼────────────────────────┼───────────────┤\n",
       "│ Output_Layer (<span style=\"color: #0087ff; text-decoration-color: #0087ff\">Dense</span>)            │ (<span style=\"color: #00d7ff; text-decoration-color: #00d7ff\">None</span>, <span style=\"color: #00af00; text-decoration-color: #00af00\">10</span>)             │         <span style=\"color: #00af00; text-decoration-color: #00af00\">2,010</span> │\n",
       "└─────────────────────────────────┴────────────────────────┴───────────────┘\n",
       "</pre>\n"
      ],
      "text/plain": [
       "┏━━━━━━━━━━━━━━━━━━━━━━━━━━━━━━━━━┳━━━━━━━━━━━━━━━━━━━━━━━━┳━━━━━━━━━━━━━━━┓\n",
       "┃\u001b[1m \u001b[0m\u001b[1mLayer (type)                   \u001b[0m\u001b[1m \u001b[0m┃\u001b[1m \u001b[0m\u001b[1mOutput Shape          \u001b[0m\u001b[1m \u001b[0m┃\u001b[1m \u001b[0m\u001b[1m      Param #\u001b[0m\u001b[1m \u001b[0m┃\n",
       "┡━━━━━━━━━━━━━━━━━━━━━━━━━━━━━━━━━╇━━━━━━━━━━━━━━━━━━━━━━━━╇━━━━━━━━━━━━━━━┩\n",
       "│ input_layer_6 (\u001b[38;5;33mInputLayer\u001b[0m)      │ (\u001b[38;5;45mNone\u001b[0m, \u001b[38;5;34m784\u001b[0m)            │             \u001b[38;5;34m0\u001b[0m │\n",
       "├─────────────────────────────────┼────────────────────────┼───────────────┤\n",
       "│ Hidden_Layer_1 (\u001b[38;5;33mDense\u001b[0m)          │ (\u001b[38;5;45mNone\u001b[0m, \u001b[38;5;34m300\u001b[0m)            │       \u001b[38;5;34m235,500\u001b[0m │\n",
       "├─────────────────────────────────┼────────────────────────┼───────────────┤\n",
       "│ dropout_3 (\u001b[38;5;33mDropout\u001b[0m)             │ (\u001b[38;5;45mNone\u001b[0m, \u001b[38;5;34m300\u001b[0m)            │             \u001b[38;5;34m0\u001b[0m │\n",
       "├─────────────────────────────────┼────────────────────────┼───────────────┤\n",
       "│ Hidden_Layer_2 (\u001b[38;5;33mDense\u001b[0m)          │ (\u001b[38;5;45mNone\u001b[0m, \u001b[38;5;34m100\u001b[0m)            │        \u001b[38;5;34m30,100\u001b[0m │\n",
       "├─────────────────────────────────┼────────────────────────┼───────────────┤\n",
       "│ dropout_4 (\u001b[38;5;33mDropout\u001b[0m)             │ (\u001b[38;5;45mNone\u001b[0m, \u001b[38;5;34m100\u001b[0m)            │             \u001b[38;5;34m0\u001b[0m │\n",
       "├─────────────────────────────────┼────────────────────────┼───────────────┤\n",
       "│ Hidden_Layer_3 (\u001b[38;5;33mDense\u001b[0m)          │ (\u001b[38;5;45mNone\u001b[0m, \u001b[38;5;34m100\u001b[0m)            │        \u001b[38;5;34m10,100\u001b[0m │\n",
       "├─────────────────────────────────┼────────────────────────┼───────────────┤\n",
       "│ dropout_5 (\u001b[38;5;33mDropout\u001b[0m)             │ (\u001b[38;5;45mNone\u001b[0m, \u001b[38;5;34m100\u001b[0m)            │             \u001b[38;5;34m0\u001b[0m │\n",
       "├─────────────────────────────────┼────────────────────────┼───────────────┤\n",
       "│ Hidden_Layer_4 (\u001b[38;5;33mDense\u001b[0m)          │ (\u001b[38;5;45mNone\u001b[0m, \u001b[38;5;34m200\u001b[0m)            │        \u001b[38;5;34m20,200\u001b[0m │\n",
       "├─────────────────────────────────┼────────────────────────┼───────────────┤\n",
       "│ Output_Layer (\u001b[38;5;33mDense\u001b[0m)            │ (\u001b[38;5;45mNone\u001b[0m, \u001b[38;5;34m10\u001b[0m)             │         \u001b[38;5;34m2,010\u001b[0m │\n",
       "└─────────────────────────────────┴────────────────────────┴───────────────┘\n"
      ]
     },
     "metadata": {},
     "output_type": "display_data"
    },
    {
     "data": {
      "text/html": [
       "<pre style=\"white-space:pre;overflow-x:auto;line-height:normal;font-family:Menlo,'DejaVu Sans Mono',consolas,'Courier New',monospace\"><span style=\"font-weight: bold\"> Total params: </span><span style=\"color: #00af00; text-decoration-color: #00af00\">297,910</span> (1.14 MB)\n",
       "</pre>\n"
      ],
      "text/plain": [
       "\u001b[1m Total params: \u001b[0m\u001b[38;5;34m297,910\u001b[0m (1.14 MB)\n"
      ]
     },
     "metadata": {},
     "output_type": "display_data"
    },
    {
     "data": {
      "text/html": [
       "<pre style=\"white-space:pre;overflow-x:auto;line-height:normal;font-family:Menlo,'DejaVu Sans Mono',consolas,'Courier New',monospace\"><span style=\"font-weight: bold\"> Trainable params: </span><span style=\"color: #00af00; text-decoration-color: #00af00\">297,910</span> (1.14 MB)\n",
       "</pre>\n"
      ],
      "text/plain": [
       "\u001b[1m Trainable params: \u001b[0m\u001b[38;5;34m297,910\u001b[0m (1.14 MB)\n"
      ]
     },
     "metadata": {},
     "output_type": "display_data"
    },
    {
     "data": {
      "text/html": [
       "<pre style=\"white-space:pre;overflow-x:auto;line-height:normal;font-family:Menlo,'DejaVu Sans Mono',consolas,'Courier New',monospace\"><span style=\"font-weight: bold\"> Non-trainable params: </span><span style=\"color: #00af00; text-decoration-color: #00af00\">0</span> (0.00 B)\n",
       "</pre>\n"
      ],
      "text/plain": [
       "\u001b[1m Non-trainable params: \u001b[0m\u001b[38;5;34m0\u001b[0m (0.00 B)\n"
      ]
     },
     "metadata": {},
     "output_type": "display_data"
    }
   ],
   "source": [
    "inp = Input(shape=(784,))\n",
    "x = Dense(300, activation='relu', name='Hidden_Layer_1')(inp)\n",
    "x = Dropout(0.3)(x)\n",
    "x = Dense(100, activation='relu', name='Hidden_Layer_2')(x)\n",
    "x = Dropout(0.3)(x)\n",
    "x = Dense(100, activation='relu', name='Hidden_Layer_3')(x)\n",
    "x = Dropout(0.3)(x)\n",
    "x = Dense(200, activation='relu', name='Hidden_Layer_4')(x)\n",
    "outp = Dense(10, activation='softmax', name='Output_Layer')(x)\n",
    "\n",
    "model5 = Model(inp, outp)\n",
    "model5.summary()"
   ]
  },
  {
   "cell_type": "code",
   "execution_count": 25,
   "id": "bc95c4ab-d87b-4295-b12d-8a4174c7f855",
   "metadata": {},
   "outputs": [],
   "source": [
    "model5.compile(loss='categorical_crossentropy',\n",
    "             optimizer='adam', # optimizers.Adam(learning_rate=0.01)\n",
    "             metrics=['accuracy'])"
   ]
  },
  {
   "cell_type": "code",
   "execution_count": 26,
   "id": "4d0e370f-eb41-49fc-8977-4b9b7ef9e3db",
   "metadata": {},
   "outputs": [
    {
     "name": "stdout",
     "output_type": "stream",
     "text": [
      "Epoch 1/20\n",
      "336/336 - 7s - 20ms/step - accuracy: 0.8133 - loss: 0.5851 - val_accuracy: 0.9439 - val_loss: 0.1863\n",
      "Epoch 2/20\n",
      "336/336 - 3s - 9ms/step - accuracy: 0.9339 - loss: 0.2281 - val_accuracy: 0.9610 - val_loss: 0.1350\n",
      "Epoch 3/20\n",
      "336/336 - 3s - 8ms/step - accuracy: 0.9508 - loss: 0.1667 - val_accuracy: 0.9669 - val_loss: 0.1115\n",
      "Epoch 4/20\n",
      "336/336 - 3s - 8ms/step - accuracy: 0.9575 - loss: 0.1433 - val_accuracy: 0.9720 - val_loss: 0.1024\n",
      "Epoch 5/20\n",
      "336/336 - 3s - 8ms/step - accuracy: 0.9635 - loss: 0.1254 - val_accuracy: 0.9724 - val_loss: 0.0976\n",
      "Epoch 6/20\n",
      "336/336 - 3s - 9ms/step - accuracy: 0.9675 - loss: 0.1091 - val_accuracy: 0.9740 - val_loss: 0.0952\n",
      "Epoch 7/20\n",
      "336/336 - 3s - 8ms/step - accuracy: 0.9717 - loss: 0.0967 - val_accuracy: 0.9750 - val_loss: 0.0918\n",
      "Epoch 8/20\n",
      "336/336 - 3s - 9ms/step - accuracy: 0.9747 - loss: 0.0894 - val_accuracy: 0.9758 - val_loss: 0.0882\n",
      "Epoch 9/20\n",
      "336/336 - 3s - 9ms/step - accuracy: 0.9754 - loss: 0.0831 - val_accuracy: 0.9742 - val_loss: 0.0915\n",
      "Epoch 10/20\n",
      "336/336 - 3s - 8ms/step - accuracy: 0.9777 - loss: 0.0754 - val_accuracy: 0.9767 - val_loss: 0.0923\n",
      "Epoch 11/20\n",
      "336/336 - 3s - 8ms/step - accuracy: 0.9777 - loss: 0.0734 - val_accuracy: 0.9768 - val_loss: 0.0890\n",
      "Epoch 12/20\n",
      "336/336 - 3s - 9ms/step - accuracy: 0.9793 - loss: 0.0670 - val_accuracy: 0.9767 - val_loss: 0.0899\n",
      "Epoch 13/20\n",
      "336/336 - 3s - 9ms/step - accuracy: 0.9822 - loss: 0.0622 - val_accuracy: 0.9796 - val_loss: 0.0817\n",
      "Epoch 14/20\n",
      "336/336 - 3s - 8ms/step - accuracy: 0.9823 - loss: 0.0596 - val_accuracy: 0.9780 - val_loss: 0.0819\n",
      "Epoch 15/20\n",
      "336/336 - 3s - 9ms/step - accuracy: 0.9836 - loss: 0.0542 - val_accuracy: 0.9781 - val_loss: 0.0849\n",
      "Epoch 16/20\n",
      "336/336 - 3s - 8ms/step - accuracy: 0.9837 - loss: 0.0548 - val_accuracy: 0.9769 - val_loss: 0.0887\n",
      "Epoch 17/20\n",
      "336/336 - 3s - 8ms/step - accuracy: 0.9851 - loss: 0.0483 - val_accuracy: 0.9787 - val_loss: 0.0916\n",
      "Epoch 18/20\n",
      "336/336 - 3s - 9ms/step - accuracy: 0.9856 - loss: 0.0487 - val_accuracy: 0.9783 - val_loss: 0.0882\n",
      "Epoch 19/20\n",
      "336/336 - 3s - 9ms/step - accuracy: 0.9869 - loss: 0.0431 - val_accuracy: 0.9798 - val_loss: 0.0847\n",
      "Epoch 20/20\n",
      "336/336 - 3s - 9ms/step - accuracy: 0.9860 - loss: 0.0452 - val_accuracy: 0.9781 - val_loss: 0.0892\n"
     ]
    }
   ],
   "source": [
    "history5 = model5.fit(x_train, y_train,\n",
    "                    batch_size=100, epochs=20,\n",
    "                    verbose=2, validation_data=(x_cv,y_cv))"
   ]
  },
  {
   "cell_type": "code",
   "execution_count": null,
   "id": "a80c6924-94fc-4dac-b426-9634b6727d0c",
   "metadata": {},
   "outputs": [],
   "source": []
  },
  {
   "cell_type": "code",
   "execution_count": 31,
   "id": "07630cd9-df02-45a1-aeb2-e1dd2c776705",
   "metadata": {},
   "outputs": [
    {
     "name": "stdout",
     "output_type": "stream",
     "text": [
      "\u001b[1m140/140\u001b[0m \u001b[32m━━━━━━━━━━━━━━━━━━━━\u001b[0m\u001b[37m\u001b[0m \u001b[1m1s\u001b[0m 5ms/step\n"
     ]
    },
    {
     "data": {
      "text/html": [
       "<div>\n",
       "<style scoped>\n",
       "    .dataframe tbody tr th:only-of-type {\n",
       "        vertical-align: middle;\n",
       "    }\n",
       "\n",
       "    .dataframe tbody tr th {\n",
       "        vertical-align: top;\n",
       "    }\n",
       "\n",
       "    .dataframe thead th {\n",
       "        text-align: right;\n",
       "    }\n",
       "</style>\n",
       "<table border=\"1\" class=\"dataframe\">\n",
       "  <thead>\n",
       "    <tr style=\"text-align: right;\">\n",
       "      <th></th>\n",
       "      <th>ImageId</th>\n",
       "      <th>Label</th>\n",
       "    </tr>\n",
       "  </thead>\n",
       "  <tbody>\n",
       "    <tr>\n",
       "      <th>0</th>\n",
       "      <td>1</td>\n",
       "      <td>2</td>\n",
       "    </tr>\n",
       "    <tr>\n",
       "      <th>1</th>\n",
       "      <td>2</td>\n",
       "      <td>0</td>\n",
       "    </tr>\n",
       "    <tr>\n",
       "      <th>2</th>\n",
       "      <td>3</td>\n",
       "      <td>9</td>\n",
       "    </tr>\n",
       "    <tr>\n",
       "      <th>3</th>\n",
       "      <td>4</td>\n",
       "      <td>9</td>\n",
       "    </tr>\n",
       "    <tr>\n",
       "      <th>4</th>\n",
       "      <td>5</td>\n",
       "      <td>3</td>\n",
       "    </tr>\n",
       "  </tbody>\n",
       "</table>\n",
       "</div>"
      ],
      "text/plain": [
       "   ImageId  Label\n",
       "0        1      2\n",
       "1        2      0\n",
       "2        3      9\n",
       "3        4      9\n",
       "4        5      3"
      ]
     },
     "execution_count": 31,
     "metadata": {},
     "output_type": "execute_result"
    }
   ],
   "source": [
    "y_pred = model5.predict(x_test, batch_size=200)\n",
    "\n",
    "test_pred = pd.DataFrame(y_pred)\n",
    "test_pred = pd.DataFrame(test_pred.idxmax(axis=1))\n",
    "test_pred.index.name = \"ImageId\"\n",
    "\n",
    "test_pred = test_pred.rename(columns={0:'Label'}).reset_index()\n",
    "test_pred['ImageId'] = test_pred['ImageId'] + 1\n",
    "\n",
    "test_pred.head()"
   ]
  },
  {
   "cell_type": "code",
   "execution_count": 32,
   "id": "fb10b245-f382-46f7-9e14-626575500889",
   "metadata": {},
   "outputs": [],
   "source": [
    "test_pred.to_csv('mnist_submission.csv', index=False)"
   ]
  }
 ],
 "metadata": {
  "kernelspec": {
   "display_name": "Python 3 (ipykernel)",
   "language": "python",
   "name": "python3"
  },
  "language_info": {
   "codemirror_mode": {
    "name": "ipython",
    "version": 3
   },
   "file_extension": ".py",
   "mimetype": "text/x-python",
   "name": "python",
   "nbconvert_exporter": "python",
   "pygments_lexer": "ipython3",
   "version": "3.10.13"
  }
 },
 "nbformat": 4,
 "nbformat_minor": 5
}
