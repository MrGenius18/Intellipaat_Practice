{
 "cells": [
  {
   "cell_type": "code",
   "execution_count": 1,
   "metadata": {},
   "outputs": [],
   "source": [
    "# Define the training data\n",
    "import numpy as np\n",
    "\n",
    "X_train = np.random.random((5000, 32))\n",
    "y_train = np.random.random((5000, 5))"
   ]
  },
  {
   "cell_type": "code",
   "execution_count": 6,
   "metadata": {},
   "outputs": [],
   "source": [
    "# Define the neural network model\n",
    "from keras import models\n",
    "from keras import layers\n",
    "\n",
    "INPUT_DIM = X_train.shape[1]\n",
    "\n",
    "model = models.Sequential()\n",
    "model.add(layers.Dense(16, activation='relu', input_dim=INPUT_DIM))\n",
    "model.add(layers.Dense(5, activation='softmax'))"
   ]
  },
  {
   "cell_type": "code",
   "execution_count": 7,
   "metadata": {},
   "outputs": [],
   "source": [
    "# Configure the learning process\n",
    "from keras import optimizers\n",
    "from keras import metrics\n",
    "\n",
    "model.compile(optimizer='adam', \n",
    "              loss='categorical_crossentropy', \n",
    "              metrics=['accuracy'])"
   ]
  },
  {
   "cell_type": "code",
   "execution_count": 8,
   "metadata": {},
   "outputs": [
    {
     "name": "stdout",
     "output_type": "stream",
     "text": [
      "Epoch 1/10\n",
      "5000/5000 [==============================] - 1s 207us/step - loss: 4.1038 - acc: 0.1970\n",
      "Epoch 2/10\n",
      "5000/5000 [==============================] - 0s 9us/step - loss: 4.0628 - acc: 0.1992\n",
      "Epoch 3/10\n",
      "5000/5000 [==============================] - 0s 10us/step - loss: 4.0510 - acc: 0.2018\n",
      "Epoch 4/10\n",
      "5000/5000 [==============================] - 0s 10us/step - loss: 4.0465 - acc: 0.1968\n",
      "Epoch 5/10\n",
      "5000/5000 [==============================] - 0s 10us/step - loss: 4.0445 - acc: 0.1956\n",
      "Epoch 6/10\n",
      "5000/5000 [==============================] - 0s 10us/step - loss: 4.0430 - acc: 0.1986\n",
      "Epoch 7/10\n",
      "5000/5000 [==============================] - 0s 9us/step - loss: 4.0421 - acc: 0.1946\n",
      "Epoch 8/10\n",
      "5000/5000 [==============================] - 0s 9us/step - loss: 4.0411 - acc: 0.1908\n",
      "Epoch 9/10\n",
      "5000/5000 [==============================] - 0s 9us/step - loss: 4.0404 - acc: 0.1966\n",
      "Epoch 10/10\n",
      "5000/5000 [==============================] - 0s 9us/step - loss: 4.0400 - acc: 0.1908\n"
     ]
    },
    {
     "data": {
      "text/plain": [
       "<keras.callbacks.History at 0x4ec9c88>"
      ]
     },
     "execution_count": 8,
     "metadata": {},
     "output_type": "execute_result"
    }
   ],
   "source": [
    "# Train the model\n",
    "model.fit(X_train, y_train, \n",
    "          batch_size=128, \n",
    "          epochs=10)"
   ]
  },
  {
   "cell_type": "code",
   "execution_count": null,
   "metadata": {},
   "outputs": [],
   "source": []
  }
 ],
 "metadata": {
  "kernelspec": {
   "display_name": "Python 3",
   "language": "python",
   "name": "python3"
  },
  "language_info": {
   "codemirror_mode": {
    "name": "ipython",
    "version": 3
   },
   "file_extension": ".py",
   "mimetype": "text/x-python",
   "name": "python",
   "nbconvert_exporter": "python",
   "pygments_lexer": "ipython3",
   "version": "3.6.8"
  }
 },
 "nbformat": 4,
 "nbformat_minor": 2
}
