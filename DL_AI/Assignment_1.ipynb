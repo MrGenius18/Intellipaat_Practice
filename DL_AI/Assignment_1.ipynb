{
  "cells": [
    {
      "cell_type": "markdown",
      "metadata": {
        "id": "LVYmxOQvE8S_"
      },
      "source": [
        "# `Module 2`: Introduction to Neural Networks"
      ]
    },
    {
      "cell_type": "markdown",
      "metadata": {
        "id": "mMj1y7zTFdVn"
      },
      "source": [
        "### we aim to demonstrate the usage of a simple neural network in **predicting a linear relationship** between input features and the output."
      ]
    },
    {
      "cell_type": "markdown",
      "metadata": {
        "id": "_H-TNCZZF7mR"
      },
      "source": [
        "# `Objective`:\n",
        "### The primary objective is to predict the output value y based on two input features x1 and x2 using a basic neural network model with the equation y=3x1+4x2. The neural network will be trained using a feed-forward and back-propagation mechanism to minimize the error between the predicted and actual values."
      ]
    },
    {
      "cell_type": "markdown",
      "metadata": {
        "id": "IH16u1UyGmfM"
      },
      "source": [
        "-----------------------"
      ]
    },
    {
      "cell_type": "code",
      "execution_count": null,
      "metadata": {
        "id": "Yw_2GGleK54j"
      },
      "outputs": [],
      "source": [
        "import numpy as np\n",
        "import matplotlib.pyplot as plt"
      ]
    },
    {
      "cell_type": "markdown",
      "metadata": {
        "id": "wY96I2-XGYLs"
      },
      "source": [
        "### 1. Activation Functions:\n",
        "* ● Define the sigmoid function, a popular activation function used in neural networks.\n",
        "* ● Define the tanh function, which is another common activation function that returns values between-1 and 1.\n",
        "* ● Define the relu function, which returns positive values as they are and zeroes out negative values."
      ]
    },
    {
      "cell_type": "code",
      "execution_count": null,
      "metadata": {
        "id": "zD1EX5UZKtwG"
      },
      "outputs": [],
      "source": [
        "def sigmoid(x):\n",
        "    return 1 / (1 + np.exp(-x))"
      ]
    },
    {
      "cell_type": "code",
      "execution_count": null,
      "metadata": {
        "id": "GUCREDTrLA2Y"
      },
      "outputs": [],
      "source": [
        "def tanh(x):\n",
        "    return np.tanh(x)"
      ]
    },
    {
      "cell_type": "code",
      "execution_count": null,
      "metadata": {
        "id": "YqEZA_KWLOUw"
      },
      "outputs": [],
      "source": [
        "def relux(x):\n",
        "    return max(0, x)"
      ]
    },
    {
      "cell_type": "markdown",
      "metadata": {
        "id": "HpcA38n3G0x5"
      },
      "source": [
        "### 2. Sample Data:"
      ]
    },
    {
      "cell_type": "code",
      "execution_count": null,
      "metadata": {
        "id": "r_icHgHDE4fc"
      },
      "outputs": [],
      "source": [
        "x1, x2 = 3, 2\n",
        "y_act = 17"
      ]
    },
    {
      "cell_type": "code",
      "execution_count": null,
      "metadata": {
        "colab": {
          "base_uri": "https://localhost:8080/"
        },
        "id": "H8S4m8cOHC_A",
        "outputId": "0646d881-bed6-4c43-fdd3-a8e9fee04ae8"
      },
      "outputs": [
        {
          "name": "stdout",
          "output_type": "stream",
          "text": [
            "w1: 5.18,  w2: 8.93\n"
          ]
        }
      ],
      "source": [
        "w1 = np.random.uniform(1, 10)\n",
        "w2 = np.random.uniform(1, 10)\n",
        "print(f\"w1: {w1:.2f},  w2: {w2:.2f}\")"
      ]
    },
    {
      "cell_type": "markdown",
      "metadata": {
        "id": "7_JeA6vOJ8HH"
      },
      "source": [
        "### 3. Training:\n",
        "* Feed Forward predict\n",
        "* find error using squre method\n",
        "* Back Propogation\n",
        "    * find gradient reduce error\n",
        "    * update weight using lr"
      ]
    },
    {
      "cell_type": "code",
      "execution_count": null,
      "metadata": {
        "colab": {
          "base_uri": "https://localhost:8080/"
        },
        "id": "eL4edCswJZ9q",
        "outputId": "f0a187ce-77bb-49f1-d569-07b34752ace1"
      },
      "outputs": [
        {
          "name": "stdout",
          "output_type": "stream",
          "text": [
            "Epoch: 1: Error=269.47, y_pred=33.42, w1=4.20, w2=8.28\n",
            "Epoch: 2: Error=147.56, y_pred=29.15, w1=3.47, w2=7.79\n",
            "Epoch: 3: Error=80.80, y_pred=25.99, w1=2.93, w2=7.43\n",
            "Epoch: 4: Error=44.25, y_pred=23.65, w1=2.53, w2=7.17\n",
            "Epoch: 5: Error=24.23, y_pred=21.92, w1=2.23, w2=6.97\n",
            "Epoch: 6: Error=13.27, y_pred=20.64, w1=2.02, w2=6.82\n",
            "Epoch: 7: Error=7.27, y_pred=19.70, w1=1.85, w2=6.72\n",
            "Epoch: 8: Error=3.98, y_pred=18.99, w1=1.73, w2=6.64\n",
            "Epoch: 9: Error=2.18, y_pred=18.48, w1=1.65, w2=6.58\n",
            "Epoch: 10: Error=1.19, y_pred=18.09, w1=1.58, w2=6.53\n",
            "Epoch: 11: Error=0.65, y_pred=17.81, w1=1.53, w2=6.50\n",
            "Epoch: 12: Error=0.36, y_pred=17.60, w1=1.50, w2=6.48\n",
            "Epoch: 13: Error=0.20, y_pred=17.44, w1=1.47, w2=6.46\n",
            "Epoch: 14: Error=0.11, y_pred=17.33, w1=1.45, w2=6.45\n",
            "Epoch: 15: Error=0.06, y_pred=17.24, w1=1.44, w2=6.44\n",
            "Epoch: 16: Error=0.03, y_pred=17.18, w1=1.42, w2=6.43\n",
            "Epoch: 17: Error=0.02, y_pred=17.13, w1=1.42, w2=6.42\n",
            "Epoch: 18: Error=0.01, y_pred=17.10, w1=1.41, w2=6.42\n",
            "Epoch: 19: Error=0.01, y_pred=17.07, w1=1.41, w2=6.42\n",
            "Epoch: 20: Error=0.00, y_pred=17.05, w1=1.40, w2=6.41\n"
          ]
        }
      ],
      "source": [
        "lr = 0.01\n",
        "errors = []\n",
        "predictions = []\n",
        "\n",
        "for epoch in range(20):\n",
        "    # feed forward network\n",
        "    y_pred = w1*x1 + w2*x2\n",
        "    predictions.append(y_pred)\n",
        "\n",
        "    # compute error\n",
        "    error = (y_act - y_pred)**2\n",
        "    errors.append(error)\n",
        "\n",
        "    # compute gradient (derror/dw)\n",
        "    grad_w1 = -2 * (y_act - y_pred) * x1\n",
        "    grad_w2 = -2 * (y_act - y_pred) * x2\n",
        "\n",
        "    # update weights\n",
        "    w1 -= lr * grad_w1\n",
        "    w2 -= lr * grad_w2\n",
        "\n",
        "    print(f\"Epoch: {epoch+1}: Error={error:.2f}, y_pred={y_pred:.2f}, w1={w1:.2f}, w2={w2:.2f}\")"
      ]
    },
    {
      "cell_type": "markdown",
      "metadata": {
        "id": "JBjpqOKUSNdz"
      },
      "source": [
        "### 4. Visualization"
      ]
    },
    {
      "cell_type": "code",
      "execution_count": null,
      "metadata": {
        "colab": {
          "base_uri": "https://localhost:8080/"
        },
        "id": "zlpH-O05ROLr",
        "outputId": "bec9a224-a7aa-4e4a-98ec-e86940387afc"
      },
      "outputs": [
        {
          "data": {
            "image/png": "[encoded data removed]",
            "text/plain": [
              "<Figure size 640x480 with 2 Axes>"
            ]
          },
          "metadata": {},
          "output_type": "display_data"
        }
      ],
      "source": [
        "plt.subplot(1, 2, 1)\n",
        "plt.plot(errors, label='error', marker='o')\n",
        "plt.xlabel('Epochs')\n",
        "plt.title('Error Progression')\n",
        "plt.legend()\n",
        "\n",
        "plt.subplot(1, 2, 2)\n",
        "plt.plot(predictions, label='prediction', marker='o')\n",
        "plt.xlabel('Epochs')\n",
        "plt.title('Predicted Progression')\n",
        "plt.legend()\n",
        "\n",
        "plt.tight_layout()\n",
        "plt.show()"
      ]
    }
  ],
  "metadata": {
    "colab": {
      "collapsed_sections": [
        "wY96I2-XGYLs",
        "HpcA38n3G0x5",
        "7_JeA6vOJ8HH",
        "JBjpqOKUSNdz"
      ],
      "provenance": []
    },
    "kernelspec": {
      "display_name": "env_assignment",
      "language": "python",
      "name": "python3"
    },
    "language_info": {
      "name": "python",
      "version": "3.13.1"
    }
  },
  "nbformat": 4,
  "nbformat_minor": 0
}
