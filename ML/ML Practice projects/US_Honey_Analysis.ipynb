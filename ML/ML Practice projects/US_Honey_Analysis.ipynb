{
 "cells": [
  {
   "cell_type": "code",
   "execution_count": 1,
   "id": "87c488df-059e-4de0-892e-9dac43a025b9",
   "metadata": {
    "id": "87c488df-059e-4de0-892e-9dac43a025b9"
   },
   "outputs": [],
   "source": [
    "import pandas as pd\n",
    "import numpy as np\n",
    "import matplotlib.pyplot as plt\n",
    "import seaborn as sns"
   ]
  },
  {
   "cell_type": "code",
   "execution_count": 2,
   "id": "9b1180ff-f550-4020-bdbe-e8bd4db5eb32",
   "metadata": {
    "colab": {
     "base_uri": "https://localhost:8080/",
     "height": 461
    },
    "id": "9b1180ff-f550-4020-bdbe-e8bd4db5eb32",
    "outputId": "f4ea5a7f-904a-4b7c-eae5-6c045bef5607"
   },
   "outputs": [
    {
     "data": {
      "text/html": [
       "<div>\n",
       "<style scoped>\n",
       "    .dataframe tbody tr th:only-of-type {\n",
       "        vertical-align: middle;\n",
       "    }\n",
       "\n",
       "    .dataframe tbody tr th {\n",
       "        vertical-align: top;\n",
       "    }\n",
       "\n",
       "    .dataframe thead th {\n",
       "        text-align: right;\n",
       "    }\n",
       "</style>\n",
       "<table border=\"1\" class=\"dataframe\">\n",
       "  <thead>\n",
       "    <tr style=\"text-align: right;\">\n",
       "      <th></th>\n",
       "      <th>Unnamed: 0</th>\n",
       "      <th>state</th>\n",
       "      <th>colonies_number</th>\n",
       "      <th>yield_per_colony</th>\n",
       "      <th>production</th>\n",
       "      <th>stocks</th>\n",
       "      <th>average_price</th>\n",
       "      <th>value_of_production</th>\n",
       "      <th>year</th>\n",
       "    </tr>\n",
       "  </thead>\n",
       "  <tbody>\n",
       "    <tr>\n",
       "      <th>0</th>\n",
       "      <td>0</td>\n",
       "      <td>Alabama</td>\n",
       "      <td>16000</td>\n",
       "      <td>58</td>\n",
       "      <td>928000</td>\n",
       "      <td>28000</td>\n",
       "      <td>62.00</td>\n",
       "      <td>575000</td>\n",
       "      <td>1995</td>\n",
       "    </tr>\n",
       "    <tr>\n",
       "      <th>1</th>\n",
       "      <td>1</td>\n",
       "      <td>Arizona</td>\n",
       "      <td>52000</td>\n",
       "      <td>79</td>\n",
       "      <td>4108000</td>\n",
       "      <td>986000</td>\n",
       "      <td>68.00</td>\n",
       "      <td>2793000</td>\n",
       "      <td>1995</td>\n",
       "    </tr>\n",
       "    <tr>\n",
       "      <th>2</th>\n",
       "      <td>2</td>\n",
       "      <td>Arkansas</td>\n",
       "      <td>50000</td>\n",
       "      <td>60</td>\n",
       "      <td>3000000</td>\n",
       "      <td>900000</td>\n",
       "      <td>64.00</td>\n",
       "      <td>1920000</td>\n",
       "      <td>1995</td>\n",
       "    </tr>\n",
       "    <tr>\n",
       "      <th>3</th>\n",
       "      <td>3</td>\n",
       "      <td>California</td>\n",
       "      <td>420000</td>\n",
       "      <td>93</td>\n",
       "      <td>39060000</td>\n",
       "      <td>4687000</td>\n",
       "      <td>60.00</td>\n",
       "      <td>23436000</td>\n",
       "      <td>1995</td>\n",
       "    </tr>\n",
       "    <tr>\n",
       "      <th>4</th>\n",
       "      <td>4</td>\n",
       "      <td>Colorado</td>\n",
       "      <td>45000</td>\n",
       "      <td>60</td>\n",
       "      <td>2700000</td>\n",
       "      <td>1404000</td>\n",
       "      <td>68.00</td>\n",
       "      <td>1836000</td>\n",
       "      <td>1995</td>\n",
       "    </tr>\n",
       "    <tr>\n",
       "      <th>...</th>\n",
       "      <td>...</td>\n",
       "      <td>...</td>\n",
       "      <td>...</td>\n",
       "      <td>...</td>\n",
       "      <td>...</td>\n",
       "      <td>...</td>\n",
       "      <td>...</td>\n",
       "      <td>...</td>\n",
       "      <td>...</td>\n",
       "    </tr>\n",
       "    <tr>\n",
       "      <th>1110</th>\n",
       "      <td>1110</td>\n",
       "      <td>Virginia</td>\n",
       "      <td>6000</td>\n",
       "      <td>40</td>\n",
       "      <td>79000</td>\n",
       "      <td>79000</td>\n",
       "      <td>8.23</td>\n",
       "      <td>1975000</td>\n",
       "      <td>2021</td>\n",
       "    </tr>\n",
       "    <tr>\n",
       "      <th>1111</th>\n",
       "      <td>1111</td>\n",
       "      <td>Washington</td>\n",
       "      <td>96000</td>\n",
       "      <td>32</td>\n",
       "      <td>1206000</td>\n",
       "      <td>1206000</td>\n",
       "      <td>2.52</td>\n",
       "      <td>7741000</td>\n",
       "      <td>2021</td>\n",
       "    </tr>\n",
       "    <tr>\n",
       "      <th>1112</th>\n",
       "      <td>1112</td>\n",
       "      <td>WestVirginia</td>\n",
       "      <td>6000</td>\n",
       "      <td>43</td>\n",
       "      <td>136000</td>\n",
       "      <td>136000</td>\n",
       "      <td>4.80</td>\n",
       "      <td>1238000</td>\n",
       "      <td>2021</td>\n",
       "    </tr>\n",
       "    <tr>\n",
       "      <th>1113</th>\n",
       "      <td>1113</td>\n",
       "      <td>Wisconsin</td>\n",
       "      <td>42000</td>\n",
       "      <td>47</td>\n",
       "      <td>750000</td>\n",
       "      <td>750000</td>\n",
       "      <td>2.81</td>\n",
       "      <td>5547000</td>\n",
       "      <td>2021</td>\n",
       "    </tr>\n",
       "    <tr>\n",
       "      <th>1114</th>\n",
       "      <td>1114</td>\n",
       "      <td>Wyoming</td>\n",
       "      <td>38000</td>\n",
       "      <td>58</td>\n",
       "      <td>242000</td>\n",
       "      <td>242000</td>\n",
       "      <td>2.07</td>\n",
       "      <td>4562000</td>\n",
       "      <td>2021</td>\n",
       "    </tr>\n",
       "  </tbody>\n",
       "</table>\n",
       "<p>1115 rows × 9 columns</p>\n",
       "</div>"
      ],
      "text/plain": [
       "      Unnamed: 0         state  colonies_number  yield_per_colony  production  \\\n",
       "0              0       Alabama            16000                58      928000   \n",
       "1              1       Arizona            52000                79     4108000   \n",
       "2              2      Arkansas            50000                60     3000000   \n",
       "3              3    California           420000                93    39060000   \n",
       "4              4      Colorado            45000                60     2700000   \n",
       "...          ...           ...              ...               ...         ...   \n",
       "1110        1110      Virginia             6000                40       79000   \n",
       "1111        1111    Washington            96000                32     1206000   \n",
       "1112        1112  WestVirginia             6000                43      136000   \n",
       "1113        1113     Wisconsin            42000                47      750000   \n",
       "1114        1114       Wyoming            38000                58      242000   \n",
       "\n",
       "       stocks  average_price  value_of_production  year  \n",
       "0       28000          62.00               575000  1995  \n",
       "1      986000          68.00              2793000  1995  \n",
       "2      900000          64.00              1920000  1995  \n",
       "3     4687000          60.00             23436000  1995  \n",
       "4     1404000          68.00              1836000  1995  \n",
       "...       ...            ...                  ...   ...  \n",
       "1110    79000           8.23              1975000  2021  \n",
       "1111  1206000           2.52              7741000  2021  \n",
       "1112   136000           4.80              1238000  2021  \n",
       "1113   750000           2.81              5547000  2021  \n",
       "1114   242000           2.07              4562000  2021  \n",
       "\n",
       "[1115 rows x 9 columns]"
      ]
     },
     "execution_count": 2,
     "metadata": {},
     "output_type": "execute_result"
    }
   ],
   "source": [
    "df=pd.read_csv('Datasets/US_honey.csv')\n",
    "df"
   ]
  },
  {
   "cell_type": "code",
   "execution_count": 3,
   "id": "7e436c1f-2a9d-4afa-87d5-ca5e3ab64ef2",
   "metadata": {
    "colab": {
     "base_uri": "https://localhost:8080/",
     "height": 243
    },
    "id": "7e436c1f-2a9d-4afa-87d5-ca5e3ab64ef2",
    "outputId": "3109b3a0-6796-46f3-e1fb-3665cbdbfbd0"
   },
   "outputs": [
    {
     "data": {
      "text/html": [
       "<div>\n",
       "<style scoped>\n",
       "    .dataframe tbody tr th:only-of-type {\n",
       "        vertical-align: middle;\n",
       "    }\n",
       "\n",
       "    .dataframe tbody tr th {\n",
       "        vertical-align: top;\n",
       "    }\n",
       "\n",
       "    .dataframe thead th {\n",
       "        text-align: right;\n",
       "    }\n",
       "</style>\n",
       "<table border=\"1\" class=\"dataframe\">\n",
       "  <thead>\n",
       "    <tr style=\"text-align: right;\">\n",
       "      <th></th>\n",
       "      <th>Unnamed: 0</th>\n",
       "      <th>state</th>\n",
       "      <th>colonies_number</th>\n",
       "      <th>yield_per_colony</th>\n",
       "      <th>production</th>\n",
       "      <th>stocks</th>\n",
       "      <th>average_price</th>\n",
       "      <th>value_of_production</th>\n",
       "      <th>year</th>\n",
       "    </tr>\n",
       "  </thead>\n",
       "  <tbody>\n",
       "    <tr>\n",
       "      <th>0</th>\n",
       "      <td>0</td>\n",
       "      <td>Alabama</td>\n",
       "      <td>16000</td>\n",
       "      <td>58</td>\n",
       "      <td>928000</td>\n",
       "      <td>28000</td>\n",
       "      <td>62.0</td>\n",
       "      <td>575000</td>\n",
       "      <td>1995</td>\n",
       "    </tr>\n",
       "    <tr>\n",
       "      <th>1</th>\n",
       "      <td>1</td>\n",
       "      <td>Arizona</td>\n",
       "      <td>52000</td>\n",
       "      <td>79</td>\n",
       "      <td>4108000</td>\n",
       "      <td>986000</td>\n",
       "      <td>68.0</td>\n",
       "      <td>2793000</td>\n",
       "      <td>1995</td>\n",
       "    </tr>\n",
       "    <tr>\n",
       "      <th>2</th>\n",
       "      <td>2</td>\n",
       "      <td>Arkansas</td>\n",
       "      <td>50000</td>\n",
       "      <td>60</td>\n",
       "      <td>3000000</td>\n",
       "      <td>900000</td>\n",
       "      <td>64.0</td>\n",
       "      <td>1920000</td>\n",
       "      <td>1995</td>\n",
       "    </tr>\n",
       "    <tr>\n",
       "      <th>3</th>\n",
       "      <td>3</td>\n",
       "      <td>California</td>\n",
       "      <td>420000</td>\n",
       "      <td>93</td>\n",
       "      <td>39060000</td>\n",
       "      <td>4687000</td>\n",
       "      <td>60.0</td>\n",
       "      <td>23436000</td>\n",
       "      <td>1995</td>\n",
       "    </tr>\n",
       "    <tr>\n",
       "      <th>4</th>\n",
       "      <td>4</td>\n",
       "      <td>Colorado</td>\n",
       "      <td>45000</td>\n",
       "      <td>60</td>\n",
       "      <td>2700000</td>\n",
       "      <td>1404000</td>\n",
       "      <td>68.0</td>\n",
       "      <td>1836000</td>\n",
       "      <td>1995</td>\n",
       "    </tr>\n",
       "  </tbody>\n",
       "</table>\n",
       "</div>"
      ],
      "text/plain": [
       "   Unnamed: 0       state  colonies_number  yield_per_colony  production  \\\n",
       "0           0     Alabama            16000                58      928000   \n",
       "1           1     Arizona            52000                79     4108000   \n",
       "2           2    Arkansas            50000                60     3000000   \n",
       "3           3  California           420000                93    39060000   \n",
       "4           4    Colorado            45000                60     2700000   \n",
       "\n",
       "    stocks  average_price  value_of_production  year  \n",
       "0    28000           62.0               575000  1995  \n",
       "1   986000           68.0              2793000  1995  \n",
       "2   900000           64.0              1920000  1995  \n",
       "3  4687000           60.0             23436000  1995  \n",
       "4  1404000           68.0              1836000  1995  "
      ]
     },
     "execution_count": 3,
     "metadata": {},
     "output_type": "execute_result"
    }
   ],
   "source": [
    "df.head()"
   ]
  },
  {
   "cell_type": "code",
   "execution_count": 4,
   "id": "63991a91-8e2c-42ba-b6a1-54eeeff1759c",
   "metadata": {
    "id": "63991a91-8e2c-42ba-b6a1-54eeeff1759c",
    "outputId": "9c8b5b75-a990-4267-ed59-1b6f78e6bbf1"
   },
   "outputs": [
    {
     "data": {
      "text/plain": [
       "(1115, 9)"
      ]
     },
     "execution_count": 4,
     "metadata": {},
     "output_type": "execute_result"
    }
   ],
   "source": [
    "df.shape"
   ]
  },
  {
   "cell_type": "code",
   "execution_count": 5,
   "id": "32716bc2-11f2-4192-b7f6-f45802a82157",
   "metadata": {
    "id": "32716bc2-11f2-4192-b7f6-f45802a82157",
    "outputId": "48626a64-8352-487e-8a3e-c9e17ddac140"
   },
   "outputs": [
    {
     "name": "stdout",
     "output_type": "stream",
     "text": [
      "<class 'pandas.core.frame.DataFrame'>\n",
      "RangeIndex: 1115 entries, 0 to 1114\n",
      "Data columns (total 9 columns):\n",
      " #   Column               Non-Null Count  Dtype  \n",
      "---  ------               --------------  -----  \n",
      " 0   Unnamed: 0           1115 non-null   int64  \n",
      " 1   state                1115 non-null   object \n",
      " 2   colonies_number      1115 non-null   int64  \n",
      " 3   yield_per_colony     1115 non-null   int64  \n",
      " 4   production           1115 non-null   int64  \n",
      " 5   stocks               1115 non-null   int64  \n",
      " 6   average_price        1115 non-null   float64\n",
      " 7   value_of_production  1115 non-null   int64  \n",
      " 8   year                 1115 non-null   int64  \n",
      "dtypes: float64(1), int64(7), object(1)\n",
      "memory usage: 78.5+ KB\n"
     ]
    }
   ],
   "source": [
    "df.info()"
   ]
  },
  {
   "cell_type": "code",
   "execution_count": 6,
   "id": "b0ecc240-234d-4ac1-a540-0f0baa296edf",
   "metadata": {
    "id": "b0ecc240-234d-4ac1-a540-0f0baa296edf",
    "outputId": "a2f4065c-90b8-4a84-a754-870f719debb4"
   },
   "outputs": [
    {
     "data": {
      "text/plain": [
       "Unnamed: 0             0\n",
       "state                  0\n",
       "colonies_number        0\n",
       "yield_per_colony       0\n",
       "production             0\n",
       "stocks                 0\n",
       "average_price          0\n",
       "value_of_production    0\n",
       "year                   0\n",
       "dtype: int64"
      ]
     },
     "execution_count": 6,
     "metadata": {},
     "output_type": "execute_result"
    }
   ],
   "source": [
    "df.isnull().sum()"
   ]
  },
  {
   "cell_type": "code",
   "execution_count": 7,
   "id": "49be3e49-53d6-4291-bb34-62d8e8f87104",
   "metadata": {
    "id": "49be3e49-53d6-4291-bb34-62d8e8f87104",
    "outputId": "342e2cf0-e5cd-48e1-a41b-cdca001f017a"
   },
   "outputs": [
    {
     "data": {
      "text/plain": [
       "0"
      ]
     },
     "execution_count": 7,
     "metadata": {},
     "output_type": "execute_result"
    }
   ],
   "source": [
    "df.duplicated().sum()"
   ]
  },
  {
   "cell_type": "code",
   "execution_count": 8,
   "id": "a9e814d4-5794-48ae-b310-251fe2957f59",
   "metadata": {
    "id": "a9e814d4-5794-48ae-b310-251fe2957f59"
   },
   "outputs": [],
   "source": [
    "df.drop('Unnamed: 0',axis=1,inplace=True)"
   ]
  },
  {
   "cell_type": "code",
   "execution_count": 9,
   "id": "bc129280-cfe0-4802-8d28-279909e02398",
   "metadata": {
    "id": "bc129280-cfe0-4802-8d28-279909e02398",
    "outputId": "196e1748-da4d-4af3-9355-c20895c23349"
   },
   "outputs": [
    {
     "data": {
      "text/html": [
       "<div>\n",
       "<style scoped>\n",
       "    .dataframe tbody tr th:only-of-type {\n",
       "        vertical-align: middle;\n",
       "    }\n",
       "\n",
       "    .dataframe tbody tr th {\n",
       "        vertical-align: top;\n",
       "    }\n",
       "\n",
       "    .dataframe thead th {\n",
       "        text-align: right;\n",
       "    }\n",
       "</style>\n",
       "<table border=\"1\" class=\"dataframe\">\n",
       "  <thead>\n",
       "    <tr style=\"text-align: right;\">\n",
       "      <th></th>\n",
       "      <th>state</th>\n",
       "      <th>colonies_number</th>\n",
       "      <th>yield_per_colony</th>\n",
       "      <th>production</th>\n",
       "      <th>stocks</th>\n",
       "      <th>average_price</th>\n",
       "      <th>value_of_production</th>\n",
       "      <th>year</th>\n",
       "    </tr>\n",
       "  </thead>\n",
       "  <tbody>\n",
       "    <tr>\n",
       "      <th>0</th>\n",
       "      <td>Alabama</td>\n",
       "      <td>16000</td>\n",
       "      <td>58</td>\n",
       "      <td>928000</td>\n",
       "      <td>28000</td>\n",
       "      <td>62.0</td>\n",
       "      <td>575000</td>\n",
       "      <td>1995</td>\n",
       "    </tr>\n",
       "    <tr>\n",
       "      <th>1</th>\n",
       "      <td>Arizona</td>\n",
       "      <td>52000</td>\n",
       "      <td>79</td>\n",
       "      <td>4108000</td>\n",
       "      <td>986000</td>\n",
       "      <td>68.0</td>\n",
       "      <td>2793000</td>\n",
       "      <td>1995</td>\n",
       "    </tr>\n",
       "    <tr>\n",
       "      <th>2</th>\n",
       "      <td>Arkansas</td>\n",
       "      <td>50000</td>\n",
       "      <td>60</td>\n",
       "      <td>3000000</td>\n",
       "      <td>900000</td>\n",
       "      <td>64.0</td>\n",
       "      <td>1920000</td>\n",
       "      <td>1995</td>\n",
       "    </tr>\n",
       "    <tr>\n",
       "      <th>3</th>\n",
       "      <td>California</td>\n",
       "      <td>420000</td>\n",
       "      <td>93</td>\n",
       "      <td>39060000</td>\n",
       "      <td>4687000</td>\n",
       "      <td>60.0</td>\n",
       "      <td>23436000</td>\n",
       "      <td>1995</td>\n",
       "    </tr>\n",
       "    <tr>\n",
       "      <th>4</th>\n",
       "      <td>Colorado</td>\n",
       "      <td>45000</td>\n",
       "      <td>60</td>\n",
       "      <td>2700000</td>\n",
       "      <td>1404000</td>\n",
       "      <td>68.0</td>\n",
       "      <td>1836000</td>\n",
       "      <td>1995</td>\n",
       "    </tr>\n",
       "  </tbody>\n",
       "</table>\n",
       "</div>"
      ],
      "text/plain": [
       "        state  colonies_number  yield_per_colony  production   stocks  \\\n",
       "0     Alabama            16000                58      928000    28000   \n",
       "1     Arizona            52000                79     4108000   986000   \n",
       "2    Arkansas            50000                60     3000000   900000   \n",
       "3  California           420000                93    39060000  4687000   \n",
       "4    Colorado            45000                60     2700000  1404000   \n",
       "\n",
       "   average_price  value_of_production  year  \n",
       "0           62.0               575000  1995  \n",
       "1           68.0              2793000  1995  \n",
       "2           64.0              1920000  1995  \n",
       "3           60.0             23436000  1995  \n",
       "4           68.0              1836000  1995  "
      ]
     },
     "execution_count": 9,
     "metadata": {},
     "output_type": "execute_result"
    }
   ],
   "source": [
    "df.head()"
   ]
  },
  {
   "cell_type": "code",
   "execution_count": 10,
   "id": "93ba720c-8dd6-4e4b-93f6-dee6003224c0",
   "metadata": {
    "id": "93ba720c-8dd6-4e4b-93f6-dee6003224c0",
    "outputId": "e23639fa-678f-48d1-e5c2-1c4eced229c7"
   },
   "outputs": [
    {
     "data": {
      "text/plain": [
       "Index(['state', 'colonies_number', 'yield_per_colony', 'production', 'stocks',\n",
       "       'average_price', 'value_of_production', 'year'],\n",
       "      dtype='object')"
      ]
     },
     "execution_count": 10,
     "metadata": {},
     "output_type": "execute_result"
    }
   ],
   "source": [
    "df.columns"
   ]
  },
  {
   "cell_type": "code",
   "execution_count": 11,
   "id": "de449e12-3303-4a8e-abc0-4df34f9b6ef8",
   "metadata": {
    "id": "de449e12-3303-4a8e-abc0-4df34f9b6ef8",
    "outputId": "f6aa6d98-2458-49f2-ed36-0d380a0f0ca4"
   },
   "outputs": [
    {
     "data": {
      "image/png": "[encoded data removed]",
      "text/plain": [
       "<Figure size 2000x800 with 1 Axes>"
      ]
     },
     "metadata": {},
     "output_type": "display_data"
    }
   ],
   "source": [
    "#State-wise production\n",
    "plt.figure(figsize=(20,8))\n",
    "sns.barplot(x='state',y='production',data=df)\n",
    "plt.title('State-wise Honey Production')\n",
    "plt.xlabel('State')\n",
    "plt.ylabel('Production')\n",
    "plt.xticks(rotation=90)\n",
    "plt.show()"
   ]
  },
  {
   "cell_type": "markdown",
   "id": "24eb5ba2-4dc1-45e7-85cd-4d4b67c96b50",
   "metadata": {
    "id": "24eb5ba2-4dc1-45e7-85cd-4d4b67c96b50"
   },
   "source": [
    "**Top and bottom 5 states v/s Avg_price,Production**"
   ]
  },
  {
   "cell_type": "code",
   "execution_count": 12,
   "id": "292df22b-f00a-4bba-aa05-0b0fa4298dcb",
   "metadata": {
    "id": "292df22b-f00a-4bba-aa05-0b0fa4298dcb",
    "outputId": "7bf1b639-8a11-4cff-b4ba-43f42b22c4a3"
   },
   "outputs": [
    {
     "data": {
      "text/html": [
       "<div>\n",
       "<style scoped>\n",
       "    .dataframe tbody tr th:only-of-type {\n",
       "        vertical-align: middle;\n",
       "    }\n",
       "\n",
       "    .dataframe tbody tr th {\n",
       "        vertical-align: top;\n",
       "    }\n",
       "\n",
       "    .dataframe thead th {\n",
       "        text-align: right;\n",
       "    }\n",
       "</style>\n",
       "<table border=\"1\" class=\"dataframe\">\n",
       "  <thead>\n",
       "    <tr style=\"text-align: right;\">\n",
       "      <th></th>\n",
       "      <th>state</th>\n",
       "      <th>production</th>\n",
       "    </tr>\n",
       "  </thead>\n",
       "  <tbody>\n",
       "    <tr>\n",
       "      <th>0</th>\n",
       "      <td>Alabama</td>\n",
       "      <td>14467000</td>\n",
       "    </tr>\n",
       "    <tr>\n",
       "      <th>1</th>\n",
       "      <td>Arizona</td>\n",
       "      <td>38844000</td>\n",
       "    </tr>\n",
       "    <tr>\n",
       "      <th>2</th>\n",
       "      <td>Arkansas</td>\n",
       "      <td>51846000</td>\n",
       "    </tr>\n",
       "    <tr>\n",
       "      <th>3</th>\n",
       "      <td>California</td>\n",
       "      <td>423876000</td>\n",
       "    </tr>\n",
       "    <tr>\n",
       "      <th>4</th>\n",
       "      <td>Colorado</td>\n",
       "      <td>32660000</td>\n",
       "    </tr>\n",
       "    <tr>\n",
       "      <th>5</th>\n",
       "      <td>Florida</td>\n",
       "      <td>280934000</td>\n",
       "    </tr>\n",
       "    <tr>\n",
       "      <th>6</th>\n",
       "      <td>Georgia</td>\n",
       "      <td>57426000</td>\n",
       "    </tr>\n",
       "    <tr>\n",
       "      <th>7</th>\n",
       "      <td>Hawaii</td>\n",
       "      <td>15420000</td>\n",
       "    </tr>\n",
       "    <tr>\n",
       "      <th>8</th>\n",
       "      <td>Idaho</td>\n",
       "      <td>87188000</td>\n",
       "    </tr>\n",
       "    <tr>\n",
       "      <th>9</th>\n",
       "      <td>Illinois</td>\n",
       "      <td>9864000</td>\n",
       "    </tr>\n",
       "    <tr>\n",
       "      <th>10</th>\n",
       "      <td>Indiana</td>\n",
       "      <td>9686000</td>\n",
       "    </tr>\n",
       "    <tr>\n",
       "      <th>11</th>\n",
       "      <td>Iowa</td>\n",
       "      <td>48607000</td>\n",
       "    </tr>\n",
       "    <tr>\n",
       "      <th>12</th>\n",
       "      <td>Kansas</td>\n",
       "      <td>14138000</td>\n",
       "    </tr>\n",
       "    <tr>\n",
       "      <th>13</th>\n",
       "      <td>Kentucky</td>\n",
       "      <td>3224000</td>\n",
       "    </tr>\n",
       "    <tr>\n",
       "      <th>14</th>\n",
       "      <td>Louisiana</td>\n",
       "      <td>60568000</td>\n",
       "    </tr>\n",
       "    <tr>\n",
       "      <th>15</th>\n",
       "      <td>Maine</td>\n",
       "      <td>4762000</td>\n",
       "    </tr>\n",
       "    <tr>\n",
       "      <th>16</th>\n",
       "      <td>Maryland</td>\n",
       "      <td>1975000</td>\n",
       "    </tr>\n",
       "    <tr>\n",
       "      <th>17</th>\n",
       "      <td>Michigan</td>\n",
       "      <td>101063000</td>\n",
       "    </tr>\n",
       "    <tr>\n",
       "      <th>18</th>\n",
       "      <td>Minnesota</td>\n",
       "      <td>176581000</td>\n",
       "    </tr>\n",
       "    <tr>\n",
       "      <th>19</th>\n",
       "      <td>Mississippi</td>\n",
       "      <td>21235000</td>\n",
       "    </tr>\n",
       "    <tr>\n",
       "      <th>20</th>\n",
       "      <td>Missouri</td>\n",
       "      <td>17904000</td>\n",
       "    </tr>\n",
       "    <tr>\n",
       "      <th>21</th>\n",
       "      <td>Montana</td>\n",
       "      <td>197173000</td>\n",
       "    </tr>\n",
       "    <tr>\n",
       "      <th>22</th>\n",
       "      <td>Nebraska</td>\n",
       "      <td>63655000</td>\n",
       "    </tr>\n",
       "    <tr>\n",
       "      <th>23</th>\n",
       "      <td>Nevada</td>\n",
       "      <td>7399000</td>\n",
       "    </tr>\n",
       "    <tr>\n",
       "      <th>24</th>\n",
       "      <td>NewJersey</td>\n",
       "      <td>6913000</td>\n",
       "    </tr>\n",
       "    <tr>\n",
       "      <th>25</th>\n",
       "      <td>NewMexico</td>\n",
       "      <td>10082000</td>\n",
       "    </tr>\n",
       "    <tr>\n",
       "      <th>26</th>\n",
       "      <td>NewYork</td>\n",
       "      <td>78444000</td>\n",
       "    </tr>\n",
       "    <tr>\n",
       "      <th>27</th>\n",
       "      <td>NorthCarolina</td>\n",
       "      <td>8909000</td>\n",
       "    </tr>\n",
       "    <tr>\n",
       "      <th>28</th>\n",
       "      <td>NorthDakota</td>\n",
       "      <td>513742000</td>\n",
       "    </tr>\n",
       "    <tr>\n",
       "      <th>29</th>\n",
       "      <td>Ohio</td>\n",
       "      <td>22485000</td>\n",
       "    </tr>\n",
       "    <tr>\n",
       "      <th>30</th>\n",
       "      <td>Oklahoma</td>\n",
       "      <td>2055000</td>\n",
       "    </tr>\n",
       "    <tr>\n",
       "      <th>31</th>\n",
       "      <td>Oregon</td>\n",
       "      <td>43789000</td>\n",
       "    </tr>\n",
       "    <tr>\n",
       "      <th>32</th>\n",
       "      <td>Pennsylvania</td>\n",
       "      <td>21370000</td>\n",
       "    </tr>\n",
       "    <tr>\n",
       "      <th>33</th>\n",
       "      <td>SouthCarolina</td>\n",
       "      <td>2823000</td>\n",
       "    </tr>\n",
       "    <tr>\n",
       "      <th>34</th>\n",
       "      <td>SouthDakota</td>\n",
       "      <td>355726000</td>\n",
       "    </tr>\n",
       "    <tr>\n",
       "      <th>35</th>\n",
       "      <td>Tennessee</td>\n",
       "      <td>6857000</td>\n",
       "    </tr>\n",
       "    <tr>\n",
       "      <th>36</th>\n",
       "      <td>Texas</td>\n",
       "      <td>129441000</td>\n",
       "    </tr>\n",
       "    <tr>\n",
       "      <th>37</th>\n",
       "      <td>Utah</td>\n",
       "      <td>20369000</td>\n",
       "    </tr>\n",
       "    <tr>\n",
       "      <th>38</th>\n",
       "      <td>Vermont</td>\n",
       "      <td>7032000</td>\n",
       "    </tr>\n",
       "    <tr>\n",
       "      <th>39</th>\n",
       "      <td>Virginia</td>\n",
       "      <td>5153000</td>\n",
       "    </tr>\n",
       "    <tr>\n",
       "      <th>40</th>\n",
       "      <td>Washington</td>\n",
       "      <td>53238000</td>\n",
       "    </tr>\n",
       "    <tr>\n",
       "      <th>41</th>\n",
       "      <td>WestVirginia</td>\n",
       "      <td>6411000</td>\n",
       "    </tr>\n",
       "    <tr>\n",
       "      <th>42</th>\n",
       "      <td>Wisconsin</td>\n",
       "      <td>99909000</td>\n",
       "    </tr>\n",
       "    <tr>\n",
       "      <th>43</th>\n",
       "      <td>Wyoming</td>\n",
       "      <td>43921000</td>\n",
       "    </tr>\n",
       "  </tbody>\n",
       "</table>\n",
       "</div>"
      ],
      "text/plain": [
       "            state  production\n",
       "0         Alabama    14467000\n",
       "1         Arizona    38844000\n",
       "2        Arkansas    51846000\n",
       "3      California   423876000\n",
       "4        Colorado    32660000\n",
       "5         Florida   280934000\n",
       "6         Georgia    57426000\n",
       "7          Hawaii    15420000\n",
       "8           Idaho    87188000\n",
       "9        Illinois     9864000\n",
       "10        Indiana     9686000\n",
       "11           Iowa    48607000\n",
       "12         Kansas    14138000\n",
       "13       Kentucky     3224000\n",
       "14      Louisiana    60568000\n",
       "15          Maine     4762000\n",
       "16       Maryland     1975000\n",
       "17       Michigan   101063000\n",
       "18      Minnesota   176581000\n",
       "19    Mississippi    21235000\n",
       "20       Missouri    17904000\n",
       "21        Montana   197173000\n",
       "22       Nebraska    63655000\n",
       "23         Nevada     7399000\n",
       "24      NewJersey     6913000\n",
       "25      NewMexico    10082000\n",
       "26        NewYork    78444000\n",
       "27  NorthCarolina     8909000\n",
       "28    NorthDakota   513742000\n",
       "29           Ohio    22485000\n",
       "30       Oklahoma     2055000\n",
       "31         Oregon    43789000\n",
       "32   Pennsylvania    21370000\n",
       "33  SouthCarolina     2823000\n",
       "34    SouthDakota   355726000\n",
       "35      Tennessee     6857000\n",
       "36          Texas   129441000\n",
       "37           Utah    20369000\n",
       "38        Vermont     7032000\n",
       "39       Virginia     5153000\n",
       "40     Washington    53238000\n",
       "41   WestVirginia     6411000\n",
       "42      Wisconsin    99909000\n",
       "43        Wyoming    43921000"
      ]
     },
     "execution_count": 12,
     "metadata": {},
     "output_type": "execute_result"
    }
   ],
   "source": [
    "states_production=df.groupby('state')['production'].sum().reset_index()\n",
    "states_production"
   ]
  },
  {
   "cell_type": "code",
   "execution_count": 13,
   "id": "362d8ef1-d89c-4d31-a5ab-687f2d568a6d",
   "metadata": {
    "id": "362d8ef1-d89c-4d31-a5ab-687f2d568a6d"
   },
   "outputs": [],
   "source": [
    "Top_5_states_prod=states_production.sort_values(by='production',ascending=False).head()"
   ]
  },
  {
   "cell_type": "code",
   "execution_count": 14,
   "id": "73e4eb93-1b82-4be7-9a52-e147d00681f7",
   "metadata": {
    "id": "73e4eb93-1b82-4be7-9a52-e147d00681f7",
    "outputId": "ee263fb4-dd3c-469c-cc5b-e7da7f4ff29b"
   },
   "outputs": [
    {
     "data": {
      "text/html": [
       "<div>\n",
       "<style scoped>\n",
       "    .dataframe tbody tr th:only-of-type {\n",
       "        vertical-align: middle;\n",
       "    }\n",
       "\n",
       "    .dataframe tbody tr th {\n",
       "        vertical-align: top;\n",
       "    }\n",
       "\n",
       "    .dataframe thead th {\n",
       "        text-align: right;\n",
       "    }\n",
       "</style>\n",
       "<table border=\"1\" class=\"dataframe\">\n",
       "  <thead>\n",
       "    <tr style=\"text-align: right;\">\n",
       "      <th></th>\n",
       "      <th>state</th>\n",
       "      <th>production</th>\n",
       "    </tr>\n",
       "  </thead>\n",
       "  <tbody>\n",
       "    <tr>\n",
       "      <th>28</th>\n",
       "      <td>NorthDakota</td>\n",
       "      <td>513742000</td>\n",
       "    </tr>\n",
       "    <tr>\n",
       "      <th>3</th>\n",
       "      <td>California</td>\n",
       "      <td>423876000</td>\n",
       "    </tr>\n",
       "    <tr>\n",
       "      <th>34</th>\n",
       "      <td>SouthDakota</td>\n",
       "      <td>355726000</td>\n",
       "    </tr>\n",
       "    <tr>\n",
       "      <th>5</th>\n",
       "      <td>Florida</td>\n",
       "      <td>280934000</td>\n",
       "    </tr>\n",
       "    <tr>\n",
       "      <th>21</th>\n",
       "      <td>Montana</td>\n",
       "      <td>197173000</td>\n",
       "    </tr>\n",
       "  </tbody>\n",
       "</table>\n",
       "</div>"
      ],
      "text/plain": [
       "          state  production\n",
       "28  NorthDakota   513742000\n",
       "3    California   423876000\n",
       "34  SouthDakota   355726000\n",
       "5       Florida   280934000\n",
       "21      Montana   197173000"
      ]
     },
     "execution_count": 14,
     "metadata": {},
     "output_type": "execute_result"
    }
   ],
   "source": [
    "Top_5_states_prod"
   ]
  },
  {
   "cell_type": "code",
   "execution_count": 15,
   "id": "93571a92-a916-484a-a846-03d58b742714",
   "metadata": {
    "id": "93571a92-a916-484a-a846-03d58b742714",
    "outputId": "5d3d84e4-1d10-4b1a-a84d-626e66a6e4e8"
   },
   "outputs": [
    {
     "data": {
      "image/png": "[encoded data removed]",
      "text/plain": [
       "<Figure size 640x480 with 1 Axes>"
      ]
     },
     "metadata": {},
     "output_type": "display_data"
    }
   ],
   "source": [
    "sns.barplot(x='state',y='production',data=Top_5_states_prod)\n",
    "plt.title('Top 5 states producing honey')\n",
    "plt.xlabel('State')\n",
    "plt.ylabel('Production')\n",
    "plt.show()"
   ]
  },
  {
   "cell_type": "markdown",
   "id": "3c23373e-25e4-4234-8063-13eea6420160",
   "metadata": {
    "id": "3c23373e-25e4-4234-8063-13eea6420160"
   },
   "source": [
    "**Bottom 5 states**"
   ]
  },
  {
   "cell_type": "code",
   "execution_count": 16,
   "id": "111a2396-d6d8-4d4b-a8ef-8e315ca807a5",
   "metadata": {
    "id": "111a2396-d6d8-4d4b-a8ef-8e315ca807a5"
   },
   "outputs": [],
   "source": [
    "Bottom_5_states_prod=states_production.sort_values(by='production',ascending=True).head()"
   ]
  },
  {
   "cell_type": "code",
   "execution_count": 17,
   "id": "49fd6f8f-8531-4e01-96b0-2bbf66a76d30",
   "metadata": {
    "id": "49fd6f8f-8531-4e01-96b0-2bbf66a76d30",
    "outputId": "c8bef835-ec20-48e6-c864-89f8a71c63e2"
   },
   "outputs": [
    {
     "data": {
      "text/html": [
       "<div>\n",
       "<style scoped>\n",
       "    .dataframe tbody tr th:only-of-type {\n",
       "        vertical-align: middle;\n",
       "    }\n",
       "\n",
       "    .dataframe tbody tr th {\n",
       "        vertical-align: top;\n",
       "    }\n",
       "\n",
       "    .dataframe thead th {\n",
       "        text-align: right;\n",
       "    }\n",
       "</style>\n",
       "<table border=\"1\" class=\"dataframe\">\n",
       "  <thead>\n",
       "    <tr style=\"text-align: right;\">\n",
       "      <th></th>\n",
       "      <th>state</th>\n",
       "      <th>production</th>\n",
       "    </tr>\n",
       "  </thead>\n",
       "  <tbody>\n",
       "    <tr>\n",
       "      <th>16</th>\n",
       "      <td>Maryland</td>\n",
       "      <td>1975000</td>\n",
       "    </tr>\n",
       "    <tr>\n",
       "      <th>30</th>\n",
       "      <td>Oklahoma</td>\n",
       "      <td>2055000</td>\n",
       "    </tr>\n",
       "    <tr>\n",
       "      <th>33</th>\n",
       "      <td>SouthCarolina</td>\n",
       "      <td>2823000</td>\n",
       "    </tr>\n",
       "    <tr>\n",
       "      <th>13</th>\n",
       "      <td>Kentucky</td>\n",
       "      <td>3224000</td>\n",
       "    </tr>\n",
       "    <tr>\n",
       "      <th>15</th>\n",
       "      <td>Maine</td>\n",
       "      <td>4762000</td>\n",
       "    </tr>\n",
       "  </tbody>\n",
       "</table>\n",
       "</div>"
      ],
      "text/plain": [
       "            state  production\n",
       "16       Maryland     1975000\n",
       "30       Oklahoma     2055000\n",
       "33  SouthCarolina     2823000\n",
       "13       Kentucky     3224000\n",
       "15          Maine     4762000"
      ]
     },
     "execution_count": 17,
     "metadata": {},
     "output_type": "execute_result"
    }
   ],
   "source": [
    "Bottom_5_states_prod"
   ]
  },
  {
   "cell_type": "code",
   "execution_count": 18,
   "id": "4058cdfd-3742-4f05-a1b3-0f6977b88838",
   "metadata": {
    "id": "4058cdfd-3742-4f05-a1b3-0f6977b88838",
    "outputId": "6ecbbdb7-3117-4305-f690-24ef4b43048f"
   },
   "outputs": [
    {
     "data": {
      "image/png": "[encoded data removed]",
      "text/plain": [
       "<Figure size 640x480 with 1 Axes>"
      ]
     },
     "metadata": {},
     "output_type": "display_data"
    }
   ],
   "source": [
    "sns.barplot(x='state',y='production',data=Bottom_5_states_prod)\n",
    "plt.title('Bottom 5 states producing honey')\n",
    "plt.xlabel('State')\n",
    "plt.ylabel('Production')\n",
    "plt.show()"
   ]
  },
  {
   "cell_type": "code",
   "execution_count": null,
   "id": "KvzNkpkyuNwv",
   "metadata": {
    "id": "KvzNkpkyuNwv"
   },
   "outputs": [],
   "source": []
  },
  {
   "cell_type": "markdown",
   "id": "f78a993b-2ac1-463c-a6d7-110e0326961b",
   "metadata": {
    "id": "f78a993b-2ac1-463c-a6d7-110e0326961b"
   },
   "source": [
    "**What is the Change in mean Average price of Honey from 1995 to 2021?**"
   ]
  },
  {
   "cell_type": "code",
   "execution_count": 19,
   "id": "3cc915a0-6a1e-405e-9c72-ed59264cb573",
   "metadata": {
    "id": "3cc915a0-6a1e-405e-9c72-ed59264cb573",
    "outputId": "8de32947-ff3c-4ee6-edd5-a6ca5230651a"
   },
   "outputs": [
    {
     "data": {
      "text/html": [
       "<div>\n",
       "<style scoped>\n",
       "    .dataframe tbody tr th:only-of-type {\n",
       "        vertical-align: middle;\n",
       "    }\n",
       "\n",
       "    .dataframe tbody tr th {\n",
       "        vertical-align: top;\n",
       "    }\n",
       "\n",
       "    .dataframe thead th {\n",
       "        text-align: right;\n",
       "    }\n",
       "</style>\n",
       "<table border=\"1\" class=\"dataframe\">\n",
       "  <thead>\n",
       "    <tr style=\"text-align: right;\">\n",
       "      <th></th>\n",
       "      <th>year</th>\n",
       "      <th>average_price</th>\n",
       "    </tr>\n",
       "  </thead>\n",
       "  <tbody>\n",
       "    <tr>\n",
       "      <th>0</th>\n",
       "      <td>1995</td>\n",
       "      <td>74.840909</td>\n",
       "    </tr>\n",
       "    <tr>\n",
       "      <th>1</th>\n",
       "      <td>1996</td>\n",
       "      <td>99.568182</td>\n",
       "    </tr>\n",
       "    <tr>\n",
       "      <th>2</th>\n",
       "      <td>1997</td>\n",
       "      <td>91.325581</td>\n",
       "    </tr>\n",
       "    <tr>\n",
       "      <th>3</th>\n",
       "      <td>1998</td>\n",
       "      <td>83.720930</td>\n",
       "    </tr>\n",
       "    <tr>\n",
       "      <th>4</th>\n",
       "      <td>1999</td>\n",
       "      <td>80.325581</td>\n",
       "    </tr>\n",
       "    <tr>\n",
       "      <th>5</th>\n",
       "      <td>2000</td>\n",
       "      <td>79.023256</td>\n",
       "    </tr>\n",
       "    <tr>\n",
       "      <th>6</th>\n",
       "      <td>2001</td>\n",
       "      <td>88.465116</td>\n",
       "    </tr>\n",
       "    <tr>\n",
       "      <th>7</th>\n",
       "      <td>2002</td>\n",
       "      <td>133.204545</td>\n",
       "    </tr>\n",
       "    <tr>\n",
       "      <th>8</th>\n",
       "      <td>2003</td>\n",
       "      <td>151.068182</td>\n",
       "    </tr>\n",
       "    <tr>\n",
       "      <th>9</th>\n",
       "      <td>2004</td>\n",
       "      <td>132.350000</td>\n",
       "    </tr>\n",
       "    <tr>\n",
       "      <th>10</th>\n",
       "      <td>2005</td>\n",
       "      <td>116.341463</td>\n",
       "    </tr>\n",
       "    <tr>\n",
       "      <th>11</th>\n",
       "      <td>2006</td>\n",
       "      <td>134.341463</td>\n",
       "    </tr>\n",
       "    <tr>\n",
       "      <th>12</th>\n",
       "      <td>2007</td>\n",
       "      <td>140.170732</td>\n",
       "    </tr>\n",
       "    <tr>\n",
       "      <th>13</th>\n",
       "      <td>2008</td>\n",
       "      <td>160.878049</td>\n",
       "    </tr>\n",
       "    <tr>\n",
       "      <th>14</th>\n",
       "      <td>2009</td>\n",
       "      <td>176.195122</td>\n",
       "    </tr>\n",
       "    <tr>\n",
       "      <th>15</th>\n",
       "      <td>2010</td>\n",
       "      <td>192.900000</td>\n",
       "    </tr>\n",
       "    <tr>\n",
       "      <th>16</th>\n",
       "      <td>2011</td>\n",
       "      <td>216.725000</td>\n",
       "    </tr>\n",
       "    <tr>\n",
       "      <th>17</th>\n",
       "      <td>2012</td>\n",
       "      <td>236.700000</td>\n",
       "    </tr>\n",
       "    <tr>\n",
       "      <th>18</th>\n",
       "      <td>2013</td>\n",
       "      <td>260.717949</td>\n",
       "    </tr>\n",
       "    <tr>\n",
       "      <th>19</th>\n",
       "      <td>2014</td>\n",
       "      <td>282.025000</td>\n",
       "    </tr>\n",
       "    <tr>\n",
       "      <th>20</th>\n",
       "      <td>2015</td>\n",
       "      <td>292.625000</td>\n",
       "    </tr>\n",
       "    <tr>\n",
       "      <th>21</th>\n",
       "      <td>2016</td>\n",
       "      <td>291.925000</td>\n",
       "    </tr>\n",
       "    <tr>\n",
       "      <th>22</th>\n",
       "      <td>2017</td>\n",
       "      <td>302.775000</td>\n",
       "    </tr>\n",
       "    <tr>\n",
       "      <th>23</th>\n",
       "      <td>2018</td>\n",
       "      <td>3.083500</td>\n",
       "    </tr>\n",
       "    <tr>\n",
       "      <th>24</th>\n",
       "      <td>2019</td>\n",
       "      <td>2.925500</td>\n",
       "    </tr>\n",
       "    <tr>\n",
       "      <th>25</th>\n",
       "      <td>2020</td>\n",
       "      <td>3.050000</td>\n",
       "    </tr>\n",
       "    <tr>\n",
       "      <th>26</th>\n",
       "      <td>2021</td>\n",
       "      <td>3.334250</td>\n",
       "    </tr>\n",
       "  </tbody>\n",
       "</table>\n",
       "</div>"
      ],
      "text/plain": [
       "    year  average_price\n",
       "0   1995      74.840909\n",
       "1   1996      99.568182\n",
       "2   1997      91.325581\n",
       "3   1998      83.720930\n",
       "4   1999      80.325581\n",
       "5   2000      79.023256\n",
       "6   2001      88.465116\n",
       "7   2002     133.204545\n",
       "8   2003     151.068182\n",
       "9   2004     132.350000\n",
       "10  2005     116.341463\n",
       "11  2006     134.341463\n",
       "12  2007     140.170732\n",
       "13  2008     160.878049\n",
       "14  2009     176.195122\n",
       "15  2010     192.900000\n",
       "16  2011     216.725000\n",
       "17  2012     236.700000\n",
       "18  2013     260.717949\n",
       "19  2014     282.025000\n",
       "20  2015     292.625000\n",
       "21  2016     291.925000\n",
       "22  2017     302.775000\n",
       "23  2018       3.083500\n",
       "24  2019       2.925500\n",
       "25  2020       3.050000\n",
       "26  2021       3.334250"
      ]
     },
     "execution_count": 19,
     "metadata": {},
     "output_type": "execute_result"
    }
   ],
   "source": [
    "mean_avg=df.groupby('year')['average_price'].mean()\n",
    "mean_avg.reset_index()"
   ]
  },
  {
   "cell_type": "code",
   "execution_count": 20,
   "id": "d1e921c2-8c42-43e4-a528-6ce1e9afaf4c",
   "metadata": {
    "id": "d1e921c2-8c42-43e4-a528-6ce1e9afaf4c",
    "outputId": "d76cfbb8-00e3-4367-d78f-d2da2a68be44"
   },
   "outputs": [
    {
     "data": {
      "text/plain": [
       "71.5066590909091"
      ]
     },
     "execution_count": 20,
     "metadata": {},
     "output_type": "execute_result"
    }
   ],
   "source": [
    "change_mean=mean_avg.loc[1995]-mean_avg.loc[2021]\n",
    "change_mean"
   ]
  },
  {
   "cell_type": "markdown",
   "id": "47835c26-5b36-4ac5-9beb-c71b19048259",
   "metadata": {
    "id": "47835c26-5b36-4ac5-9beb-c71b19048259"
   },
   "source": [
    " **Which was the year when production of Honey in wholeUS was the highest?**"
   ]
  },
  {
   "cell_type": "code",
   "execution_count": 21,
   "id": "d7e6fc1c-fbfe-4451-82fe-6d59ebfac8fa",
   "metadata": {
    "id": "d7e6fc1c-fbfe-4451-82fe-6d59ebfac8fa",
    "outputId": "3af9438a-68a7-4be1-daeb-b0da66b5ad5c"
   },
   "outputs": [
    {
     "data": {
      "text/html": [
       "<div>\n",
       "<style scoped>\n",
       "    .dataframe tbody tr th:only-of-type {\n",
       "        vertical-align: middle;\n",
       "    }\n",
       "\n",
       "    .dataframe tbody tr th {\n",
       "        vertical-align: top;\n",
       "    }\n",
       "\n",
       "    .dataframe thead th {\n",
       "        text-align: right;\n",
       "    }\n",
       "</style>\n",
       "<table border=\"1\" class=\"dataframe\">\n",
       "  <thead>\n",
       "    <tr style=\"text-align: right;\">\n",
       "      <th></th>\n",
       "      <th>year</th>\n",
       "      <th>production</th>\n",
       "    </tr>\n",
       "  </thead>\n",
       "  <tbody>\n",
       "    <tr>\n",
       "      <th>0</th>\n",
       "      <td>1995</td>\n",
       "      <td>210272000</td>\n",
       "    </tr>\n",
       "    <tr>\n",
       "      <th>1</th>\n",
       "      <td>1996</td>\n",
       "      <td>197995000</td>\n",
       "    </tr>\n",
       "    <tr>\n",
       "      <th>2</th>\n",
       "      <td>1997</td>\n",
       "      <td>191176000</td>\n",
       "    </tr>\n",
       "    <tr>\n",
       "      <th>3</th>\n",
       "      <td>1998</td>\n",
       "      <td>219321000</td>\n",
       "    </tr>\n",
       "    <tr>\n",
       "      <th>4</th>\n",
       "      <td>1999</td>\n",
       "      <td>204585000</td>\n",
       "    </tr>\n",
       "  </tbody>\n",
       "</table>\n",
       "</div>"
      ],
      "text/plain": [
       "   year  production\n",
       "0  1995   210272000\n",
       "1  1996   197995000\n",
       "2  1997   191176000\n",
       "3  1998   219321000\n",
       "4  1999   204585000"
      ]
     },
     "execution_count": 21,
     "metadata": {},
     "output_type": "execute_result"
    }
   ],
   "source": [
    "highest_prod=df.groupby('year')['production'].sum().reset_index()\n",
    "highest_prod.head()"
   ]
  },
  {
   "cell_type": "code",
   "execution_count": 22,
   "id": "39ff7086-9e25-4232-8af5-e97b910b3a7c",
   "metadata": {
    "id": "39ff7086-9e25-4232-8af5-e97b910b3a7c",
    "outputId": "f35d8ae4-992a-4c54-9cbb-cd3d19329d58"
   },
   "outputs": [
    {
     "data": {
      "text/html": [
       "<div>\n",
       "<style scoped>\n",
       "    .dataframe tbody tr th:only-of-type {\n",
       "        vertical-align: middle;\n",
       "    }\n",
       "\n",
       "    .dataframe tbody tr th {\n",
       "        vertical-align: top;\n",
       "    }\n",
       "\n",
       "    .dataframe thead th {\n",
       "        text-align: right;\n",
       "    }\n",
       "</style>\n",
       "<table border=\"1\" class=\"dataframe\">\n",
       "  <thead>\n",
       "    <tr style=\"text-align: right;\">\n",
       "      <th></th>\n",
       "      <th>year</th>\n",
       "      <th>production</th>\n",
       "    </tr>\n",
       "  </thead>\n",
       "  <tbody>\n",
       "    <tr>\n",
       "      <th>5</th>\n",
       "      <td>2000</td>\n",
       "      <td>220320000</td>\n",
       "    </tr>\n",
       "  </tbody>\n",
       "</table>\n",
       "</div>"
      ],
      "text/plain": [
       "   year  production\n",
       "5  2000   220320000"
      ]
     },
     "execution_count": 22,
     "metadata": {},
     "output_type": "execute_result"
    }
   ],
   "source": [
    "highest_prod.sort_values(by='production',ascending=False).head(1)"
   ]
  },
  {
   "cell_type": "markdown",
   "id": "cb9ed8b4-c0be-4f67-90b2-03b1c13ff815",
   "metadata": {
    "id": "cb9ed8b4-c0be-4f67-90b2-03b1c13ff815"
   },
   "source": [
    "**From the above inference we get the production was highest in the year 2000, now lets infer which state was having highest contribution in that year.**"
   ]
  },
  {
   "cell_type": "code",
   "execution_count": 23,
   "id": "95e56278-de4f-45f5-b503-926edb17aa29",
   "metadata": {
    "id": "95e56278-de4f-45f5-b503-926edb17aa29",
    "outputId": "32591fc0-5392-4ca5-c088-0579d08822e7"
   },
   "outputs": [
    {
     "data": {
      "text/html": [
       "<div>\n",
       "<style scoped>\n",
       "    .dataframe tbody tr th:only-of-type {\n",
       "        vertical-align: middle;\n",
       "    }\n",
       "\n",
       "    .dataframe tbody tr th {\n",
       "        vertical-align: top;\n",
       "    }\n",
       "\n",
       "    .dataframe thead th {\n",
       "        text-align: right;\n",
       "    }\n",
       "</style>\n",
       "<table border=\"1\" class=\"dataframe\">\n",
       "  <thead>\n",
       "    <tr style=\"text-align: right;\">\n",
       "      <th></th>\n",
       "      <th>state</th>\n",
       "      <th>year</th>\n",
       "      <th>production</th>\n",
       "    </tr>\n",
       "  </thead>\n",
       "  <tbody>\n",
       "    <tr>\n",
       "      <th>0</th>\n",
       "      <td>Alabama</td>\n",
       "      <td>1995</td>\n",
       "      <td>928000</td>\n",
       "    </tr>\n",
       "    <tr>\n",
       "      <th>1</th>\n",
       "      <td>Alabama</td>\n",
       "      <td>1996</td>\n",
       "      <td>1024000</td>\n",
       "    </tr>\n",
       "    <tr>\n",
       "      <th>2</th>\n",
       "      <td>Alabama</td>\n",
       "      <td>1997</td>\n",
       "      <td>924000</td>\n",
       "    </tr>\n",
       "    <tr>\n",
       "      <th>3</th>\n",
       "      <td>Alabama</td>\n",
       "      <td>1998</td>\n",
       "      <td>1136000</td>\n",
       "    </tr>\n",
       "    <tr>\n",
       "      <th>4</th>\n",
       "      <td>Alabama</td>\n",
       "      <td>1999</td>\n",
       "      <td>1156000</td>\n",
       "    </tr>\n",
       "  </tbody>\n",
       "</table>\n",
       "</div>"
      ],
      "text/plain": [
       "     state  year  production\n",
       "0  Alabama  1995      928000\n",
       "1  Alabama  1996     1024000\n",
       "2  Alabama  1997      924000\n",
       "3  Alabama  1998     1136000\n",
       "4  Alabama  1999     1156000"
      ]
     },
     "execution_count": 23,
     "metadata": {},
     "output_type": "execute_result"
    }
   ],
   "source": [
    "highest_prod_state=df.groupby(['state','year'])['production'].sum().reset_index()\n",
    "highest_prod_state.head()"
   ]
  },
  {
   "cell_type": "code",
   "execution_count": 24,
   "id": "f6fae20e-41c8-4f96-9cef-60ff52a46a8b",
   "metadata": {
    "id": "f6fae20e-41c8-4f96-9cef-60ff52a46a8b",
    "outputId": "11cc98f6-4c81-4164-faf4-035b27e6cc14"
   },
   "outputs": [
    {
     "data": {
      "text/html": [
       "<div>\n",
       "<style scoped>\n",
       "    .dataframe tbody tr th:only-of-type {\n",
       "        vertical-align: middle;\n",
       "    }\n",
       "\n",
       "    .dataframe tbody tr th {\n",
       "        vertical-align: top;\n",
       "    }\n",
       "\n",
       "    .dataframe thead th {\n",
       "        text-align: right;\n",
       "    }\n",
       "</style>\n",
       "<table border=\"1\" class=\"dataframe\">\n",
       "  <thead>\n",
       "    <tr style=\"text-align: right;\">\n",
       "      <th></th>\n",
       "      <th>state</th>\n",
       "      <th>year</th>\n",
       "      <th>production</th>\n",
       "    </tr>\n",
       "  </thead>\n",
       "  <tbody>\n",
       "    <tr>\n",
       "      <th>5</th>\n",
       "      <td>Alabama</td>\n",
       "      <td>2000</td>\n",
       "      <td>1248000</td>\n",
       "    </tr>\n",
       "    <tr>\n",
       "      <th>32</th>\n",
       "      <td>Arizona</td>\n",
       "      <td>2000</td>\n",
       "      <td>2360000</td>\n",
       "    </tr>\n",
       "    <tr>\n",
       "      <th>59</th>\n",
       "      <td>Arkansas</td>\n",
       "      <td>2000</td>\n",
       "      <td>5115000</td>\n",
       "    </tr>\n",
       "    <tr>\n",
       "      <th>86</th>\n",
       "      <td>California</td>\n",
       "      <td>2000</td>\n",
       "      <td>30800000</td>\n",
       "    </tr>\n",
       "    <tr>\n",
       "      <th>113</th>\n",
       "      <td>Colorado</td>\n",
       "      <td>2000</td>\n",
       "      <td>1740000</td>\n",
       "    </tr>\n",
       "  </tbody>\n",
       "</table>\n",
       "</div>"
      ],
      "text/plain": [
       "          state  year  production\n",
       "5       Alabama  2000     1248000\n",
       "32      Arizona  2000     2360000\n",
       "59     Arkansas  2000     5115000\n",
       "86   California  2000    30800000\n",
       "113    Colorado  2000     1740000"
      ]
     },
     "execution_count": 24,
     "metadata": {},
     "output_type": "execute_result"
    }
   ],
   "source": [
    "state_2000_year=highest_prod_state.loc[(highest_prod_state['year']==2000)]\n",
    "state_2000_year.head()"
   ]
  },
  {
   "cell_type": "code",
   "execution_count": 25,
   "id": "525cd52c-cac3-4802-a8ae-327fa9d4eccf",
   "metadata": {
    "id": "525cd52c-cac3-4802-a8ae-327fa9d4eccf",
    "outputId": "848f728c-4b16-44e0-98cb-18498ce64774"
   },
   "outputs": [
    {
     "data": {
      "text/html": [
       "<div>\n",
       "<style scoped>\n",
       "    .dataframe tbody tr th:only-of-type {\n",
       "        vertical-align: middle;\n",
       "    }\n",
       "\n",
       "    .dataframe tbody tr th {\n",
       "        vertical-align: top;\n",
       "    }\n",
       "\n",
       "    .dataframe thead th {\n",
       "        text-align: right;\n",
       "    }\n",
       "</style>\n",
       "<table border=\"1\" class=\"dataframe\">\n",
       "  <thead>\n",
       "    <tr style=\"text-align: right;\">\n",
       "      <th></th>\n",
       "      <th>state</th>\n",
       "      <th>year</th>\n",
       "      <th>production</th>\n",
       "    </tr>\n",
       "  </thead>\n",
       "  <tbody>\n",
       "    <tr>\n",
       "      <th>721</th>\n",
       "      <td>NorthDakota</td>\n",
       "      <td>2000</td>\n",
       "      <td>33350000</td>\n",
       "    </tr>\n",
       "  </tbody>\n",
       "</table>\n",
       "</div>"
      ],
      "text/plain": [
       "           state  year  production\n",
       "721  NorthDakota  2000    33350000"
      ]
     },
     "execution_count": 25,
     "metadata": {},
     "output_type": "execute_result"
    }
   ],
   "source": [
    "state_2000_year.sort_values(by='production',ascending=False).head(1)"
   ]
  },
  {
   "cell_type": "markdown",
   "id": "398c64c9-2f52-4d8c-ac33-dfa1bfa91d69",
   "metadata": {
    "id": "398c64c9-2f52-4d8c-ac33-dfa1bfa91d69"
   },
   "source": [
    "**Which states have the highest no. of colonies in the year 2000?**"
   ]
  },
  {
   "cell_type": "code",
   "execution_count": 26,
   "id": "b02fb8ce-ac72-4b58-91da-4be91dc57e36",
   "metadata": {
    "id": "b02fb8ce-ac72-4b58-91da-4be91dc57e36",
    "outputId": "441f41ea-8b99-43c6-c6ce-44d5c620b329"
   },
   "outputs": [
    {
     "data": {
      "text/plain": [
       "Index(['state', 'colonies_number', 'yield_per_colony', 'production', 'stocks',\n",
       "       'average_price', 'value_of_production', 'year'],\n",
       "      dtype='object')"
      ]
     },
     "execution_count": 26,
     "metadata": {},
     "output_type": "execute_result"
    }
   ],
   "source": [
    "df.columns"
   ]
  },
  {
   "cell_type": "code",
   "execution_count": 27,
   "id": "69fb5332-0fcb-4fd2-8583-9fc43e45512e",
   "metadata": {
    "id": "69fb5332-0fcb-4fd2-8583-9fc43e45512e",
    "outputId": "2d2e0d1a-8662-43c4-ba4b-c8559935d5de"
   },
   "outputs": [
    {
     "data": {
      "text/html": [
       "<div>\n",
       "<style scoped>\n",
       "    .dataframe tbody tr th:only-of-type {\n",
       "        vertical-align: middle;\n",
       "    }\n",
       "\n",
       "    .dataframe tbody tr th {\n",
       "        vertical-align: top;\n",
       "    }\n",
       "\n",
       "    .dataframe thead th {\n",
       "        text-align: right;\n",
       "    }\n",
       "</style>\n",
       "<table border=\"1\" class=\"dataframe\">\n",
       "  <thead>\n",
       "    <tr style=\"text-align: right;\">\n",
       "      <th></th>\n",
       "      <th>state</th>\n",
       "      <th>year</th>\n",
       "      <th>colonies_number</th>\n",
       "    </tr>\n",
       "  </thead>\n",
       "  <tbody>\n",
       "    <tr>\n",
       "      <th>0</th>\n",
       "      <td>Alabama</td>\n",
       "      <td>1995</td>\n",
       "      <td>16000</td>\n",
       "    </tr>\n",
       "    <tr>\n",
       "      <th>1</th>\n",
       "      <td>Alabama</td>\n",
       "      <td>1996</td>\n",
       "      <td>16000</td>\n",
       "    </tr>\n",
       "    <tr>\n",
       "      <th>2</th>\n",
       "      <td>Alabama</td>\n",
       "      <td>1997</td>\n",
       "      <td>14000</td>\n",
       "    </tr>\n",
       "    <tr>\n",
       "      <th>3</th>\n",
       "      <td>Alabama</td>\n",
       "      <td>1998</td>\n",
       "      <td>16000</td>\n",
       "    </tr>\n",
       "    <tr>\n",
       "      <th>4</th>\n",
       "      <td>Alabama</td>\n",
       "      <td>1999</td>\n",
       "      <td>17000</td>\n",
       "    </tr>\n",
       "  </tbody>\n",
       "</table>\n",
       "</div>"
      ],
      "text/plain": [
       "     state  year  colonies_number\n",
       "0  Alabama  1995            16000\n",
       "1  Alabama  1996            16000\n",
       "2  Alabama  1997            14000\n",
       "3  Alabama  1998            16000\n",
       "4  Alabama  1999            17000"
      ]
     },
     "execution_count": 27,
     "metadata": {},
     "output_type": "execute_result"
    }
   ],
   "source": [
    "highest_colony=df.groupby(['state','year'])['colonies_number'].sum().reset_index()\n",
    "highest_colony.head()"
   ]
  },
  {
   "cell_type": "code",
   "execution_count": 28,
   "id": "b1f1931b-5820-4cc3-ba72-3e32d511f135",
   "metadata": {
    "id": "b1f1931b-5820-4cc3-ba72-3e32d511f135",
    "outputId": "c5e72f34-dc16-4d55-efa4-190d2efc38c4"
   },
   "outputs": [
    {
     "data": {
      "text/html": [
       "<div>\n",
       "<style scoped>\n",
       "    .dataframe tbody tr th:only-of-type {\n",
       "        vertical-align: middle;\n",
       "    }\n",
       "\n",
       "    .dataframe tbody tr th {\n",
       "        vertical-align: top;\n",
       "    }\n",
       "\n",
       "    .dataframe thead th {\n",
       "        text-align: right;\n",
       "    }\n",
       "</style>\n",
       "<table border=\"1\" class=\"dataframe\">\n",
       "  <thead>\n",
       "    <tr style=\"text-align: right;\">\n",
       "      <th></th>\n",
       "      <th>state</th>\n",
       "      <th>year</th>\n",
       "      <th>colonies_number</th>\n",
       "    </tr>\n",
       "  </thead>\n",
       "  <tbody>\n",
       "    <tr>\n",
       "      <th>5</th>\n",
       "      <td>Alabama</td>\n",
       "      <td>2000</td>\n",
       "      <td>16000</td>\n",
       "    </tr>\n",
       "    <tr>\n",
       "      <th>32</th>\n",
       "      <td>Arizona</td>\n",
       "      <td>2000</td>\n",
       "      <td>40000</td>\n",
       "    </tr>\n",
       "    <tr>\n",
       "      <th>59</th>\n",
       "      <td>Arkansas</td>\n",
       "      <td>2000</td>\n",
       "      <td>55000</td>\n",
       "    </tr>\n",
       "    <tr>\n",
       "      <th>86</th>\n",
       "      <td>California</td>\n",
       "      <td>2000</td>\n",
       "      <td>440000</td>\n",
       "    </tr>\n",
       "    <tr>\n",
       "      <th>113</th>\n",
       "      <td>Colorado</td>\n",
       "      <td>2000</td>\n",
       "      <td>29000</td>\n",
       "    </tr>\n",
       "  </tbody>\n",
       "</table>\n",
       "</div>"
      ],
      "text/plain": [
       "          state  year  colonies_number\n",
       "5       Alabama  2000            16000\n",
       "32      Arizona  2000            40000\n",
       "59     Arkansas  2000            55000\n",
       "86   California  2000           440000\n",
       "113    Colorado  2000            29000"
      ]
     },
     "execution_count": 28,
     "metadata": {},
     "output_type": "execute_result"
    }
   ],
   "source": [
    "state_2000_colony=highest_colony.loc[(highest_colony['year']==2000)]\n",
    "state_2000_colony.head()"
   ]
  },
  {
   "cell_type": "code",
   "execution_count": 29,
   "id": "f297adda-a9a8-4348-9f86-cb2e353920ce",
   "metadata": {
    "id": "f297adda-a9a8-4348-9f86-cb2e353920ce",
    "outputId": "dca059e2-97e4-4515-aad8-d81cc4d619de"
   },
   "outputs": [
    {
     "data": {
      "text/plain": [
       "state              California\n",
       "year                     2000\n",
       "colonies_number        440000\n",
       "Name: 86, dtype: object"
      ]
     },
     "execution_count": 29,
     "metadata": {},
     "output_type": "execute_result"
    }
   ],
   "source": [
    "result=state_2000_colony.loc[state_2000_colony['colonies_number'].idxmax()]\n",
    "result"
   ]
  },
  {
   "cell_type": "code",
   "execution_count": null,
   "id": "d3dfee1a-8030-4bce-bc29-35222c0afbc7",
   "metadata": {
    "id": "d3dfee1a-8030-4bce-bc29-35222c0afbc7"
   },
   "outputs": [],
   "source": []
  }
 ],
 "metadata": {
  "colab": {
   "provenance": []
  },
  "kernelspec": {
   "display_name": "Python 3",
   "language": "python",
   "name": "python3"
  },
  "language_info": {
   "codemirror_mode": {
    "name": "ipython",
    "version": 3
   },
   "file_extension": ".py",
   "mimetype": "text/x-python",
   "name": "python",
   "nbconvert_exporter": "python",
   "pygments_lexer": "ipython3",
   "version": "3.12.5"
  }
 },
 "nbformat": 4,
 "nbformat_minor": 5
}
