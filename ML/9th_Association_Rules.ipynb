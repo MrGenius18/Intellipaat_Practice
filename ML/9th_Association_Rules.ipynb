{
 "cells": [
  {
   "cell_type": "code",
   "execution_count": 1,
   "metadata": {},
   "outputs": [],
   "source": [
    "import pandas as pd\n",
    "import matplotlib.pyplot as plt\n",
    "import seaborn as sns"
   ]
  },
  {
   "cell_type": "code",
   "execution_count": 2,
   "metadata": {},
   "outputs": [],
   "source": [
    "df = pd.read_csv('Bakery_data.csv')"
   ]
  },
  {
   "cell_type": "code",
   "execution_count": 4,
   "metadata": {},
   "outputs": [],
   "source": [
    "from mlxtend.frequent_patterns import apriori, association_rules"
   ]
  },
  {
   "cell_type": "code",
   "execution_count": 5,
   "metadata": {},
   "outputs": [
    {
     "name": "stdout",
     "output_type": "stream",
     "text": [
      "    support              itemsets\n",
      "0  0.608696                (milk)\n",
      "1  0.434783              (butter)\n",
      "2  0.434783                (beer)\n",
      "3  0.565217              (cheese)\n",
      "4  0.565217                (eggs)\n",
      "5  0.434783        (butter, milk)\n",
      "6  0.565217          (eggs, milk)\n",
      "7  0.434783        (eggs, butter)\n",
      "8  0.434783  (eggs, butter, milk)\n"
     ]
    },
    {
     "name": "stderr",
     "output_type": "stream",
     "text": [
      "c:\\Users\\bhaut\\AppData\\Local\\Programs\\Python\\Python313\\Lib\\site-packages\\mlxtend\\frequent_patterns\\fpcommon.py:161: DeprecationWarning: DataFrames with non-bool types result in worse computationalperformance and their support might be discontinued in the future.Please use a DataFrame with bool type\n",
      "  warnings.warn(\n"
     ]
    }
   ],
   "source": [
    "frequent_itemsets = apriori(df, min_support=0.4, use_colnames=True)\n",
    "\n",
    "print(frequent_itemsets)"
   ]
  },
  {
   "cell_type": "code",
   "execution_count": 10,
   "metadata": {},
   "outputs": [
    {
     "name": "stdout",
     "output_type": "stream",
     "text": [
      "       antecedents     consequents   support  confidence      lift\n",
      "0         (butter)          (milk)  0.434783    1.000000  1.642857\n",
      "1           (milk)        (butter)  0.434783    0.714286  1.642857\n",
      "2           (eggs)          (milk)  0.565217    1.000000  1.642857\n",
      "3           (milk)          (eggs)  0.565217    0.928571  1.642857\n",
      "4           (eggs)        (butter)  0.434783    0.769231  1.769231\n",
      "5         (butter)          (eggs)  0.434783    1.000000  1.769231\n",
      "6   (eggs, butter)          (milk)  0.434783    1.000000  1.642857\n",
      "7     (eggs, milk)        (butter)  0.434783    0.769231  1.769231\n",
      "8   (butter, milk)          (eggs)  0.434783    1.000000  1.769231\n",
      "9           (eggs)  (butter, milk)  0.434783    0.769231  1.769231\n",
      "10        (butter)    (eggs, milk)  0.434783    1.000000  1.769231\n",
      "11          (milk)  (eggs, butter)  0.434783    0.714286  1.642857\n"
     ]
    }
   ],
   "source": [
    "rules = association_rules(frequent_itemsets, metric=\"confidence\", min_threshold=0.7)\n",
    "# rules\n",
    "print(rules[['antecedents', 'consequents', 'support', 'confidence', 'lift']])"
   ]
  },
  {
   "cell_type": "code",
   "execution_count": 34,
   "metadata": {},
   "outputs": [
    {
     "name": "stdout",
     "output_type": "stream",
     "text": [
      "       antecedents   consequents   support  confidence      lift  leverage\n",
      "0         (butter)        (milk)  0.434783    1.000000  1.642857  0.170132\n",
      "2           (eggs)        (milk)  0.565217    1.000000  1.642857  0.221172\n",
      "3           (milk)        (eggs)  0.565217    0.928571  1.642857  0.221172\n",
      "5         (butter)        (eggs)  0.434783    1.000000  1.769231  0.189036\n",
      "6   (eggs, butter)        (milk)  0.434783    1.000000  1.642857  0.170132\n",
      "8   (milk, butter)        (eggs)  0.434783    1.000000  1.769231  0.189036\n",
      "10        (butter)  (eggs, milk)  0.434783    1.000000  1.769231  0.189036\n"
     ]
    }
   ],
   "source": [
    "filtered_rules = rules[(rules['confidence'] >= 0.8) & (rules['lift'] >= 1)]\n",
    "\n",
    "print(filtered_rules[['antecedents', 'consequents', 'support', 'confidence', 'lift', 'leverage']])"
   ]
  },
  {
   "cell_type": "markdown",
   "metadata": {},
   "source": [
    ">\n",
    ">\n",
    ">\n",
    ">\n",
    ">"
   ]
  },
  {
   "cell_type": "markdown",
   "metadata": {},
   "source": [
    ">"
   ]
  },
  {
   "cell_type": "markdown",
   "metadata": {},
   "source": [
    ">"
   ]
  },
  {
   "cell_type": "markdown",
   "metadata": {},
   "source": [
    ">"
   ]
  },
  {
   "cell_type": "markdown",
   "metadata": {},
   "source": [
    "# Hands_On"
   ]
  },
  {
   "cell_type": "code",
   "execution_count": 108,
   "metadata": {},
   "outputs": [],
   "source": [
    "data = pd.read_csv('random_transactions.csv', header=None)"
   ]
  },
  {
   "cell_type": "code",
   "execution_count": 109,
   "metadata": {},
   "outputs": [
    {
     "data": {
      "text/html": [
       "<div>\n",
       "<style scoped>\n",
       "    .dataframe tbody tr th:only-of-type {\n",
       "        vertical-align: middle;\n",
       "    }\n",
       "\n",
       "    .dataframe tbody tr th {\n",
       "        vertical-align: top;\n",
       "    }\n",
       "\n",
       "    .dataframe thead th {\n",
       "        text-align: right;\n",
       "    }\n",
       "</style>\n",
       "<table border=\"1\" class=\"dataframe\">\n",
       "  <thead>\n",
       "    <tr style=\"text-align: right;\">\n",
       "      <th></th>\n",
       "      <th>0</th>\n",
       "      <th>1</th>\n",
       "      <th>2</th>\n",
       "      <th>3</th>\n",
       "      <th>4</th>\n",
       "      <th>5</th>\n",
       "    </tr>\n",
       "  </thead>\n",
       "  <tbody>\n",
       "    <tr>\n",
       "      <th>0</th>\n",
       "      <td>NaN</td>\n",
       "      <td>NaN</td>\n",
       "      <td>butter</td>\n",
       "      <td>beer</td>\n",
       "      <td>NaN</td>\n",
       "      <td>NaN</td>\n",
       "    </tr>\n",
       "    <tr>\n",
       "      <th>1</th>\n",
       "      <td>NaN</td>\n",
       "      <td>bread</td>\n",
       "      <td>NaN</td>\n",
       "      <td>NaN</td>\n",
       "      <td>cheese</td>\n",
       "      <td>eggs</td>\n",
       "    </tr>\n",
       "    <tr>\n",
       "      <th>2</th>\n",
       "      <td>milk</td>\n",
       "      <td>bread</td>\n",
       "      <td>NaN</td>\n",
       "      <td>beer</td>\n",
       "      <td>cheese</td>\n",
       "      <td>NaN</td>\n",
       "    </tr>\n",
       "    <tr>\n",
       "      <th>3</th>\n",
       "      <td>NaN</td>\n",
       "      <td>NaN</td>\n",
       "      <td>butter</td>\n",
       "      <td>NaN</td>\n",
       "      <td>NaN</td>\n",
       "      <td>eggs</td>\n",
       "    </tr>\n",
       "    <tr>\n",
       "      <th>4</th>\n",
       "      <td>NaN</td>\n",
       "      <td>NaN</td>\n",
       "      <td>NaN</td>\n",
       "      <td>NaN</td>\n",
       "      <td>cheese</td>\n",
       "      <td>NaN</td>\n",
       "    </tr>\n",
       "  </tbody>\n",
       "</table>\n",
       "</div>"
      ],
      "text/plain": [
       "      0      1       2     3       4     5\n",
       "0   NaN    NaN  butter  beer     NaN   NaN\n",
       "1   NaN  bread     NaN   NaN  cheese  eggs\n",
       "2  milk  bread     NaN  beer  cheese   NaN\n",
       "3   NaN    NaN  butter   NaN     NaN  eggs\n",
       "4   NaN    NaN     NaN   NaN  cheese   NaN"
      ]
     },
     "execution_count": 109,
     "metadata": {},
     "output_type": "execute_result"
    }
   ],
   "source": [
    "data.head()"
   ]
  },
  {
   "cell_type": "code",
   "execution_count": 110,
   "metadata": {},
   "outputs": [
    {
     "data": {
      "text/plain": [
       "(500, 6)"
      ]
     },
     "execution_count": 110,
     "metadata": {},
     "output_type": "execute_result"
    }
   ],
   "source": [
    "data.shape"
   ]
  },
  {
   "cell_type": "code",
   "execution_count": 111,
   "metadata": {},
   "outputs": [
    {
     "data": {
      "text/plain": [
       "['nan', 'nan', 'butter', 'beer', 'nan', 'nan']"
      ]
     },
     "execution_count": 111,
     "metadata": {},
     "output_type": "execute_result"
    }
   ],
   "source": [
    "l = []\n",
    "for i in range(500):\n",
    "    l.append([str(data.values[i,j]) for j in range(6)])\n",
    "\n",
    "l[0]"
   ]
  },
  {
   "cell_type": "code",
   "execution_count": 112,
   "metadata": {},
   "outputs": [],
   "source": [
    "from apyori import apriori"
   ]
  },
  {
   "cell_type": "code",
   "execution_count": 115,
   "metadata": {},
   "outputs": [
    {
     "data": {
      "text/plain": [
       "4"
      ]
     },
     "execution_count": 115,
     "metadata": {},
     "output_type": "execute_result"
    }
   ],
   "source": [
    "ass_rules = apriori(l, min_support=0.0045, min_confidence=0.2, min_lift=3, min_length=2)\n",
    "ass_result = list(ass_rules)\n",
    "len(ass_result)"
   ]
  },
  {
   "cell_type": "code",
   "execution_count": 117,
   "metadata": {},
   "outputs": [
    {
     "data": {
      "text/plain": [
       "RelationRecord(items=frozenset({'beer', 'cheese', 'milk', 'butter'}), support=0.036, ordered_statistics=[OrderedStatistic(items_base=frozenset({'beer', 'butter'}), items_add=frozenset({'cheese', 'milk'}), confidence=0.31034482758620685, lift=3.232758620689655), OrderedStatistic(items_base=frozenset({'cheese', 'milk'}), items_add=frozenset({'beer', 'butter'}), confidence=0.37499999999999994, lift=3.2327586206896544)])"
      ]
     },
     "execution_count": 117,
     "metadata": {},
     "output_type": "execute_result"
    }
   ],
   "source": [
    "ass_result[0]"
   ]
  },
  {
   "cell_type": "code",
   "execution_count": 118,
   "metadata": {},
   "outputs": [
    {
     "data": {
      "text/plain": [
       "16"
      ]
     },
     "execution_count": 118,
     "metadata": {},
     "output_type": "execute_result"
    }
   ],
   "source": [
    "# min_support 1%\n",
    "ass_rules = apriori(l, min_support=0.01, min_confidence=0.5, min_lift=2)\n",
    "ass_result = list(ass_rules)\n",
    "len(ass_result)"
   ]
  },
  {
   "cell_type": "code",
   "execution_count": 119,
   "metadata": {},
   "outputs": [
    {
     "data": {
      "text/plain": [
       "RelationRecord(items=frozenset({'beer', 'eggs', 'milk'}), support=0.166, ordered_statistics=[OrderedStatistic(items_base=frozenset({'eggs', 'milk'}), items_add=frozenset({'beer'}), confidence=0.8217821782178217, lift=2.044234274173686)])"
      ]
     },
     "execution_count": 119,
     "metadata": {},
     "output_type": "execute_result"
    }
   ],
   "source": [
    "ass_result[0]"
   ]
  },
  {
   "cell_type": "code",
   "execution_count": 120,
   "metadata": {},
   "outputs": [
    {
     "data": {
      "text/html": [
       "<div>\n",
       "<style scoped>\n",
       "    .dataframe tbody tr th:only-of-type {\n",
       "        vertical-align: middle;\n",
       "    }\n",
       "\n",
       "    .dataframe tbody tr th {\n",
       "        vertical-align: top;\n",
       "    }\n",
       "\n",
       "    .dataframe thead th {\n",
       "        text-align: right;\n",
       "    }\n",
       "</style>\n",
       "<table border=\"1\" class=\"dataframe\">\n",
       "  <thead>\n",
       "    <tr style=\"text-align: right;\">\n",
       "      <th></th>\n",
       "      <th>items</th>\n",
       "      <th>support</th>\n",
       "      <th>ordered_statistics</th>\n",
       "    </tr>\n",
       "  </thead>\n",
       "  <tbody>\n",
       "    <tr>\n",
       "      <th>0</th>\n",
       "      <td>(beer, eggs, milk)</td>\n",
       "      <td>0.166</td>\n",
       "      <td>[((eggs, milk), (beer), 0.8217821782178217, 2....</td>\n",
       "    </tr>\n",
       "    <tr>\n",
       "      <th>1</th>\n",
       "      <td>(beer, eggs, bread, milk)</td>\n",
       "      <td>0.106</td>\n",
       "      <td>[((beer, bread), (eggs, milk), 0.5353535353535...</td>\n",
       "    </tr>\n",
       "    <tr>\n",
       "      <th>2</th>\n",
       "      <td>(beer, cheese, eggs, butter)</td>\n",
       "      <td>0.040</td>\n",
       "      <td>[((cheese, butter), (beer, eggs), 0.5263157894...</td>\n",
       "    </tr>\n",
       "    <tr>\n",
       "      <th>3</th>\n",
       "      <td>(beer, cheese, milk, butter)</td>\n",
       "      <td>0.036</td>\n",
       "      <td>[((beer, milk, butter), (cheese), 0.5294117647...</td>\n",
       "    </tr>\n",
       "    <tr>\n",
       "      <th>4</th>\n",
       "      <td>(beer, eggs, milk, butter)</td>\n",
       "      <td>0.040</td>\n",
       "      <td>[((eggs, milk, butter), (beer), 0.833333333333...</td>\n",
       "    </tr>\n",
       "    <tr>\n",
       "      <th>5</th>\n",
       "      <td>(beer, cheese, milk, eggs)</td>\n",
       "      <td>0.048</td>\n",
       "      <td>[((cheese, milk), (beer, eggs), 0.5, 2.3364485...</td>\n",
       "    </tr>\n",
       "    <tr>\n",
       "      <th>6</th>\n",
       "      <td>(nan, beer, eggs, milk)</td>\n",
       "      <td>0.166</td>\n",
       "      <td>[((eggs, milk), (beer, nan), 0.821782178217821...</td>\n",
       "    </tr>\n",
       "    <tr>\n",
       "      <th>7</th>\n",
       "      <td>(cheese, milk, eggs, butter)</td>\n",
       "      <td>0.028</td>\n",
       "      <td>[((eggs, milk, butter), (cheese), 0.5833333333...</td>\n",
       "    </tr>\n",
       "    <tr>\n",
       "      <th>8</th>\n",
       "      <td>(milk, beer, nan, eggs, bread)</td>\n",
       "      <td>0.106</td>\n",
       "      <td>[((beer, bread), (nan, eggs, milk), 0.53535353...</td>\n",
       "    </tr>\n",
       "    <tr>\n",
       "      <th>9</th>\n",
       "      <td>(milk, beer, eggs, cheese, butter)</td>\n",
       "      <td>0.028</td>\n",
       "      <td>[((beer, cheese, butter), (eggs, milk), 0.5384...</td>\n",
       "    </tr>\n",
       "    <tr>\n",
       "      <th>10</th>\n",
       "      <td>(beer, nan, eggs, cheese, butter)</td>\n",
       "      <td>0.040</td>\n",
       "      <td>[((cheese, butter), (beer, nan, eggs), 0.52631...</td>\n",
       "    </tr>\n",
       "    <tr>\n",
       "      <th>11</th>\n",
       "      <td>(milk, beer, nan, cheese, butter)</td>\n",
       "      <td>0.036</td>\n",
       "      <td>[((beer, milk, butter), (nan, cheese), 0.52941...</td>\n",
       "    </tr>\n",
       "    <tr>\n",
       "      <th>12</th>\n",
       "      <td>(milk, beer, nan, eggs, butter)</td>\n",
       "      <td>0.040</td>\n",
       "      <td>[((eggs, milk, butter), (beer, nan), 0.8333333...</td>\n",
       "    </tr>\n",
       "    <tr>\n",
       "      <th>13</th>\n",
       "      <td>(milk, beer, nan, eggs, cheese)</td>\n",
       "      <td>0.048</td>\n",
       "      <td>[((cheese, milk), (beer, nan, eggs), 0.5, 2.33...</td>\n",
       "    </tr>\n",
       "    <tr>\n",
       "      <th>14</th>\n",
       "      <td>(milk, nan, eggs, cheese, butter)</td>\n",
       "      <td>0.028</td>\n",
       "      <td>[((eggs, milk, butter), (nan, cheese), 0.58333...</td>\n",
       "    </tr>\n",
       "    <tr>\n",
       "      <th>15</th>\n",
       "      <td>(milk, beer, eggs, nan, cheese, butter)</td>\n",
       "      <td>0.028</td>\n",
       "      <td>[((beer, cheese, butter), (nan, eggs, milk), 0...</td>\n",
       "    </tr>\n",
       "  </tbody>\n",
       "</table>\n",
       "</div>"
      ],
      "text/plain": [
       "                                      items  support  \\\n",
       "0                        (beer, eggs, milk)    0.166   \n",
       "1                 (beer, eggs, bread, milk)    0.106   \n",
       "2              (beer, cheese, eggs, butter)    0.040   \n",
       "3              (beer, cheese, milk, butter)    0.036   \n",
       "4                (beer, eggs, milk, butter)    0.040   \n",
       "5                (beer, cheese, milk, eggs)    0.048   \n",
       "6                   (nan, beer, eggs, milk)    0.166   \n",
       "7              (cheese, milk, eggs, butter)    0.028   \n",
       "8            (milk, beer, nan, eggs, bread)    0.106   \n",
       "9        (milk, beer, eggs, cheese, butter)    0.028   \n",
       "10        (beer, nan, eggs, cheese, butter)    0.040   \n",
       "11        (milk, beer, nan, cheese, butter)    0.036   \n",
       "12          (milk, beer, nan, eggs, butter)    0.040   \n",
       "13          (milk, beer, nan, eggs, cheese)    0.048   \n",
       "14        (milk, nan, eggs, cheese, butter)    0.028   \n",
       "15  (milk, beer, eggs, nan, cheese, butter)    0.028   \n",
       "\n",
       "                                   ordered_statistics  \n",
       "0   [((eggs, milk), (beer), 0.8217821782178217, 2....  \n",
       "1   [((beer, bread), (eggs, milk), 0.5353535353535...  \n",
       "2   [((cheese, butter), (beer, eggs), 0.5263157894...  \n",
       "3   [((beer, milk, butter), (cheese), 0.5294117647...  \n",
       "4   [((eggs, milk, butter), (beer), 0.833333333333...  \n",
       "5   [((cheese, milk), (beer, eggs), 0.5, 2.3364485...  \n",
       "6   [((eggs, milk), (beer, nan), 0.821782178217821...  \n",
       "7   [((eggs, milk, butter), (cheese), 0.5833333333...  \n",
       "8   [((beer, bread), (nan, eggs, milk), 0.53535353...  \n",
       "9   [((beer, cheese, butter), (eggs, milk), 0.5384...  \n",
       "10  [((cheese, butter), (beer, nan, eggs), 0.52631...  \n",
       "11  [((beer, milk, butter), (nan, cheese), 0.52941...  \n",
       "12  [((eggs, milk, butter), (beer, nan), 0.8333333...  \n",
       "13  [((cheese, milk), (beer, nan, eggs), 0.5, 2.33...  \n",
       "14  [((eggs, milk, butter), (nan, cheese), 0.58333...  \n",
       "15  [((beer, cheese, butter), (nan, eggs, milk), 0...  "
      ]
     },
     "execution_count": 120,
     "metadata": {},
     "output_type": "execute_result"
    }
   ],
   "source": [
    "ass_df = pd.DataFrame(ass_result)\n",
    "ass_df"
   ]
  },
  {
   "cell_type": "code",
   "execution_count": null,
   "metadata": {},
   "outputs": [],
   "source": []
  }
 ],
 "metadata": {
  "kernelspec": {
   "display_name": "Python 3",
   "language": "python",
   "name": "python3"
  },
  "language_info": {
   "codemirror_mode": {
    "name": "ipython",
    "version": 3
   },
   "file_extension": ".py",
   "mimetype": "text/x-python",
   "name": "python",
   "nbconvert_exporter": "python",
   "pygments_lexer": "ipython3",
   "version": "3.13.1"
  }
 },
 "nbformat": 4,
 "nbformat_minor": 2
}
