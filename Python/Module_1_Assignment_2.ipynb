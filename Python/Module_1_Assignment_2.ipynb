{
 "cells": [
  {
   "cell_type": "markdown",
   "metadata": {},
   "source": [
    "Author:- **Bhautik Gondaliya**\n",
    "\n",
    "mo. no.:- **[9586280240](https://)**\n",
    "\n",
    "mail id.:- **[mr.genius0180@gmail.com](https://)**\n",
    ">\n",
    ">\n",
    "guide:- **Aryan Raj**\n",
    "\n",
    "Sponcerd:- **Intellipaat**\n",
    ">\n",
    ">\n",
    "Title:- **Module-1 Assignment-2**\n",
    "\n",
    "Date:- **23/08/2024**"
   ]
  },
  {
   "cell_type": "markdown",
   "metadata": {},
   "source": [
    ">"
   ]
  },
  {
   "cell_type": "markdown",
   "metadata": {},
   "source": [
    "Q1. For a given list that contains numbers from 1 to 20. Using a for loop, \n",
    "create a new list that contains the square of each element from the given list"
   ]
  },
  {
   "cell_type": "code",
   "execution_count": 2,
   "metadata": {},
   "outputs": [
    {
     "name": "stdout",
     "output_type": "stream",
     "text": [
      "Squre of Listof (1 to 20) is:  [1, 4, 9, 16, 25, 36, 49, 64, 81, 100, 121, 144, 169, 196, 225, 256, 289, 324, 361, 400]\n"
     ]
    }
   ],
   "source": [
    "list_num = list(range(1, 21))\n",
    "\n",
    "squre_list_num = []\n",
    "\n",
    "for i in list_num:\n",
    "    squre_list_num.append(i ** 2)\n",
    "\n",
    "print(\"Squre of Listof (1 to 20) is: \", squre_list_num)"
   ]
  },
  {
   "cell_type": "markdown",
   "metadata": {},
   "source": [
    ">"
   ]
  },
  {
   "cell_type": "markdown",
   "metadata": {},
   "source": [
    "Q2. For a given dictionary that contains numbers from 1-10 as keys, and their square as values, display each key-value pair using a for loop"
   ]
  },
  {
   "cell_type": "code",
   "execution_count": 19,
   "metadata": {},
   "outputs": [
    {
     "name": "stdout",
     "output_type": "stream",
     "text": [
      "Square of '1' == '1'\n",
      "Square of '2' == '4'\n",
      "Square of '3' == '9'\n",
      "Square of '4' == '16'\n",
      "Square of '5' == '25'\n",
      "Square of '6' == '36'\n",
      "Square of '7' == '49'\n",
      "Square of '8' == '64'\n",
      "Square of '9' == '81'\n",
      "Square of '10' == '100'\n"
     ]
    }
   ],
   "source": [
    "dict_num = {}\n",
    "for key in range(1, 11):\n",
    "    dict_num[key] = key**2\n",
    "\n",
    "for key1, val1 in dict_num.items():\n",
    "    print(f\"Square of '{key1}' == '{val1}'\")\n"
   ]
  },
  {
   "cell_type": "markdown",
   "metadata": {},
   "source": [
    ">"
   ]
  },
  {
   "cell_type": "markdown",
   "metadata": {},
   "source": [
    "Q3. A tuple contains even numbers from 1-20. Display all the items in a tuple using a for loop."
   ]
  },
  {
   "cell_type": "code",
   "execution_count": 3,
   "metadata": {},
   "outputs": [
    {
     "name": "stdout",
     "output_type": "stream",
     "text": [
      "2 4 6 8 10 12 14 16 18 20 "
     ]
    }
   ],
   "source": [
    "tup1 = tuple(range(1, 21))\n",
    "\n",
    "for i in tup1:\n",
    "    if i % 2 != 0:\n",
    "        continue\n",
    "    print(i, end=\" \")"
   ]
  },
  {
   "cell_type": "markdown",
   "metadata": {},
   "source": [
    ">"
   ]
  },
  {
   "cell_type": "markdown",
   "metadata": {},
   "source": [
    "Q4. A set contains odd numbers from 1-20. Display the items in a set using a for loop."
   ]
  },
  {
   "cell_type": "code",
   "execution_count": 26,
   "metadata": {},
   "outputs": [
    {
     "name": "stdout",
     "output_type": "stream",
     "text": [
      "1 3 5 7 9 11 13 15 17 19 "
     ]
    }
   ],
   "source": [
    "set1 = set(range(1,20, 2))\n",
    "\n",
    "for i in set1:\n",
    "    print(i, end=\" \")"
   ]
  },
  {
   "cell_type": "markdown",
   "metadata": {},
   "source": [
    ">"
   ]
  },
  {
   "cell_type": "markdown",
   "metadata": {},
   "source": [
    "Q5. For a given sequence of nested lists, display the elements using a for loop.\n",
    "    \n",
    "        a = [[1,2],[3,4],[5,6],[7,8]]"
   ]
  },
  {
   "cell_type": "code",
   "execution_count": 31,
   "metadata": {},
   "outputs": [
    {
     "name": "stdout",
     "output_type": "stream",
     "text": [
      "1 2 3 4 5 6 7 8 "
     ]
    }
   ],
   "source": [
    "a = [[1,2],[3,4],[5,6],[7,8]]\n",
    "\n",
    "for i in a:\n",
    "    for j in i:\n",
    "        print(j, end=\" \")"
   ]
  },
  {
   "cell_type": "markdown",
   "metadata": {},
   "source": [
    ">"
   ]
  },
  {
   "cell_type": "markdown",
   "metadata": {},
   "source": [
    "Q6. For a given sequence of nested dictionaries, display all the values in the dictionary.\n",
    "\n",
    "        a = {1: {'one':1}, 2: {'two':2}, 3: {'three':3}}"
   ]
  },
  {
   "cell_type": "code",
   "execution_count": 33,
   "metadata": {},
   "outputs": [
    {
     "name": "stdout",
     "output_type": "stream",
     "text": [
      "{'one': 1} {'two': 2} {'three': 3} "
     ]
    }
   ],
   "source": [
    "a = {1: {'one':1}, 2: {'two':2}, 3: {'three':3}}\n",
    "\n",
    "for i in a.values():\n",
    "    print(i, end=\" \")"
   ]
  },
  {
   "cell_type": "markdown",
   "metadata": {},
   "source": [
    ">"
   ]
  },
  {
   "cell_type": "markdown",
   "metadata": {},
   "source": [
    "Q7. For a given list of natural numbers from 1-100, using the while loop, print only the numbers that are divisible by 2."
   ]
  },
  {
   "cell_type": "code",
   "execution_count": 37,
   "metadata": {},
   "outputs": [
    {
     "name": "stdout",
     "output_type": "stream",
     "text": [
      "2 4 6 8 10 12 14 16 18 20 22 24 26 28 30 32 34 36 38 40 42 44 46 48 50 52 54 56 58 60 62 64 66 68 70 72 74 76 78 80 82 84 86 88 90 92 94 96 98 100 "
     ]
    }
   ],
   "source": [
    "num = 1\n",
    "\n",
    "while num <= 100:\n",
    "    if num % 2 == 0:\n",
    "        print(num, end=\" \")\n",
    "    num += 1"
   ]
  },
  {
   "cell_type": "markdown",
   "metadata": {},
   "source": [
    ">"
   ]
  },
  {
   "cell_type": "markdown",
   "metadata": {},
   "source": [
    "Q8. Print the first 5 multiples of 3 using a while loop."
   ]
  },
  {
   "cell_type": "code",
   "execution_count": 41,
   "metadata": {},
   "outputs": [
    {
     "name": "stdout",
     "output_type": "stream",
     "text": [
      "3 6 9 12 15 "
     ]
    }
   ],
   "source": [
    "num = 1\n",
    "\n",
    "while num <= 5:\n",
    "    print(num*3, end=\" \")\n",
    "    num += 1"
   ]
  },
  {
   "cell_type": "markdown",
   "metadata": {},
   "source": [
    ">"
   ]
  },
  {
   "cell_type": "markdown",
   "metadata": {},
   "source": [
    "Q9. For a given dictionary that contains the first 10 natural numbers as keys, and their cubes\n",
    "as values, display the key value pairs using a while loop."
   ]
  },
  {
   "cell_type": "code",
   "execution_count": 43,
   "metadata": {},
   "outputs": [
    {
     "name": "stdout",
     "output_type": "stream",
     "text": [
      "{1: 1, 2: 8, 3: 27, 4: 64, 5: 125, 6: 216, 7: 343, 8: 512, 9: 729, 10: 1000}\n"
     ]
    }
   ],
   "source": [
    "num = 1\n",
    "dict1 = {}\n",
    "\n",
    "while num <= 10:\n",
    "    dict1[num] = num ** 3\n",
    "    num += 1\n",
    "\n",
    "print(dict1)"
   ]
  },
  {
   "cell_type": "markdown",
   "metadata": {},
   "source": [
    ">"
   ]
  },
  {
   "cell_type": "markdown",
   "metadata": {},
   "source": [
    "Q10. Write a program using a while loop demonstrating the usage of break, continue and pass\n",
    "statements along with if else statements."
   ]
  },
  {
   "cell_type": "code",
   "execution_count": 52,
   "metadata": {},
   "outputs": [
    {
     "name": "stdout",
     "output_type": "stream",
     "text": [
      "1 2 3 4 5 6 7 8 9 10 "
     ]
    }
   ],
   "source": [
    "num = 0\n",
    "\n",
    "while num <= 11:\n",
    "\n",
    "    if num == 0:  ## skip\n",
    "        num += 1\n",
    "        continue\n",
    "    elif num == 5:  ## pass\n",
    "        pass\n",
    "    elif num == 11:  ## end of loop\n",
    "        break\n",
    "    \n",
    "    print(num, end=\" \")\n",
    "    num += 1\n"
   ]
  },
  {
   "cell_type": "markdown",
   "metadata": {},
   "source": [
    ">"
   ]
  },
  {
   "cell_type": "markdown",
   "metadata": {},
   "source": [
    "Q11. Write a program using a for loop demonstrating the usage of break, continue and pass\n",
    "statements along with if else statements."
   ]
  },
  {
   "cell_type": "code",
   "execution_count": 53,
   "metadata": {},
   "outputs": [
    {
     "name": "stdout",
     "output_type": "stream",
     "text": [
      "1 2 3 4 5 6 "
     ]
    }
   ],
   "source": [
    "for num in range(0, 11):\n",
    "\n",
    "    if num == 0:  ## skip\n",
    "        continue\n",
    "    elif num == 5:  ## pass\n",
    "        pass\n",
    "    elif num == 7:  ## end of loop\n",
    "        break\n",
    "    \n",
    "    print(num, end=\" \")"
   ]
  },
  {
   "cell_type": "markdown",
   "metadata": {},
   "source": [
    ">"
   ]
  },
  {
   "cell_type": "markdown",
   "metadata": {},
   "source": [
    "Q12. Create a nested for loop to print a pyramid pattern program in python."
   ]
  },
  {
   "cell_type": "code",
   "execution_count": 68,
   "metadata": {},
   "outputs": [
    {
     "name": "stdout",
     "output_type": "stream",
     "text": [
      "    *\n",
      "   ***\n",
      "  *****\n",
      " *******\n",
      "*********\n"
     ]
    }
   ],
   "source": [
    "''''\n",
    "  *\n",
    " ***\n",
    "*****\n",
    "'''\n",
    "user_raw = int(input(\"Enter a Row Number: \"))\n",
    "\n",
    "for i in range(user_raw):\n",
    "\n",
    "    for j in range(user_raw - 1 - i):\n",
    "        print(' ', end='')\n",
    "\n",
    "    for k in range(2 * i + 1):\n",
    "        print('*', end='')\n",
    "    \n",
    "    print()\n"
   ]
  },
  {
   "cell_type": "code",
   "execution_count": 70,
   "metadata": {},
   "outputs": [
    {
     "name": "stdout",
     "output_type": "stream",
     "text": [
      "*****\n",
      "***\n",
      "*\n"
     ]
    }
   ],
   "source": [
    "user_raw = int(input(\"Enter a Row Number: \"))\n",
    "\n",
    "for i in range(user_raw):\n",
    "\n",
    "    for j in range(i + 5 - 3 * i):\n",
    "        print('*', end='')\n",
    "    \n",
    "    print()"
   ]
  },
  {
   "cell_type": "code",
   "execution_count": 77,
   "metadata": {},
   "outputs": [
    {
     "name": "stdout",
     "output_type": "stream",
     "text": [
      "*****\n",
      " ***\n",
      "  *\n"
     ]
    }
   ],
   "source": [
    "user_raw = int(input(\"Enter a Row Number: \"))\n",
    "\n",
    "for i in range(user_raw):\n",
    "    \n",
    "    for j in range (i):\n",
    "        print(\" \", end=\"\")\n",
    "\n",
    "    for k in range((2 * user_raw - 1) - (2 * i)):\n",
    "        print(\"*\", end=\"\")\n",
    "\n",
    "    print()"
   ]
  }
 ],
 "metadata": {
  "kernelspec": {
   "display_name": "Python 3",
   "language": "python",
   "name": "python3"
  },
  "language_info": {
   "codemirror_mode": {
    "name": "ipython",
    "version": 3
   },
   "file_extension": ".py",
   "mimetype": "text/x-python",
   "name": "python",
   "nbconvert_exporter": "python",
   "pygments_lexer": "ipython3",
   "version": "3.10.4"
  }
 },
 "nbformat": 4,
 "nbformat_minor": 2
}
