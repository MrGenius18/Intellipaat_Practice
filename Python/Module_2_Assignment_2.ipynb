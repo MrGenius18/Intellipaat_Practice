{
 "cells": [
  {
   "cell_type": "markdown",
   "metadata": {},
   "source": [
    "Author:- **Bhautik Gondaliya**\n",
    "\n",
    "mo. no.:- **[9586280240](https://)**\n",
    "\n",
    "mail id.:- **[mr.genius0180@gmail.com](https://)**\n",
    ">\n",
    ">\n",
    "guide:- **Aryan Raj**\n",
    "\n",
    "Sponcerd:- **Intellipaat**\n",
    ">\n",
    ">\n",
    "Title:- **Module-2 Assignment-2 OOPS Concepts**\n",
    "\n",
    "Date:- **25/08/2024**"
   ]
  },
  {
   "cell_type": "markdown",
   "metadata": {},
   "source": [
    ">"
   ]
  },
  {
   "cell_type": "markdown",
   "metadata": {},
   "source": [
    "Q1. Create a class named parent_Class and inside the class, initialize a global variable num as 10.\n",
    "    \n",
    "        a. Create another class named child_Class and this class should be inherited from the parent class.\n",
    "        b. Now create an object for the child_Class and with the help of child_Class object, display the value of ‘num’."
   ]
  },
  {
   "cell_type": "code",
   "execution_count": 1,
   "metadata": {},
   "outputs": [
    {
     "name": "stdout",
     "output_type": "stream",
     "text": [
      "10\n"
     ]
    }
   ],
   "source": [
    "class ParentClass:\n",
    "    num = 10\n",
    "\n",
    "class ChildClass(ParentClass):\n",
    "    pass\n",
    "\n",
    "obj_child = ChildClass()\n",
    "print(obj_child.num)"
   ]
  },
  {
   "cell_type": "markdown",
   "metadata": {},
   "source": [
    ">"
   ]
  },
  {
   "cell_type": "markdown",
   "metadata": {},
   "source": [
    "Q2. Create three classes named A, B, and C.\n",
    "        \n",
    "        a. Inside the A class, create a constructor. Inside the constructor, initialize 2 global variables- name and age.\n",
    "        b. After initializing the global variables inside the constructor, now create a function named ‘details’ and that function should return the ‘name’ variable.\n",
    "        c. Inside the B class, create a constructor. Inside the constructor, initialize 2 global variables- name and id.\n",
    "        d. After initializing the global variables inside the constructor, now create a function named ‘details’ and that function should return the ‘name’ variable.\n",
    "        e. The C class should inherit from class A, and B. Inside the class C, create a constructor, and inside the constructor, call the constructor of class A.\n",
    "        f. Now, create a method inside the class C, as get_details, and this function should return the value of a name.\n",
    "        g. Atlast, create an object of class C, and with the help of the object, call the get_details()."
   ]
  },
  {
   "cell_type": "code",
   "execution_count": 2,
   "metadata": {},
   "outputs": [
    {
     "name": "stdout",
     "output_type": "stream",
     "text": [
      "Bhautik\n"
     ]
    }
   ],
   "source": [
    "class A:\n",
    "    \n",
    "    def __init__(self):\n",
    "        self.name = \"Bhautik\"\n",
    "        self.age = 23\n",
    "\n",
    "    def details(self):\n",
    "        return self.name\n",
    "\n",
    "class B:\n",
    "    \n",
    "    def __init__(self):\n",
    "        self.name = \"Genius\"\n",
    "        self.id = 18\n",
    "\n",
    "    def details(self):\n",
    "        return self.name\n",
    "\n",
    "class C(A, B):\n",
    "    \n",
    "    def __init__(self):\n",
    "        A.__init__(self)\n",
    "\n",
    "    def getDetails(self):\n",
    "        return self.name\n",
    "\n",
    "obj_c = C()\n",
    "print(obj_c.getDetails())"
   ]
  },
  {
   "cell_type": "markdown",
   "metadata": {},
   "source": [
    ">"
   ]
  },
  {
   "cell_type": "markdown",
   "metadata": {},
   "source": [
    "Q3. Create a class named Employee, with a constructor ‘__init__’ method that accepts name and salary as parameters and set properties named name and salary.\n",
    "\n",
    "Q4. Define __str__ method in Employee class so that when someone tries to print the object the string Name: employee_name, Salary: employee_salary is printed with the actual employee name and salary."
   ]
  },
  {
   "cell_type": "code",
   "execution_count": 4,
   "metadata": {},
   "outputs": [
    {
     "name": "stdout",
     "output_type": "stream",
     "text": [
      "Name: Bhautik, Salary: 85000\n"
     ]
    }
   ],
   "source": [
    "class Employee:\n",
    "    \n",
    "    def __init__(self, name, salary):\n",
    "        self.name = name \n",
    "        self.salary = salary\n",
    "\n",
    "    def __str__(self):\n",
    "        return f\"Name: {self.name}, Salary: {self.salary}\"\n",
    "    \n",
    "emp = Employee(\"Bhautik\", 85000)\n",
    "print(emp)"
   ]
  },
  {
   "cell_type": "markdown",
   "metadata": {},
   "source": [
    ">"
   ]
  },
  {
   "cell_type": "markdown",
   "metadata": {},
   "source": [
    "Q5. Create a program using classes and objects to implement the following:\n",
    "        \n",
    "        1. A singly linked list, and various CRUD operations on the same.\n",
    "        2. A binary tree, and various CRUD operations on the same.\n",
    "        3. A graph data structure, and various CRUD operations on the same.\n",
    "        4. Implementation of Circular and Doubly linked lists."
   ]
  },
  {
   "cell_type": "markdown",
   "metadata": {},
   "source": [
    "1. A singly linked list, and various CRUD operations on the same."
   ]
  },
  {
   "cell_type": "code",
   "execution_count": null,
   "metadata": {},
   "outputs": [],
   "source": [
    "# A singly linked list is a sequence of nodes where each node points \n",
    "# to the next node in the sequence.\n",
    "\n",
    "class Node:\n",
    "    def __init__(self, data):\n",
    "        self.data = data\n",
    "        self.next = None\n",
    "\n",
    "\n",
    "class SinglyLinkedList:\n",
    "    def __init__(self):\n",
    "        self.head = None\n",
    "\n",
    "    def insert_at_end(self, data):\n",
    "        new_node = Node(data)\n",
    "        if not self.head:\n",
    "            self.head = new_node\n",
    "        else:\n",
    "            current = self.head\n",
    "            while current.next:\n",
    "                current = current.next\n",
    "            current.next = new_node\n",
    "\n",
    "    def insert_at_beginning(self, data):\n",
    "        new_node = Node(data)\n",
    "        new_node.next = self.head\n",
    "        self.head = new_node\n",
    "\n",
    "    def delete_node(self, key):\n",
    "        current = self.head\n",
    "\n",
    "        if current and current.data == key:\n",
    "            self.head = current.next\n",
    "            current = None\n",
    "            return\n",
    "\n",
    "        prev = None\n",
    "        while current and current.data != key:\n",
    "            prev = current\n",
    "            current = current.next\n",
    "\n",
    "        if current is None:\n",
    "            print(\"The data is not present in the list.\")\n",
    "            return\n",
    "\n",
    "        prev.next = current.next\n",
    "        current = None\n",
    "\n",
    "    def search(self, key):\n",
    "        current = self.head\n",
    "        while current:\n",
    "            if current.data == key:\n",
    "                return True\n",
    "            current = current.next\n",
    "        return False\n",
    "\n",
    "    def display(self):\n",
    "        current = self.head\n",
    "        while current:\n",
    "            print(current.data, end=\" -> \")\n",
    "            current = current.next\n",
    "        print(\"None\")\n",
    "\n",
    "\n",
    "# Example usage\n",
    "sll = SinglyLinkedList()\n",
    "sll.insert_at_end(1)\n",
    "sll.insert_at_end(2)\n",
    "sll.insert_at_end(3)\n",
    "sll.insert_at_beginning(0)\n",
    "sll.display()  # Output: 0 -> 1 -> 2 -> 3 -> None\n",
    "print(sll.search(2))  # Output: True\n",
    "sll.delete_node(2)\n",
    "sll.display()  # Output: 0 -> 1 -> 3 -> None\n"
   ]
  },
  {
   "cell_type": "markdown",
   "metadata": {},
   "source": [
    ">"
   ]
  },
  {
   "cell_type": "markdown",
   "metadata": {},
   "source": [
    "2. A binary tree, and various CRUD operations on the same."
   ]
  },
  {
   "cell_type": "code",
   "execution_count": 1,
   "metadata": {},
   "outputs": [
    {
     "name": "stdout",
     "output_type": "stream",
     "text": [
      "4 2 5 1 3 True\n",
      "4 2 1 5 "
     ]
    }
   ],
   "source": [
    "# A binary tree is a hierarchical data structure \n",
    "# in which each node has at most two children.\n",
    "\n",
    "class TreeNode:\n",
    "    def __init__(self, key):\n",
    "        self.left = None\n",
    "        self.right = None\n",
    "        self.val = key\n",
    "\n",
    "\n",
    "class BinaryTree:\n",
    "    def __init__(self, root_key):\n",
    "        self.root = TreeNode(root_key)\n",
    "\n",
    "    def insert(self, key):\n",
    "        new_node = TreeNode(key)\n",
    "        queue = [self.root]\n",
    "\n",
    "        while queue:\n",
    "            current = queue.pop(0)\n",
    "\n",
    "            if not current.left:\n",
    "                current.left = new_node\n",
    "                return\n",
    "            else:\n",
    "                queue.append(current.left)\n",
    "\n",
    "            if not current.right:\n",
    "                current.right = new_node\n",
    "                return\n",
    "            else:\n",
    "                queue.append(current.right)\n",
    "\n",
    "    def search(self, key):\n",
    "        if self.root is None:\n",
    "            return False\n",
    "\n",
    "        queue = [self.root]\n",
    "        while queue:\n",
    "            current = queue.pop(0)\n",
    "            if current.val == key:\n",
    "                return True\n",
    "\n",
    "            if current.left:\n",
    "                queue.append(current.left)\n",
    "            if current.right:\n",
    "                queue.append(current.right)\n",
    "\n",
    "        return False\n",
    "\n",
    "    def inorder_traversal(self, node):\n",
    "        if node:\n",
    "            self.inorder_traversal(node.left)\n",
    "            print(node.val, end=\" \")\n",
    "            self.inorder_traversal(node.right)\n",
    "\n",
    "    def delete_deepest(self, d_node):\n",
    "        queue = [self.root]\n",
    "        while queue:\n",
    "            temp = queue.pop(0)\n",
    "            if temp is d_node:\n",
    "                temp = None\n",
    "                return\n",
    "            if temp.right:\n",
    "                if temp.right is d_node:\n",
    "                    temp.right = None\n",
    "                    return\n",
    "                else:\n",
    "                    queue.append(temp.right)\n",
    "            if temp.left:\n",
    "                if temp.left is d_node:\n",
    "                    temp.left = None\n",
    "                    return\n",
    "                else:\n",
    "                    queue.append(temp.left)\n",
    "\n",
    "    def delete(self, key):\n",
    "        if self.root is None:\n",
    "            return None\n",
    "        if self.root.left is None and self.root.right is None:\n",
    "            if self.root.val == key:\n",
    "                self.root = None\n",
    "            return\n",
    "        key_node = None\n",
    "        queue = [self.root]\n",
    "        while queue:\n",
    "            temp = queue.pop(0)\n",
    "            if temp.val == key:\n",
    "                key_node = temp\n",
    "            if temp.left:\n",
    "                queue.append(temp.left)\n",
    "            if temp.right:\n",
    "                queue.append(temp.right)\n",
    "        if key_node:\n",
    "            x = temp.val\n",
    "            self.delete_deepest(temp)\n",
    "            key_node.val = x\n",
    "\n",
    "\n",
    "# Example usage\n",
    "bt = BinaryTree(1)\n",
    "bt.insert(2)\n",
    "bt.insert(3)\n",
    "bt.insert(4)\n",
    "bt.insert(5)\n",
    "bt.inorder_traversal(bt.root)  # Output: 4 2 5 1 3\n",
    "print(bt.search(4))  # Output: True\n",
    "bt.delete(3)\n",
    "bt.inorder_traversal(bt.root)  # Output: 4 2 5 1\n"
   ]
  },
  {
   "cell_type": "markdown",
   "metadata": {},
   "source": [
    ">"
   ]
  },
  {
   "cell_type": "markdown",
   "metadata": {},
   "source": [
    "3. A graph data structure, and various CRUD operations on the same."
   ]
  },
  {
   "cell_type": "code",
   "execution_count": null,
   "metadata": {},
   "outputs": [],
   "source": [
    "# A graph consists of a set of nodes (vertices) and a set of edges connecting the nodes.\n",
    "\n",
    "class Graph:\n",
    "    def __init__(self):\n",
    "        self.graph = {}\n",
    "\n",
    "    def add_vertex(self, vertex):\n",
    "        if vertex not in self.graph:\n",
    "            self.graph[vertex] = []\n",
    "\n",
    "    def add_edge(self, vertex, edge):\n",
    "        if vertex in self.graph:\n",
    "            self.graph[vertex].append(edge)\n",
    "        else:\n",
    "            self.graph[vertex] = [edge]\n",
    "\n",
    "    def remove_vertex(self, vertex):\n",
    "        if vertex in self.graph:\n",
    "            self.graph.pop(vertex)\n",
    "        for edges in self.graph.values():\n",
    "            if vertex in edges:\n",
    "                edges.remove(vertex)\n",
    "\n",
    "    def remove_edge(self, vertex, edge):\n",
    "        if vertex in self.graph and edge in self.graph[vertex]:\n",
    "            self.graph[vertex].remove(edge)\n",
    "\n",
    "    def display(self):\n",
    "        for vertex in self.graph:\n",
    "            print(vertex, \":\", self.graph[vertex])\n",
    "\n",
    "\n",
    "# Example usage\n",
    "graph = Graph()\n",
    "graph.add_vertex(\"A\")\n",
    "graph.add_vertex(\"B\")\n",
    "graph.add_edge(\"A\", \"B\")\n",
    "graph.add_edge(\"A\", \"C\")\n",
    "graph.display()\n",
    "# Output:\n",
    "# A : ['B', 'C']\n",
    "# B : []\n",
    "graph.remove_edge(\"A\", \"B\")\n",
    "graph.display()\n",
    "# Output:\n",
    "# A : ['C']\n",
    "# B : []\n",
    "graph.remove_vertex(\"B\")\n",
    "graph.display()\n",
    "# Output:\n",
    "# A : ['C']\n"
   ]
  },
  {
   "cell_type": "markdown",
   "metadata": {},
   "source": [
    ">"
   ]
  },
  {
   "cell_type": "markdown",
   "metadata": {},
   "source": [
    "4. Implementation of Circular and Doubly linked lists."
   ]
  },
  {
   "cell_type": "code",
   "execution_count": null,
   "metadata": {},
   "outputs": [],
   "source": [
    "# Circular linked lists have the last node pointing back to the head node, \n",
    "# and doubly linked lists have nodes pointing both to the next and the previous nodes.\n",
    "\n",
    "class CircularNode:\n",
    "    def __init__(self, data):\n",
    "        self.data = data\n",
    "        self.next = None\n",
    "\n",
    "\n",
    "class CircularLinkedList:\n",
    "    def __init__(self):\n",
    "        self.head = None\n",
    "\n",
    "    def insert_at_end(self, data):\n",
    "        new_node = CircularNode(data)\n",
    "        if not self.head:\n",
    "            self.head = new_node\n",
    "            self.head.next = self.head\n",
    "        else:\n",
    "            current = self.head\n",
    "            while current.next != self.head:\n",
    "                current = current.next\n",
    "            current.next = new_node\n",
    "            new_node.next = self.head\n",
    "\n",
    "    def display(self):\n",
    "        nodes = []\n",
    "        if self.head is None:\n",
    "            print(\"List is empty.\")\n",
    "            return\n",
    "\n",
    "        current = self.head\n",
    "        while True:\n",
    "            nodes.append(str(current.data))\n",
    "            current = current.next\n",
    "            if current == self.head:\n",
    "                break\n",
    "        print(\" -> \".join(nodes))\n",
    "\n",
    "\n",
    "# Example usage\n",
    "cll = CircularLinkedList()\n",
    "cll.insert_at_end(1)\n",
    "cll.insert_at_end(2)\n",
    "cll.insert_at_end(3)\n",
    "cll.display()  # Output: 1 -> 2 -> 3\n"
   ]
  },
  {
   "cell_type": "code",
   "execution_count": null,
   "metadata": {},
   "outputs": [],
   "source": [
    "# Doubly Linked List Implementation\n",
    "\n",
    "class DoublyNode:\n",
    "    def __init__(self, data):\n",
    "        self.data = data\n",
    "        self.prev = None\n",
    "        self.next = None\n",
    "\n",
    "\n",
    "class DoublyLinkedList:\n",
    "    def __init__(self):\n",
    "        self.head = None\n",
    "\n",
    "    def insert_at_end(self, data):\n",
    "        new_node = DoublyNode(data)\n",
    "        if not self.head:\n",
    "            self.head = new_node\n",
    "        else:\n",
    "            current = self.head\n",
    "            while current.next:\n",
    "                current = current.next\n",
    "            current.next = new_node\n",
    "            new_node.prev = current\n",
    "\n",
    "    def insert_at_beginning(self, data):\n",
    "        new_node = DoublyNode(data)\n",
    "        new_node.next = self.head\n",
    "        if self.head:\n",
    "            self.head.prev = new_node\n",
    "        self.head = new_node\n",
    "\n",
    "    def display(self):\n",
    "        current = self.head\n",
    "        while current:\n",
    "            print(current.data, end=\" <-> \")\n",
    "            current = current.next\n",
    "        print(\"None\")\n",
    "\n",
    "\n",
    "# Example usage\n",
    "dll = DoublyLinkedList()\n",
    "dll.insert_at_end(1)\n",
    "dll.insert_at_end(2)\n",
    "dll.insert_at_end(3)\n",
    "dll.insert_at_beginning(0)\n",
    "dll.display()  # Output: 0 <-> 1 <-> 2 <-> 3 <-> None\n"
   ]
  }
 ],
 "metadata": {
  "kernelspec": {
   "display_name": "Python 3",
   "language": "python",
   "name": "python3"
  },
  "language_info": {
   "codemirror_mode": {
    "name": "ipython",
    "version": 3
   },
   "file_extension": ".py",
   "mimetype": "text/x-python",
   "name": "python",
   "nbconvert_exporter": "python",
   "pygments_lexer": "ipython3",
   "version": "3.10.4"
  }
 },
 "nbformat": 4,
 "nbformat_minor": 2
}
