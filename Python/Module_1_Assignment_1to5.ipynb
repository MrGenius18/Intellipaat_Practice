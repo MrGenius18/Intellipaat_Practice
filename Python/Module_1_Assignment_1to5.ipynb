{
 "cells": [
  {
   "cell_type": "markdown",
   "metadata": {},
   "source": [
    "Author:- **Bhautik Gondaliya**\n",
    "\n",
    "mo. no.:- **[9586280240](https://)**\n",
    "\n",
    "mail id.:- **[mr.genius0180@gmail.com](https://)**\n",
    ">\n",
    ">\n",
    "guide:- **Aryan Raj**\n",
    "\n",
    "Sponcerd:- **Intellipaat**\n",
    ">\n",
    ">\n",
    "Title:- **Module-1 Assignment Basic Python**\n",
    "\n",
    "Date:- **26/08/2024**"
   ]
  },
  {
   "cell_type": "markdown",
   "metadata": {},
   "source": [
    ">"
   ]
  },
  {
   "cell_type": "markdown",
   "metadata": {},
   "source": [
    "Assignment - 1"
   ]
  },
  {
   "cell_type": "markdown",
   "metadata": {},
   "source": [
    "Input the values of a and b as 10 and 20 respectively. Now check if a is greater or b is greater using if condition. Think about all the edge cases, and print the statements accordingly."
   ]
  },
  {
   "cell_type": "code",
   "execution_count": 2,
   "metadata": {},
   "outputs": [
    {
     "name": "stdout",
     "output_type": "stream",
     "text": [
      "b is greater than of a, 10 < 20.\n"
     ]
    }
   ],
   "source": [
    "a, b = 10, 20\n",
    "\n",
    "if a > b:\n",
    "    print(f\"a is greater than of b, {a} > {b}.\")\n",
    "elif a < b:\n",
    "    print(f\"b is greater than of a, {a} < {b}.\")\n",
    "else:\n",
    "    print(f\"a is equal to b, {a} == {b}.\")"
   ]
  },
  {
   "cell_type": "markdown",
   "metadata": {},
   "source": [
    ">"
   ]
  },
  {
   "cell_type": "markdown",
   "metadata": {},
   "source": [
    "Assignment - 2"
   ]
  },
  {
   "cell_type": "markdown",
   "metadata": {},
   "source": [
    "Take three user inputs and print the greatest number from those inputs using if-else condition. Edge cases, if any, should also be handled."
   ]
  },
  {
   "cell_type": "code",
   "execution_count": 3,
   "metadata": {},
   "outputs": [
    {
     "name": "stdout",
     "output_type": "stream",
     "text": [
      "99 is the greatest Number.\n"
     ]
    }
   ],
   "source": [
    "n1 = int(input(\"Enter a 1st Number: \"))\n",
    "n2 = int(input(\"Enter a 2nd Number: \"))\n",
    "n3 = int(input(\"Enter a 3rd Number: \"))\n",
    "\n",
    "if n1 >= n2 and n1 >= n3:\n",
    "    print(f\"{n1} is the greatest Number.\")\n",
    "elif n2 >= n1 and n2 >= n3:\n",
    "    print(f\"{n2} is the greatest Number.\")\n",
    "elif n3 >= n1 and n3 >= n2:\n",
    "    print(f\"{n3} is the greatest Number.\")\n",
    "else:\n",
    "    print(\"Input only Integer or Floating Values.\")\n"
   ]
  },
  {
   "cell_type": "markdown",
   "metadata": {},
   "source": [
    ">"
   ]
  },
  {
   "cell_type": "markdown",
   "metadata": {},
   "source": [
    "Assignment - 3"
   ]
  },
  {
   "cell_type": "markdown",
   "metadata": {},
   "source": [
    "Print the numbers from 1 to 10 using while loop."
   ]
  },
  {
   "cell_type": "code",
   "execution_count": 11,
   "metadata": {},
   "outputs": [
    {
     "name": "stdout",
     "output_type": "stream",
     "text": [
      "1 2 3 4 5 6 7 8 9 10 "
     ]
    }
   ],
   "source": [
    "num = 1\n",
    "\n",
    "while num <= 10:\n",
    "    print(num, end=\" \")\n",
    "    num += 1"
   ]
  },
  {
   "cell_type": "markdown",
   "metadata": {},
   "source": [
    ">"
   ]
  },
  {
   "cell_type": "markdown",
   "metadata": {},
   "source": [
    "Assignment - 4"
   ]
  },
  {
   "cell_type": "markdown",
   "metadata": {},
   "source": [
    "Create a list that has 10, 23, 4, 26, 4, 75, 24, 54 values and with the help of while loop fetch the even numbers and print the numbers."
   ]
  },
  {
   "cell_type": "code",
   "execution_count": 15,
   "metadata": {},
   "outputs": [
    {
     "name": "stdout",
     "output_type": "stream",
     "text": [
      "10 4 26 4 24 54 "
     ]
    }
   ],
   "source": [
    "list1 = [10, 23, 4, 26, 4, 75, 24, 54]\n",
    "\n",
    "i = 0\n",
    "\n",
    "while i < len(list1):\n",
    "    num = list1[i]\n",
    "    if num % 2 == 0:\n",
    "        print(num, end=\" \")\n",
    "    i += 1"
   ]
  },
  {
   "cell_type": "markdown",
   "metadata": {},
   "source": [
    ">"
   ]
  },
  {
   "cell_type": "markdown",
   "metadata": {},
   "source": [
    "Assignment - 5"
   ]
  },
  {
   "cell_type": "markdown",
   "metadata": {},
   "source": [
    "Create an array that has user defined inputs and with the help of for loop, fetch all the prime numbers and print the numbers."
   ]
  },
  {
   "cell_type": "code",
   "execution_count": 24,
   "metadata": {},
   "outputs": [
    {
     "name": "stdout",
     "output_type": "stream",
     "text": [
      "Prime Number is: 23 89 13 "
     ]
    }
   ],
   "source": [
    "array = []\n",
    "\n",
    "num_element = int(input(\"Enter a how many Element: \"))\n",
    "\n",
    "for i in range(num_element):\n",
    "    num = int(input(f\"Enter a {i+1} Number: \"))\n",
    "    array.append(num)\n",
    "\n",
    "print(\"Prime Number is: \", end=\"\")\n",
    "\n",
    "for number in array:\n",
    "\n",
    "    for j in range(2, number):\n",
    "        if number % j == 0:\n",
    "            break\n",
    "    else:\n",
    "        print(number, end=\" \")\n"
   ]
  }
 ],
 "metadata": {
  "kernelspec": {
   "display_name": "Python 3",
   "language": "python",
   "name": "python3"
  },
  "language_info": {
   "codemirror_mode": {
    "name": "ipython",
    "version": 3
   },
   "file_extension": ".py",
   "mimetype": "text/x-python",
   "name": "python",
   "nbconvert_exporter": "python",
   "pygments_lexer": "ipython3",
   "version": "3.10.4"
  }
 },
 "nbformat": 4,
 "nbformat_minor": 2
}
