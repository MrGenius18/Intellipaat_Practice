{
 "cells": [
  {
   "cell_type": "markdown",
   "metadata": {},
   "source": [
    "Author:- **Bhautik Gondaliya**\n",
    "\n",
    "mo. no.:- **[9586280240](https://)**\n",
    "\n",
    "mail id.:- **[mr.genius0180@gmail.com](https://)**\n",
    ">\n",
    ">\n",
    "guide:- **Aryan Raj**\n",
    "\n",
    "Sponcerd:- **Intellipaat**\n",
    ">\n",
    ">\n",
    "Title:- **Module-1 CaseStudy-2 Basic Python**\n",
    "\n",
    "Date:- **26/08/2024**"
   ]
  },
  {
   "cell_type": "markdown",
   "metadata": {},
   "source": [
    ">"
   ]
  },
  {
   "cell_type": "markdown",
   "metadata": {},
   "source": [
    "Q1. Create 1st tuple with values -> (10, 20, 30), 2nd tuple with values -> (40, 50, 60):\n",
    "        \n",
    "        a. Concatenate the two tuples and store it in “t_combine”\n",
    "        b. Repeat the elements of “t_combine” 3 times\n",
    "        c. Access the 3rd element from “t_combine”\n",
    "        d. Access the first three elements from “t_combine”\n",
    "        e. Access the last three elements from “t_combine”"
   ]
  },
  {
   "cell_type": "code",
   "execution_count": 13,
   "metadata": {},
   "outputs": [
    {
     "name": "stdout",
     "output_type": "stream",
     "text": [
      "(10, 20, 30, 40, 50, 60)\n",
      "(10, 20, 30, 40, 50, 60, 10, 20, 30, 40, 50, 60, 10, 20, 30, 40, 50, 60)\n",
      "30\n",
      "(10, 20, 30)\n",
      "(40, 50, 60)\n"
     ]
    }
   ],
   "source": [
    "tup1 = (10, 20, 30)\n",
    "tup2 = (40, 50, 60)\n",
    "\n",
    "t_combine = tup1 + tup2\n",
    "print(t_combine)\n",
    "\n",
    "t_combine_3_time = t_combine * 3\n",
    "print(t_combine_3_time)\n",
    "\n",
    "print(t_combine[2])\n",
    "print(t_combine[:3])\n",
    "print(t_combine[-3:])\n"
   ]
  },
  {
   "cell_type": "markdown",
   "metadata": {},
   "source": [
    ">"
   ]
  },
  {
   "cell_type": "markdown",
   "metadata": {},
   "source": [
    "Q2. Create a list ‘my_list’ with these elements:\n",
    "        \n",
    "        a. First element is a tuple with values 1, 2, 3\n",
    "        b. Second element is a tuple with values “a”, “b”, “c”\n",
    "        c. Third element is a tuple with values True, False\n",
    "\n",
    "Q3. Append a new tuple – (1, ‘a’, True) to ‘my_list’:\n",
    "\n",
    "        a. Append a new list – *“sparta”, 123+ to my_list"
   ]
  },
  {
   "cell_type": "code",
   "execution_count": 16,
   "metadata": {},
   "outputs": [
    {
     "name": "stdout",
     "output_type": "stream",
     "text": [
      "[(1, 2, 3), ('a', 'b', 'c'), (True, False)]\n",
      "[(1, 2, 3), ('a', 'b', 'c'), (True, False), (1, 'a', True)]\n",
      "[(1, 2, 3), ('a', 'b', 'c'), (True, False), (1, 'a', True), ['sparta', 123]]\n"
     ]
    }
   ],
   "source": [
    "my_list = [(1, 2, 3), (\"a\", \"b\", \"c\"), (True, False)]\n",
    "print(my_list)\n",
    "\n",
    "my_list.append((1,'a',True))\n",
    "print(my_list)\n",
    "\n",
    "my_list.append([\"sparta\", 123])\n",
    "print(my_list)\n"
   ]
  },
  {
   "cell_type": "markdown",
   "metadata": {},
   "source": [
    ">"
   ]
  },
  {
   "cell_type": "markdown",
   "metadata": {},
   "source": [
    "Q4. Create a dictionary ‘fruit’ where:\n",
    "        \n",
    "        a. The first key is ‘Fruit’ and the values are (“Apple”, “Banana”, “Mango”, “Guava”)\n",
    "        b. The second key is ‘Cost’ and the values are (85, 54, 120, 70)\n",
    "        c. Extract all the keys from ‘fruit’\n",
    "        d. Extract all the values from ‘fruit’"
   ]
  },
  {
   "cell_type": "code",
   "execution_count": 18,
   "metadata": {},
   "outputs": [
    {
     "name": "stdout",
     "output_type": "stream",
     "text": [
      "dict_keys(['Fruit', 'Cost'])\n",
      "dict_values([('Apple', 'Banana', 'Mango', 'Guava'), (85, 54, 120, 70)])\n"
     ]
    }
   ],
   "source": [
    "fruit = { \n",
    "    'Fruit' : (\"Apple\", \"Banana\", \"Mango\", \"Guava\"),\n",
    "    'Cost' : (85, 54, 120, 70)\n",
    "}\n",
    "\n",
    "print(fruit.keys())\n",
    "print(fruit.values())"
   ]
  },
  {
   "cell_type": "markdown",
   "metadata": {},
   "source": [
    ">"
   ]
  },
  {
   "cell_type": "markdown",
   "metadata": {},
   "source": [
    "Q5. Create a set named ‘my_set’ with values (1, 1, “a”, “a”, True, True) and print the result."
   ]
  },
  {
   "cell_type": "code",
   "execution_count": 21,
   "metadata": {},
   "outputs": [
    {
     "name": "stdout",
     "output_type": "stream",
     "text": [
      "{1, 'a'}\n",
      "<class 'set'>\n"
     ]
    }
   ],
   "source": [
    "my_set = {1, 1, \"a\", \"a\", True, True}\n",
    "print(my_set)"
   ]
  }
 ],
 "metadata": {
  "kernelspec": {
   "display_name": "Python 3",
   "language": "python",
   "name": "python3"
  },
  "language_info": {
   "codemirror_mode": {
    "name": "ipython",
    "version": 3
   },
   "file_extension": ".py",
   "mimetype": "text/x-python",
   "name": "python",
   "nbconvert_exporter": "python",
   "pygments_lexer": "ipython3",
   "version": "3.10.4"
  }
 },
 "nbformat": 4,
 "nbformat_minor": 2
}
