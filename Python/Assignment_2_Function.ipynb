{
 "cells": [
  {
   "cell_type": "markdown",
   "metadata": {},
   "source": [
    "Author:- **Bhautik Gondaliya**\n",
    "\n",
    "mo. no.:- **[9586280240](https://)**\n",
    "\n",
    "mail id.:- **[mr.genius0180@gmail.com](https://)**\n",
    ">\n",
    ">\n",
    "guide:- **Aryan Raj**\n",
    "\n",
    "Sponcerd:- **Intellipaat**\n",
    ">\n",
    ">\n",
    "Title:- **Module-2 Assignment-2 Function Python**\n",
    "\n",
    "Date:- **27/08/2024**"
   ]
  },
  {
   "cell_type": "markdown",
   "metadata": {},
   "source": [
    ">"
   ]
  },
  {
   "cell_type": "markdown",
   "metadata": {},
   "source": [
    "Q1. Create a class named ‘Super’ and inside that class define a user-defined function named fun1\n",
    "        \n",
    "                a. Inside the ‘fun1’ function, pass the message “This is function 1 in the Super class.” in the print statement\n",
    "\n",
    "Q2. Create another class named ‘Modified_Super’ and inherit this class from the Super class\n",
    "        \n",
    "                a. Inside the Modified_Super class, create a function named ‘fun1’ and pass the following message inside the print statement: ‘This is function 1 in the Modified Super class.’\n",
    "                b. Create another user-defined function named ‘fun2’ and pass the message: ‘This is the 2 nd function from the Modified Super class’ in the print statement.\n",
    "                c. After that, now create an object for the Modified_Super class and call the fun1()."
   ]
  },
  {
   "cell_type": "code",
   "execution_count": 11,
   "metadata": {},
   "outputs": [
    {
     "name": "stdout",
     "output_type": "stream",
     "text": [
      "This is function 1 in the Modified Super class.\n"
     ]
    }
   ],
   "source": [
    "class Super:\n",
    "    \n",
    "    def fun1(self):\n",
    "        print(\"This is function 1 in the Super class.\")\n",
    "\n",
    "class ModifiedSuper(Super):\n",
    "\n",
    "    def fun1(self):\n",
    "        print(\"This is function 1 in the Modified Super class.\")\n",
    "\n",
    "    def fun2(self):\n",
    "        print(\"This is 2nd function from the Modified Super Class.\")\n",
    "\n",
    "obj = ModifiedSuper()\n",
    "obj.fun1()"
   ]
  },
  {
   "cell_type": "markdown",
   "metadata": {},
   "source": [
    ">"
   ]
  },
  {
   "cell_type": "markdown",
   "metadata": {},
   "source": [
    "Q3. Create 2 methods named ‘Hello’. In the 1st Hello method, pass only one argument and pass this message: ‘This function is only having 1 argument’. And in the 2nd Hello method, pass two arguments and pass this message: ‘This function is having 2 arguments’.\n",
    "\n",
    "            a. Try to call both the methods and analyze the output of both the methods."
   ]
  },
  {
   "cell_type": "code",
   "execution_count": 3,
   "metadata": {},
   "outputs": [
    {
     "name": "stdout",
     "output_type": "stream",
     "text": [
      "This Function is having 2 arguments.\n"
     ]
    }
   ],
   "source": [
    "class Argument:\n",
    "    \n",
    "    def Hello(self, x):\n",
    "        print(\"This Function is only having 1 argument.\")\n",
    "\n",
    "    def Hello(self, a, b):\n",
    "        print(\"This Function is having 2 arguments.\")\n",
    "\n",
    "\n",
    "arg = Argument()\n",
    "# arg.Hello(5) # TypeError: Argument.Hello() missing 1 required positional argument: 'b'\n",
    "arg.Hello(5, 2)"
   ]
  },
  {
   "cell_type": "markdown",
   "metadata": {},
   "source": [
    ">"
   ]
  },
  {
   "cell_type": "markdown",
   "metadata": {},
   "source": [
    "Q4. Create a method named ‘Sum’ that can accept multiple user inputs. Now add those user defined input values using for loop and the function should return the addition of the numbers."
   ]
  },
  {
   "cell_type": "code",
   "execution_count": 11,
   "metadata": {},
   "outputs": [
    {
     "name": "stdout",
     "output_type": "stream",
     "text": [
      "[1, 2, 3]\n",
      "6\n"
     ]
    }
   ],
   "source": [
    "def Sum(list_value):\n",
    "    total = 0\n",
    "    for num in  list_value:\n",
    "        total += num\n",
    "\n",
    "    return total\n",
    "\n",
    "user_values = int(input(\"Enter a Number of values: \"))\n",
    "\n",
    "l1 = []\n",
    "for i in range(user_values):\n",
    "    val = int(input(f\"Enter Your {i+1} Number: \"))\n",
    "    l1.append(val)\n",
    "\n",
    "print(l1)\n",
    "print(Sum(l1))"
   ]
  },
  {
   "cell_type": "markdown",
   "metadata": {},
   "source": [
    ">"
   ]
  },
  {
   "cell_type": "markdown",
   "metadata": {},
   "source": [
    "Q5. Create a class named ‘Encapsulation’:\n",
    "        \n",
    "        a. Inside the class, first create a constructor. Inside the constructor, initialize originalValue variable as 10.\n",
    "        b. After creating the constructor, define a function named ‘Value’ and this function should return the variable that we have initialized in the constructor.\n",
    "        c. Now create a 2nd function named setValue, and pass an argument named ‘newValue’. The task of this function will be to replace the value of the originalValue variable by the value of newValue variable."
   ]
  },
  {
   "cell_type": "code",
   "execution_count": 4,
   "metadata": {},
   "outputs": [
    {
     "data": {
      "text/plain": [
       "20"
      ]
     },
     "execution_count": 4,
     "metadata": {},
     "output_type": "execute_result"
    }
   ],
   "source": [
    "class Encapsulation:\n",
    "\n",
    "    def __init__(self):\n",
    "        self.val = 10\n",
    "\n",
    "    def value(self):\n",
    "        return self.val\n",
    "    \n",
    "    def setValue(self, new_value):\n",
    "        self.val = new_value\n",
    "\n",
    "obj = Encapsulation()\n",
    "obj.setValue(int(input(\"Enter a New Number: \")))\n",
    "obj.value()"
   ]
  }
 ],
 "metadata": {
  "kernelspec": {
   "display_name": "Python 3",
   "language": "python",
   "name": "python3"
  },
  "language_info": {
   "codemirror_mode": {
    "name": "ipython",
    "version": 3
   },
   "file_extension": ".py",
   "mimetype": "text/x-python",
   "name": "python",
   "nbconvert_exporter": "python",
   "pygments_lexer": "ipython3",
   "version": "3.13.1"
  }
 },
 "nbformat": 4,
 "nbformat_minor": 2
}
