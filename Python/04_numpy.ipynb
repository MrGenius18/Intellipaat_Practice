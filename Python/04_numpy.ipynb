{
 "cells": [
  {
   "cell_type": "markdown",
   "metadata": {},
   "source": [
    "Author:- **Bhautik Gondaliya**\n",
    "\n",
    "mo. no.:- **[9586280240](https://)**\n",
    "\n",
    "mail id.:- **[mr.genius0180@gmail.com](https://)**\n",
    ">\n",
    ">\n",
    "guide:- **Aryan Raj**\n",
    "\n",
    "Sponcerd:- **Intellipaat**\n",
    ">\n",
    ">\n",
    "Title:- **Module-4 Case-Study Numpy**\n",
    "\n",
    "Date:- **31/08/2024**"
   ]
  },
  {
   "cell_type": "markdown",
   "metadata": {},
   "source": [
    ">"
   ]
  },
  {
   "cell_type": "code",
   "execution_count": 1,
   "metadata": {},
   "outputs": [],
   "source": [
    "import numpy as np"
   ]
  },
  {
   "cell_type": "markdown",
   "metadata": {},
   "source": [
    "Q1. Create a function that takes dimensions as tuples e.g. (3, 3) and a numeric value and returns a NumPy array of the given dimension filled with the given value e.g.: solve((3, 3), 5) will return\n",
    "\n",
    "        [ [5, 5, 5],\n",
    "          [5, 5, 5],\n",
    "          [5, 5, 5] ]"
   ]
  },
  {
   "cell_type": "code",
   "execution_count": 4,
   "metadata": {},
   "outputs": [
    {
     "data": {
      "text/plain": [
       "array([[5, 5, 5],\n",
       "       [5, 5, 5],\n",
       "       [5, 5, 5]])"
      ]
     },
     "execution_count": 4,
     "metadata": {},
     "output_type": "execute_result"
    }
   ],
   "source": [
    "def dimentionArray(t1, num):\n",
    "\n",
    "    arr1 = np.full(t1, num)\n",
    "    return arr1\n",
    "\n",
    "dim_tuple = int(input(\"Enter your row number: \")), int(input(\"Enter your column number: \"))\n",
    "value = int(input(\"Enter of Value: \"))\n",
    "\n",
    "dimentionArray(dim_tuple, value)"
   ]
  },
  {
   "cell_type": "markdown",
   "metadata": {},
   "source": [
    ">"
   ]
  },
  {
   "cell_type": "markdown",
   "metadata": {},
   "source": [
    "Q2. Create a method that takes n NumPy arrays of the same dimensions,\n",
    "sums them and returns the answer."
   ]
  },
  {
   "cell_type": "code",
   "execution_count": 3,
   "metadata": {},
   "outputs": [
    {
     "name": "stdout",
     "output_type": "stream",
     "text": [
      "[[21 24 27]\n",
      " [30 33 36]]\n"
     ]
    }
   ],
   "source": [
    "def nDimentionSum(*arrays):\n",
    "\n",
    "    if not all(array.shape == arrays[0].shape for array in arrays):\n",
    "        raise ValueError(\"All arrays must have the same dimensions.\")\n",
    "    \n",
    "    return np.sum(arrays, axis=0)\n",
    "\n",
    "a = np.array([[1, 2, 3], [4, 5, 6]])\n",
    "b = np.array([[7, 8, 9], [10, 11, 12]])\n",
    "c = np.array([[13, 14, 15], [16, 17, 18]])\n",
    "\n",
    "print(nDimentionSum(a, b, c))"
   ]
  },
  {
   "cell_type": "markdown",
   "metadata": {},
   "source": [
    ">"
   ]
  },
  {
   "cell_type": "markdown",
   "metadata": {},
   "source": [
    "Q3. Given a 2 D Array of N X M Dimension, write a function that accepts this array as well as two numbers N and M. The method should return the top-left N X M sub matrix, e.g:\n",
    "\n",
    "        [ [1, 2, 3],\n",
    "          [4, 5, 6],\n",
    "          [7, 8, 9] ]\n",
    "\n",
    "top_left_sub_matrix (matrix, 2, 2) -> should return:\n",
    "\n",
    "        [ [1, 2],\n",
    "          [4, 5] ]"
   ]
  },
  {
   "cell_type": "code",
   "execution_count": 14,
   "metadata": {},
   "outputs": [
    {
     "name": "stdout",
     "output_type": "stream",
     "text": [
      "[[1 2]\n",
      " [4 5]]\n"
     ]
    }
   ],
   "source": [
    "def subMatrix(matrix, r, c):\n",
    "\n",
    "        if r > matrix.shape[0] or c > matrix.shape[1]:\n",
    "                raise ValueError(\"Submatrix dimensions exceed the dimensions of the input matrix.\")\n",
    "    \n",
    "        return matrix[:r, :c]\n",
    "\n",
    "arr1 = np.array([[1, 2, 3],[4, 5, 6],[7, 8, 9]])\n",
    "r, c = int(input(\"Enter your row number: \")), int(input(\"Enter your column number: \"))\n",
    "\n",
    "print(subMatrix(arr1, r, c))\n"
   ]
  },
  {
   "cell_type": "markdown",
   "metadata": {},
   "source": [
    ">"
   ]
  },
  {
   "cell_type": "markdown",
   "metadata": {},
   "source": [
    "Q4. Given a 2 D Array of N X M Dimension, write a function that accepts this array as well as two numbers N and M. The method should return the bottom-right N X M sub matrix, e.g:\n",
    "\n",
    "        [ [1, 2, 3],\n",
    "          [4, 5, 6],\n",
    "          [7, 8, 9] ]\n",
    "\n",
    "sub_matrix(matrix, 1, 1) -> should return : (Keep in mind these arrays are zero indexed)\n",
    "        \n",
    "        [ [5, 6]\n",
    "          [8, 9] ]\n"
   ]
  },
  {
   "cell_type": "code",
   "execution_count": 15,
   "metadata": {},
   "outputs": [
    {
     "name": "stdout",
     "output_type": "stream",
     "text": [
      "[[5 6]\n",
      " [8 9]]\n"
     ]
    }
   ],
   "source": [
    "def subMatrix(matrix, r, c):\n",
    "\n",
    "        if r > matrix.shape[0] or c > matrix.shape[1]:\n",
    "                raise ValueError(\"Submatrix dimensions exceed the dimensions of the input matrix.\")\n",
    "    \n",
    "        return matrix[-r:, -c:]\n",
    "\n",
    "arr1 = np.array([[1, 2, 3],[4, 5, 6],[7, 8, 9]])\n",
    "r, c = int(input(\"Enter your row number: \")), int(input(\"Enter your column number: \"))\n",
    "\n",
    "print(subMatrix(arr1, r, c))\n"
   ]
  },
  {
   "cell_type": "markdown",
   "metadata": {},
   "source": [
    ">"
   ]
  },
  {
   "cell_type": "markdown",
   "metadata": {},
   "source": [
    "Q5. Given a 1 D NumPy Array. Write a function that accepts this array as parameters. The method should return a dictionary with 'mean' and 'std_dev' as key and array's mean and array's standard deviation as values: [1, 1, 1]\n",
    "solution(arr) -> should return : {'mean': 1.0, 'std_dev': 0.0}"
   ]
  },
  {
   "cell_type": "code",
   "execution_count": 24,
   "metadata": {},
   "outputs": [
    {
     "name": "stdout",
     "output_type": "stream",
     "text": [
      "{'mean': 1.0, 'std_dev': 0.0}\n"
     ]
    }
   ],
   "source": [
    "def calMeanStd(arr):\n",
    "\n",
    "    mean_val = np.mean(arr)\n",
    "    std_dev = np.std(arr)\n",
    "\n",
    "    return {\"mean\": float(mean_val), \"std_dev\": float(std_dev)}\n",
    "\n",
    "arr1 = np.array([1,1,1])\n",
    "print(calMeanStd(arr1))"
   ]
  }
 ],
 "metadata": {
  "kernelspec": {
   "display_name": "Python 3",
   "language": "python",
   "name": "python3"
  },
  "language_info": {
   "codemirror_mode": {
    "name": "ipython",
    "version": 3
   },
   "file_extension": ".py",
   "mimetype": "text/x-python",
   "name": "python",
   "nbconvert_exporter": "python",
   "pygments_lexer": "ipython3",
   "version": "3.12.5"
  }
 },
 "nbformat": 4,
 "nbformat_minor": 2
}
