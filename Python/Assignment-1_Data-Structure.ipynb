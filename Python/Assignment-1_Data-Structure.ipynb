{
 "cells": [
  {
   "cell_type": "markdown",
   "metadata": {},
   "source": [
    "Author:- **Bhautik Gondaliya**\n",
    "\n",
    "mo. no.:- **[9586280240](https://)**\n",
    "\n",
    "mail id.:- **[mr.genius0180@gmail.com](https://)**\n",
    ">\n",
    ">\n",
    "guide:- **Aryan Raj**\n",
    "\n",
    "Sponcerd:- **Intellipaat**\n",
    ">\n",
    ">\n",
    "Title:- **Module-4 Assignment Data Structure**\n",
    "\n",
    "Date:- **30/08/2024**"
   ]
  },
  {
   "cell_type": "markdown",
   "metadata": {},
   "source": [
    ">"
   ]
  },
  {
   "cell_type": "markdown",
   "metadata": {},
   "source": [
    "Q1. Create a list named ‘myList’ that has the following elements: 10, 20, 30, ‘apple’, True, 8.10: \n",
    "\n",
    "        a. Now in the ‘myList’, append these values: 30, 40 \n",
    "        b. After that, reverse the elements of the ‘myList’ and store that in ‘reversedList’"
   ]
  },
  {
   "cell_type": "code",
   "execution_count": 10,
   "metadata": {},
   "outputs": [
    {
     "name": "stdout",
     "output_type": "stream",
     "text": [
      "My list After Append process:  [10, 20, 30, 'apple', True, 8.1, 30, 40]\n",
      "My list After reverse process:  [40, 30, 8.1, True, 'apple', 30, 20, 10]\n"
     ]
    }
   ],
   "source": [
    "my_list = [10, 20, 30, 'apple', True, 8.10]\n",
    "\n",
    "my_list.extend([30, 40])\n",
    "print(\"My list After Append process: \", my_list)\n",
    "rev_list = my_list[::-1]\n",
    "print(\"My list After reverse process: \", rev_list)"
   ]
  },
  {
   "cell_type": "markdown",
   "metadata": {},
   "source": [
    ">"
   ]
  },
  {
   "cell_type": "markdown",
   "metadata": {},
   "source": [
    "Q2. Create a dictionary with key values as 1, 2, 3 and the values as ‘data’, ‘information’ and ‘text’:\n",
    "\n",
    "        a. After that, eliminate the ‘text’ value from the dictionary\n",
    "        b. Add ‘features’ in the dictionary\n",
    "        c. Fetch the ‘data’ element from the dictionary and display it in the output"
   ]
  },
  {
   "cell_type": "code",
   "execution_count": 30,
   "metadata": {},
   "outputs": [
    {
     "data": {
      "text/plain": [
       "'data'"
      ]
     },
     "execution_count": 30,
     "metadata": {},
     "output_type": "execute_result"
    }
   ],
   "source": [
    "dict1 = {\n",
    "    1 : 'data',\n",
    "    2 : 'information',\n",
    "    3 : 'text'\n",
    "}\n",
    "\n",
    "dict1.pop(3)\n",
    "dict1[3] = \"features\"\n",
    "dict1[1]\n"
   ]
  },
  {
   "cell_type": "markdown",
   "metadata": {},
   "source": [
    ">"
   ]
  },
  {
   "cell_type": "markdown",
   "metadata": {},
   "source": [
    "Q3. Create a tuple and add these elements 1, 2, 3, apple, mango in my_tuple."
   ]
  },
  {
   "cell_type": "code",
   "execution_count": 31,
   "metadata": {},
   "outputs": [],
   "source": [
    "my_tuple = (1,2,3,'apple','mango')"
   ]
  },
  {
   "cell_type": "markdown",
   "metadata": {},
   "source": [
    ">"
   ]
  },
  {
   "cell_type": "markdown",
   "metadata": {},
   "source": [
    "Q4. Create another tuple named numeric_tuple consisting of only integer values 10, 20, 30, 40, 50:\n",
    "\n",
    "        a. Find the minimum value from the numeric_tuple\n",
    "        b. Concatenate my_tuple with numeric_tuple and store the result in r1\n",
    "        c. Duplicate the tuple named my_tuple 2 times and store that in ‘newdupli’"
   ]
  },
  {
   "cell_type": "code",
   "execution_count": 42,
   "metadata": {},
   "outputs": [
    {
     "name": "stdout",
     "output_type": "stream",
     "text": [
      "This is Minimum of numeric_tuple:  10\n",
      "This is Concatenate of my_tuple with Numeric_tuple:  (1, 2, 3, 'apple', 'mango', 10, 20, 30, 40, 50)\n",
      "This is duplication of 2times for my_tuple (1, 2, 3, 'apple', 'mango', 1, 2, 3, 'apple', 'mango')\n"
     ]
    }
   ],
   "source": [
    "import numpy as np\n",
    "\n",
    "numeric_tuple = (10,20,30,40,50)\n",
    "\n",
    "print(\"This is Minimum of numeric_tuple: \",np.array(numeric_tuple).min())\n",
    "\n",
    "r1 = my_tuple + numeric_tuple\n",
    "print(\"This is Concatenate of my_tuple with Numeric_tuple: \", r1)\n",
    "\n",
    "newdupli = my_tuple * 2\n",
    "print(\"This is duplication of 2times for my_tuple\", newdupli)"
   ]
  },
  {
   "cell_type": "markdown",
   "metadata": {},
   "source": [
    ">"
   ]
  },
  {
   "cell_type": "markdown",
   "metadata": {},
   "source": [
    "Q5. Create 2 sets with the names set1 and set2, where set1 contains {1,2,3,4,5} and set2 contains {2,3,7,6,1} Perform the below operation:\n",
    "\n",
    "        a. set1 union set2\n",
    "        b. set1 intersection set2\n",
    "        c. set1 difference set2"
   ]
  },
  {
   "cell_type": "code",
   "execution_count": 44,
   "metadata": {},
   "outputs": [
    {
     "name": "stdout",
     "output_type": "stream",
     "text": [
      "Union of 2 sets {1, 2, 3, 4, 5, 6, 7}\n",
      "Intersection of 2 sets {1, 2, 3}\n",
      "Difference of 2 sets {4, 5}\n"
     ]
    }
   ],
   "source": [
    "set1 = {1,2,3,4,5}\n",
    "set2 = {2,3,7,6,1}\n",
    "\n",
    "uni = set1.union(set2)\n",
    "inter = set1.intersection(set2)\n",
    "diff = set1.difference(set2)\n",
    "\n",
    "print(\"Union of 2 sets\", uni)\n",
    "print(\"Intersection of 2 sets\", inter)\n",
    "print(\"Difference of 2 sets\", diff)"
   ]
  }
 ],
 "metadata": {
  "kernelspec": {
   "display_name": "Python 3",
   "language": "python",
   "name": "python3"
  },
  "language_info": {
   "codemirror_mode": {
    "name": "ipython",
    "version": 3
   },
   "file_extension": ".py",
   "mimetype": "text/x-python",
   "name": "python",
   "nbconvert_exporter": "python",
   "pygments_lexer": "ipython3",
   "version": "3.12.5"
  }
 },
 "nbformat": 4,
 "nbformat_minor": 2
}
