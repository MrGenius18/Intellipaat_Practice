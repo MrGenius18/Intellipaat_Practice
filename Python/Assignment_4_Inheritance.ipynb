{
 "cells": [
  {
   "cell_type": "markdown",
   "metadata": {},
   "source": [
    "Author:- **Bhautik Gondaliya**\n",
    "\n",
    "mo. no.:- **[9586280240](https://)**\n",
    "\n",
    "mail id.:- **[mr.genius0180@gmail.com](https://)**\n",
    ">\n",
    ">\n",
    "guide:- **Aryan Raj**\n",
    "\n",
    "Sponcerd:- **Intellipaat**\n",
    ">\n",
    ">\n",
    "Title:- **Module-2 Assignment-4 Inheritance Python**\n",
    "\n",
    "Date:- **28/08/2024**"
   ]
  },
  {
   "cell_type": "markdown",
   "metadata": {},
   "source": [
    ">"
   ]
  },
  {
   "cell_type": "markdown",
   "metadata": {},
   "source": [
    "Q1. Create a class named parent_Class and inside the class, initialize a global variable num as 10\n",
    "\n",
    "            a. Create another class named child_Class and this class should be inherited from the parent class.\n",
    "            b. Now create an object for the child_Class and with the help of child_Class object, display the value of ‘num’."
   ]
  },
  {
   "cell_type": "code",
   "execution_count": 2,
   "metadata": {},
   "outputs": [
    {
     "data": {
      "text/plain": [
       "10"
      ]
     },
     "execution_count": 2,
     "metadata": {},
     "output_type": "execute_result"
    }
   ],
   "source": [
    "class ParentClass:\n",
    "    num = 10\n",
    "\n",
    "class ChildClass(ParentClass):\n",
    "    pass\n",
    "\n",
    "obj = ChildClass()\n",
    "obj.num"
   ]
  },
  {
   "cell_type": "markdown",
   "metadata": {},
   "source": [
    ">"
   ]
  },
  {
   "cell_type": "markdown",
   "metadata": {},
   "source": [
    "Q2. Create three classes named A, B and C\n",
    "        \n",
    "        a. Inside the A class, create a constructor. Inside the constructor, initialize 2 global variables name and age.\n",
    "        b. After initializing the global variables inside the constructor, now create a function named ‘details’ and that function should return the ‘name’ variable.\n",
    "        c. Inside the B class, create a constructor. Inside the constructor, initialize 2 global variables name and id.\n",
    "        d. After initializing the global variables inside the constructor, now create a function named ‘details’ and that function should return the ‘name’ variable.\n",
    "        e. The C class should inherit from class A, and B. Inside the class C, create a constructor, and inside the constructor, call the constructor of class A.\n",
    "        f. Now, create a method inside the class C, as get_details, and this function should return the value of name.\n",
    "        g. Atlast, create an object of class C, and with the help of the object, call the get_details()."
   ]
  },
  {
   "cell_type": "code",
   "execution_count": 18,
   "metadata": {},
   "outputs": [
    {
     "data": {
      "text/plain": [
       "'Pinjal'"
      ]
     },
     "execution_count": 18,
     "metadata": {},
     "output_type": "execute_result"
    }
   ],
   "source": [
    "class A:\n",
    "    \n",
    "    def __init__(self):\n",
    "        self.name = \"Bhautik\"\n",
    "        self.age = 23\n",
    "\n",
    "    def details(self):\n",
    "        return self.name\n",
    "\n",
    "class B:\n",
    "    \n",
    "    def __init__(self):\n",
    "        self.name = \"Pinjal\"\n",
    "        self.id = 18\n",
    "\n",
    "    def details(self):\n",
    "        return self.name\n",
    "\n",
    "class C(A, B):\n",
    "    \n",
    "    def __init__(self):\n",
    "        B.__init__(self)\n",
    "\n",
    "    def getDetails(self):\n",
    "        return self.name\n",
    "    \n",
    "obj_C = C()\n",
    "obj_C.getDetails()"
   ]
  },
  {
   "cell_type": "markdown",
   "metadata": {},
   "source": [
    ">"
   ]
  },
  {
   "cell_type": "markdown",
   "metadata": {},
   "source": [
    "Q3. Create a class named ‘Sub1’, inside the class, generate a user defined function named ‘first’ and inside the function, pass the following statement in the print()- ‘This is the first function from Sub 1 class’.\n",
    "\n",
    "        a. Now create another class named ‘Sub2’, and inside the class, create a function named ‘second’, and pass the following message in the print()- ‘This is the second function from the Sub 2 class’.\n",
    "        b. After that, create another class named ‘Super’ and inside that class, create a method named ‘final’, and pass the below message in the print()- ‘This is the final method from the super class’.\n",
    "        c. Now, create an object for the Super class and call all the 3 user defined methods, i.e., first(), second(), and final()."
   ]
  },
  {
   "cell_type": "code",
   "execution_count": 9,
   "metadata": {},
   "outputs": [
    {
     "name": "stdout",
     "output_type": "stream",
     "text": [
      "This is the first function from Sub1 class.\n",
      "This is the second function from Sub1 class.\n",
      "This is the final method from the Super class.\n"
     ]
    }
   ],
   "source": [
    "class Sub1:\n",
    "    \n",
    "    def first(self):\n",
    "        print(\"This is the first function from Sub1 class.\")\n",
    "\n",
    "class Sub2:\n",
    "\n",
    "    def second(self):\n",
    "        print(\"This is the second function from Sub1 class.\")\n",
    "\n",
    "class Super:\n",
    "\n",
    "    def final(self):\n",
    "        Sub1.first(self)\n",
    "        Sub2.second(self)\n",
    "        print(\"This is the final method from the Super class.\")\n",
    "\n",
    "obj_S = Super()\n",
    "obj_S.final()"
   ]
  },
  {
   "cell_type": "markdown",
   "metadata": {},
   "source": [
    ">"
   ]
  },
  {
   "cell_type": "markdown",
   "metadata": {},
   "source": [
    "Q4. Create a class named ‘Parent’, and inside the class, create a function named ‘fun1’ and pass the following message in the print()- ‘This is the message from the fun1’.\n",
    "\n",
    "        a. Now create a class named ‘Child1’ and inside the class, create a method named ‘fun2’ and pass the following message in the print()- ‘This is the message from the fun2’.\n",
    "        b. After that, create another class named ‘Child2’ and inside the class, create a method named ‘fun3’ and pass the following message in the print()- ‘This is the message from the fun3’.\n",
    "        c. Now, create an object of Child2 class and with the help of the object, call the ‘fun1’ method from the ‘Parent’ class."
   ]
  },
  {
   "cell_type": "code",
   "execution_count": 41,
   "metadata": {},
   "outputs": [
    {
     "name": "stdout",
     "output_type": "stream",
     "text": [
      "This is the message from the fun1.\n"
     ]
    }
   ],
   "source": [
    "class Parent:\n",
    "    \n",
    "    def fun1(self):\n",
    "        print(\"This is the message from the fun1.\")\n",
    "\n",
    "class Child1:\n",
    "\n",
    "    def fun2(self):\n",
    "        print(\"This is the message from the fun2.\")\n",
    "\n",
    "class Child2(Parent):\n",
    "\n",
    "    def fun3(self):\n",
    "        # super().fun1()\n",
    "        # Parent.fun1(self)\n",
    "        print(\"This is the message from the fun3.\")\n",
    "\n",
    "obj_C2 = Child2()\n",
    "obj_C2.fun1()"
   ]
  },
  {
   "cell_type": "markdown",
   "metadata": {},
   "source": [
    ">"
   ]
  },
  {
   "cell_type": "markdown",
   "metadata": {},
   "source": [
    "Q5. Create a class named ‘Parent’, and inside the class, create a function named ‘fun1’ and pass the following message in the print()- ‘This is the message from the fun1’.\n",
    "       \n",
    "        a. Now create a class named ‘Child’ and inside the class, create a method named ‘fun2’ and pass the following message in the print()- ‘This is the message from the fun2’.\n",
    "        b. After that, create another class named ‘Hybrid’ and inside the class, create a method named ‘fun3’ and pass the following message in the print()- ‘This is the message from the fun3’.\n",
    "        c. Now create an object of Hybrid class and with the help of the object, call the ‘fun1’, ‘fun2’ and ‘fun3’ methods."
   ]
  },
  {
   "cell_type": "code",
   "execution_count": 15,
   "metadata": {},
   "outputs": [
    {
     "name": "stdout",
     "output_type": "stream",
     "text": [
      "This is the message from the fun1.\n",
      "This is the message from the fun2.\n",
      "This is the message from the fun3.\n"
     ]
    }
   ],
   "source": [
    "class Parent:\n",
    "    \n",
    "    def fun1(self):\n",
    "        print(\"This is the message from the fun1.\")\n",
    "\n",
    "class Child:\n",
    "\n",
    "    def fun2(self):\n",
    "        print(\"This is the message from the fun2.\")\n",
    "\n",
    "class Hybrid(Parent, Child):\n",
    "\n",
    "    def fun3(self):\n",
    "        print(\"This is the message from the fun3.\")\n",
    "\n",
    "obj_C2 = Hybrid()\n",
    "obj_C2.fun1()\n",
    "obj_C2.fun2()\n",
    "obj_C2.fun3()"
   ]
  }
 ],
 "metadata": {
  "kernelspec": {
   "display_name": "Python 3",
   "language": "python",
   "name": "python3"
  },
  "language_info": {
   "codemirror_mode": {
    "name": "ipython",
    "version": 3
   },
   "file_extension": ".py",
   "mimetype": "text/x-python",
   "name": "python",
   "nbconvert_exporter": "python",
   "pygments_lexer": "ipython3",
   "version": "3.13.1"
  }
 },
 "nbformat": 4,
 "nbformat_minor": 2
}
