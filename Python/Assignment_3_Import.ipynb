{
 "cells": [
  {
   "cell_type": "markdown",
   "metadata": {},
   "source": [
    "Author:- **Bhautik Gondaliya**\n",
    "\n",
    "mo. no.:- **[9586280240](https://)**\n",
    "\n",
    "mail id.:- **[mr.genius0180@gmail.com](https://)**\n",
    ">\n",
    ">\n",
    "guide:- **Aryan Raj**\n",
    "\n",
    "Sponcerd:- **Intellipaat**\n",
    ">\n",
    ">\n",
    "Title:- **Module-2 Assignment-3 Import Python**\n",
    "\n",
    "Date:- **28/08/2024**"
   ]
  },
  {
   "cell_type": "markdown",
   "metadata": {},
   "source": [
    ">"
   ]
  },
  {
   "cell_type": "markdown",
   "metadata": {},
   "source": [
    "Q2. Open a new python file and import the Module.py file\n",
    "        \n",
    "        a. Now call the 4 methods from the Module.py file, i.e., addition(), subtraction(), multiplication(), and division()."
   ]
  },
  {
   "cell_type": "code",
   "execution_count": 2,
   "metadata": {},
   "outputs": [
    {
     "name": "stdout",
     "output_type": "stream",
     "text": [
      "10\n",
      "6\n",
      "16\n",
      "4.0\n"
     ]
    }
   ],
   "source": [
    "import Module as md\n",
    "\n",
    "n1 = int(input(\"Enter Your 1st number: \"))\n",
    "n2 = int(input(\"Enter Your 2nd number: \"))\n",
    "\n",
    "print(md.addition(n1, n2))\n",
    "print(md.subtraction(n1, n2))\n",
    "print(md.multiplication(n1, n2))\n",
    "print(md.division(n1, n2))"
   ]
  },
  {
   "cell_type": "markdown",
   "metadata": {},
   "source": [
    ">"
   ]
  },
  {
   "cell_type": "markdown",
   "metadata": {},
   "source": [
    "Q3. From the Module file, import only the addition() and pass the arguments so that it can display the result from the method."
   ]
  },
  {
   "cell_type": "code",
   "execution_count": 4,
   "metadata": {},
   "outputs": [
    {
     "data": {
      "text/plain": [
       "55"
      ]
     },
     "execution_count": 4,
     "metadata": {},
     "output_type": "execute_result"
    }
   ],
   "source": [
    "from Module import addition\n",
    "\n",
    "n1 = int(input(\"Enter Your 1st number: \"))\n",
    "n2 = int(input(\"Enter Your 2nd number: \"))\n",
    "\n",
    "addition(n1, n2)"
   ]
  },
  {
   "cell_type": "markdown",
   "metadata": {},
   "source": [
    ">"
   ]
  },
  {
   "cell_type": "markdown",
   "metadata": {},
   "source": [
    "Q4. From the Module file, import only the subtraction() and pass the arguments so that it can display the result from the method."
   ]
  },
  {
   "cell_type": "code",
   "execution_count": 6,
   "metadata": {},
   "outputs": [
    {
     "data": {
      "text/plain": [
       "40"
      ]
     },
     "execution_count": 6,
     "metadata": {},
     "output_type": "execute_result"
    }
   ],
   "source": [
    "from Module import subtraction\n",
    "\n",
    "n1 = int(input(\"Enter Your 1st number: \"))\n",
    "n2 = int(input(\"Enter Your 2nd number: \"))\n",
    "\n",
    "subtraction(n1, n2)"
   ]
  },
  {
   "cell_type": "markdown",
   "metadata": {},
   "source": [
    ">"
   ]
  },
  {
   "cell_type": "markdown",
   "metadata": {},
   "source": [
    "Q5. From the Module file, import both the multiplication() and division() and pass the arguments so that it can display the result from the methods."
   ]
  },
  {
   "cell_type": "code",
   "execution_count": 7,
   "metadata": {},
   "outputs": [
    {
     "name": "stdout",
     "output_type": "stream",
     "text": [
      "16\n",
      "4.0\n"
     ]
    }
   ],
   "source": [
    "from Module import multiplication, division\n",
    "\n",
    "n1 = int(input(\"Enter Your 1st number: \"))\n",
    "n2 = int(input(\"Enter Your 2nd number: \"))\n",
    "\n",
    "\n",
    "print(multiplication(n1, n2))\n",
    "print(division(n1, n2))"
   ]
  }
 ],
 "metadata": {
  "kernelspec": {
   "display_name": "Python 3",
   "language": "python",
   "name": "python3"
  },
  "language_info": {
   "codemirror_mode": {
    "name": "ipython",
    "version": 3
   },
   "file_extension": ".py",
   "mimetype": "text/x-python",
   "name": "python",
   "nbconvert_exporter": "python",
   "pygments_lexer": "ipython3",
   "version": "3.10.4"
  }
 },
 "nbformat": 4,
 "nbformat_minor": 2
}
