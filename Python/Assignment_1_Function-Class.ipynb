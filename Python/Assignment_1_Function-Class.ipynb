{
 "cells": [
  {
   "cell_type": "markdown",
   "metadata": {},
   "source": [
    "Author:- **Bhautik Gondaliya**\n",
    "\n",
    "mo. no.:- **[9586280240](https://)**\n",
    "\n",
    "mail id.:- **[mr.genius0180@gmail.com](https://)**\n",
    ">\n",
    ">\n",
    "guide:- **Aryan Raj**\n",
    "\n",
    "Sponcerd:- **Intellipaat**\n",
    ">\n",
    ">\n",
    "Title:- **Module-2 Assignment-1 Basic Function & Class Python**\n",
    "\n",
    "Date:- **27/08/2024**"
   ]
  },
  {
   "cell_type": "markdown",
   "metadata": {},
   "source": [
    ">"
   ]
  },
  {
   "cell_type": "markdown",
   "metadata": {},
   "source": [
    "Q1. Create a function named ‘factor’ that can only accept 1 argument. The function should return the factorial of that number."
   ]
  },
  {
   "cell_type": "code",
   "execution_count": null,
   "metadata": {},
   "outputs": [],
   "source": [
    "# 5! = 1*2*3*4*5\n",
    "\n",
    "def factor(num):\n",
    "    \n",
    "    factorial = 1\n",
    "    for n in range(1, num+1):\n",
    "        factorial *= n\n",
    "\n",
    "    return factorial\n",
    "\n",
    "factor(int(input(\"Enter a Number: \")))\n"
   ]
  },
  {
   "cell_type": "markdown",
   "metadata": {},
   "source": [
    ">"
   ]
  },
  {
   "cell_type": "markdown",
   "metadata": {},
   "source": [
    "Q2. Create a function named ‘check_string’, the function should accept a string data from the user and the function should check if the user input contains the letter ‘s’ in it. If it contains the letter ‘s’ then print- ‘The string is containing the letter ‘s’’, if not then print- ‘The string doesn’t contain the letter ‘s’’."
   ]
  },
  {
   "cell_type": "code",
   "execution_count": null,
   "metadata": {},
   "outputs": [],
   "source": [
    "def checkString(str1):\n",
    "    user_str1 = str1.lower()\n",
    "    if user_str1.find('s') != -1:\n",
    "        print(f\"{user_str1.find('s')} The string '{str1}' is containing the letter 's'.\")\n",
    "    else:\n",
    "        print(f\"{user_str1.find('s')} The string '{str1}' doesn't contain the letter 's'.\")\n",
    "\n",
    "user_str = input(\"Enter a String: \")\n",
    "checkString(user_str)"
   ]
  },
  {
   "cell_type": "markdown",
   "metadata": {},
   "source": [
    ">"
   ]
  },
  {
   "cell_type": "markdown",
   "metadata": {},
   "source": [
    "Q3. Create a class named ‘student’ and inside the class, create a function named ‘fun1’- this method should accept the user defined input and return that value:\n",
    "\n",
    "        a. Create another method named- message() and that method should print the user defined input that we have defined in ‘fun1’."
   ]
  },
  {
   "cell_type": "code",
   "execution_count": null,
   "metadata": {},
   "outputs": [],
   "source": [
    "class Student:\n",
    "    \n",
    "    def fun1(self, name):\n",
    "        self.name = name\n",
    "\n",
    "    def message(self):\n",
    "        print(f\"My name is {self.name}.\")\n",
    "\n",
    "user_name = input(\"Enter your Name: \")\n",
    "stu = Student()\n",
    "stu.fun1(user_name)\n",
    "stu.message()"
   ]
  },
  {
   "cell_type": "markdown",
   "metadata": {},
   "source": [
    ">"
   ]
  },
  {
   "cell_type": "markdown",
   "metadata": {},
   "source": [
    "Q4. Create a lambda function that should double or multiply the number (that we will be passing in the lambda function) by 2. Store the lambda function in a variable named ‘double_num’."
   ]
  },
  {
   "cell_type": "code",
   "execution_count": null,
   "metadata": {},
   "outputs": [],
   "source": [
    "double_num = lambda a: a * 2\n",
    "double_num(int(input(\"Enter a Number: \")))"
   ]
  },
  {
   "cell_type": "markdown",
   "metadata": {},
   "source": [
    ">"
   ]
  },
  {
   "cell_type": "markdown",
   "metadata": {},
   "source": [
    "Q5. Take user input string and check whether that string is palindrome or not."
   ]
  },
  {
   "cell_type": "code",
   "execution_count": null,
   "metadata": {},
   "outputs": [],
   "source": [
    "def checkPalindromeString(str1):\n",
    "    rev_str = str1[::-1]\n",
    "\n",
    "    if rev_str == str1:\n",
    "        print(f\"Your Sting '{str1}' is a Palindrome.\")\n",
    "    else:\n",
    "        print(f\"Your Sting '{str1}' is not a Palindrome.\")\n",
    "\n",
    "checkPalindromeString(input(\"Enter a String: \"))"
   ]
  }
 ],
 "metadata": {
  "kernelspec": {
   "display_name": "Python 3",
   "language": "python",
   "name": "python3"
  },
  "language_info": {
   "codemirror_mode": {
    "name": "ipython",
    "version": 3
   },
   "file_extension": ".py",
   "mimetype": "text/x-python",
   "name": "python",
   "nbconvert_exporter": "python",
   "pygments_lexer": "ipython3",
   "version": "3.13.1"
  }
 },
 "nbformat": 4,
 "nbformat_minor": 2
}
