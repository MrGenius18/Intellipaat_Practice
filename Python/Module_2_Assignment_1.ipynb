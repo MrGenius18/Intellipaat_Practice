{
 "cells": [
  {
   "cell_type": "markdown",
   "metadata": {},
   "source": [
    "Author:- **Bhautik Gondaliya**\n",
    "\n",
    "mo. no.:- **[9586280240](https://)**\n",
    "\n",
    "mail id.:- **[mr.genius0180@gmail.com](https://)**\n",
    ">\n",
    ">\n",
    "guide:- **Aryan Raj**\n",
    "\n",
    "Sponcerd:- **Intellipaat**\n",
    ">\n",
    ">\n",
    "Title:- **Module-2 Assignment-1 OOPS Concepts**\n",
    "\n",
    "Date:- **25/08/2024**"
   ]
  },
  {
   "cell_type": "markdown",
   "metadata": {},
   "source": [
    ">"
   ]
  },
  {
   "cell_type": "markdown",
   "metadata": {},
   "source": [
    "Q1. Create a function named ‘factor’ that can only accept 1 argument. The function should return the factorial of that number."
   ]
  },
  {
   "cell_type": "code",
   "execution_count": 2,
   "metadata": {},
   "outputs": [
    {
     "name": "stdout",
     "output_type": "stream",
     "text": [
      "5! == 120\n"
     ]
    }
   ],
   "source": [
    "# 5! == 5*4*3*2\n",
    "\n",
    "def factor(a):\n",
    "    \n",
    "    fac = 1\n",
    "    while a >= 1:\n",
    "        fac *= a\n",
    "        a -= 1\n",
    "    return fac\n",
    "user_num = int(input(\"Enter a Factorial Number: \"))\n",
    "\n",
    "print(f\"{user_num}! == {factor(user_num)}\")"
   ]
  },
  {
   "cell_type": "markdown",
   "metadata": {},
   "source": [
    ">"
   ]
  },
  {
   "cell_type": "markdown",
   "metadata": {},
   "source": [
    "Q2. Create a function named ‘check_string’, the function should accept a string data from the user and the function should check if the user input contains the letter ‘s’ in it. If it contains the letter ‘s’ then print- ‘The string is containing the letter ‘s’’, if not then print- ‘The string doesn’t contain the letter ‘s’’."
   ]
  },
  {
   "cell_type": "code",
   "execution_count": 9,
   "metadata": {},
   "outputs": [
    {
     "name": "stdout",
     "output_type": "stream",
     "text": [
      "The string 'Bhautik Gondaliya' doesn't contain the letter 's'\n"
     ]
    }
   ],
   "source": [
    "def checkString(string):\n",
    "\n",
    "    str_l = string.lower()\n",
    "    \n",
    "    if str_l.find('s') != -1:\n",
    "        print(f\"The string '{string}' is containing the letter 's'\")\n",
    "\n",
    "    else:\n",
    "        print(f\"The string '{string}' doesn't contain the letter 's'\")\n",
    "\n",
    "checkString(input(\"Enter a String: \"))"
   ]
  },
  {
   "cell_type": "markdown",
   "metadata": {},
   "source": [
    ">"
   ]
  },
  {
   "cell_type": "markdown",
   "metadata": {},
   "source": [
    "Q3. Create a class named ‘student’ and inside the class, create a function named ‘fun1’- this method should accept the user defined input and return that value.\n",
    "\n",
    "a. Create another method named- message() and that method should print the user defined input that we have defined in ‘fun1’."
   ]
  },
  {
   "cell_type": "code",
   "execution_count": 14,
   "metadata": {},
   "outputs": [
    {
     "name": "stdout",
     "output_type": "stream",
     "text": [
      "My name is Bhautik Gondaliya from India. I'm 23years old. \n"
     ]
    }
   ],
   "source": [
    "class Student:\n",
    "    \n",
    "    def fun1(self, n, a, c):\n",
    "        self.name = n\n",
    "        self.age = a\n",
    "        self.country = c\n",
    "\n",
    "    def message(self):\n",
    "        print(f\"My name is {self.name} from {self.country}. I'm {self.age}years old. \")\n",
    "\n",
    "name = input(\"Enter Your Name: \")\n",
    "age = int(input(\"Enter Your Age: \"))\n",
    "country = input(\"Enter Your Country: \")\n",
    "\n",
    "std = Student()\n",
    "std.fun1(name, age, country)\n",
    "std.message()"
   ]
  },
  {
   "cell_type": "markdown",
   "metadata": {},
   "source": [
    ">"
   ]
  },
  {
   "cell_type": "markdown",
   "metadata": {},
   "source": [
    "Q4. Create a lambda function that should double or multiply the number (that we will be passing in the lambda function) by 2. Store the lambda function in a variable named ‘double_num’."
   ]
  },
  {
   "cell_type": "code",
   "execution_count": 22,
   "metadata": {},
   "outputs": [
    {
     "name": "stdout",
     "output_type": "stream",
     "text": [
      "5 * 2 == 10\n"
     ]
    }
   ],
   "source": [
    "double_num = lambda a: a * 2\n",
    "\n",
    "user_num = int(input(\"Enter a Number: \"))\n",
    "result = double_num(user_num)\n",
    "print(f\"{user_num} * 2 == {result}\")"
   ]
  },
  {
   "cell_type": "markdown",
   "metadata": {},
   "source": [
    ">"
   ]
  },
  {
   "cell_type": "markdown",
   "metadata": {},
   "source": [
    "Q5. Take the user input string and check whether that string is palindrome or not."
   ]
  },
  {
   "cell_type": "code",
   "execution_count": 2,
   "metadata": {},
   "outputs": [
    {
     "name": "stdout",
     "output_type": "stream",
     "text": [
      "level is a Palindrome.\n",
      "Intellipaat is not a Palindrome.\n"
     ]
    }
   ],
   "source": [
    "def checkPalindrome(str1):\n",
    "    \n",
    "    if str1[::-1] == str1:\n",
    "        print(f\"{str1} is a Palindrome.\")\n",
    "\n",
    "    else:\n",
    "        print(f\"{str1} is not a Palindrome.\")\n",
    "\n",
    "user_string = input(\"Enter a String: \")\n",
    "checkPalindrome(user_string)\n",
    "user_string1 = input(\"Enter a String1: \")\n",
    "checkPalindrome(user_string1)\n"
   ]
  },
  {
   "cell_type": "markdown",
   "metadata": {},
   "source": [
    ">"
   ]
  },
  {
   "cell_type": "markdown",
   "metadata": {},
   "source": [
    "Q6. Create a class named ‘Super’ and inside that class define a user-defined function named fun1.\n",
    "\n",
    "        a. Inside the ‘fun1’ function, pass the message “This is function 1 in the Super class.” in the print statement"
   ]
  },
  {
   "cell_type": "code",
   "execution_count": 3,
   "metadata": {},
   "outputs": [
    {
     "name": "stdout",
     "output_type": "stream",
     "text": [
      "This is function 1 in the Super class.\n"
     ]
    }
   ],
   "source": [
    "class Super:\n",
    "    \n",
    "    def fun1(self):\n",
    "        print(\"This is function 1 in the Super class.\")\n",
    "\n",
    "obj1 = Super()\n",
    "obj1.fun1()"
   ]
  },
  {
   "cell_type": "markdown",
   "metadata": {},
   "source": [
    ">"
   ]
  },
  {
   "cell_type": "markdown",
   "metadata": {},
   "source": [
    "Q7. Create another class named ‘Modified_Super’ and inherit this class from the Super class.\n",
    "\n",
    "        a. Inside the Modified_Super class, create a function named ‘fun1’ and pass the following message inside the print statement: ‘This is function 1 in the Modified Super class.’\n",
    "        b. Create another user-defined function named ‘fun2’ and pass the message: ‘This is the 2nd function from the Modified Super class’ in the print statement.\n",
    "        c. After that, now create an object for the Modified_Super class and call the fun1()"
   ]
  },
  {
   "cell_type": "code",
   "execution_count": 7,
   "metadata": {},
   "outputs": [
    {
     "name": "stdout",
     "output_type": "stream",
     "text": [
      "This is function 1 in the Super class.\n",
      "This is function 1 in the Modified Super class.\n"
     ]
    }
   ],
   "source": [
    "class ModifiedSuper(Super):\n",
    "    \n",
    "    def fun1(self):\n",
    "        super().fun1()  ## not in the question\n",
    "        print(\"This is function 1 in the Modified Super class.\")\n",
    "\n",
    "    def fun2(self):\n",
    "        print(\"This is the 2nd function from the Modified Super class.\")\n",
    "\n",
    "obj2 = ModifiedSuper()\n",
    "obj2.fun1()"
   ]
  },
  {
   "cell_type": "markdown",
   "metadata": {},
   "source": [
    ">"
   ]
  },
  {
   "cell_type": "markdown",
   "metadata": {},
   "source": [
    "Q8. Create 2 methods named ‘Hello’. In the 1st Hello method, pass only one argument and pass this message: ‘This function only has 1 argument’. And in the 2nd Hello method, pass two arguments and pass this message: ‘This function has 2 arguments’.\n",
    "        \n",
    "        a. Try to call both the methods and analyze the output of both the methods.\n"
   ]
  },
  {
   "cell_type": "code",
   "execution_count": 9,
   "metadata": {},
   "outputs": [
    {
     "name": "stdout",
     "output_type": "stream",
     "text": [
      "This function has 2 arguments.\n"
     ]
    }
   ],
   "source": [
    "class Hello:\n",
    "\n",
    "    def hello(self, a):\n",
    "        print(\"This function only has 1 argument.\")\n",
    "\n",
    "    def hello(self, a, b):\n",
    "        print(\"This function has 2 arguments.\")\n",
    "\n",
    "obj = Hello()\n",
    "# obj.hello(1)   ## TypeError: Hello.hello() missing 1 required positional argument: 'b'\n",
    "obj.hello(1, 2)  ## Overriding method"
   ]
  },
  {
   "cell_type": "markdown",
   "metadata": {},
   "source": [
    ">"
   ]
  },
  {
   "cell_type": "markdown",
   "metadata": {},
   "source": [
    "Q9. Create a method named ‘Sum’ that can accept multiple user inputs. Now add those user- defined input values using for loop and the function should return the addition of the numbers."
   ]
  },
  {
   "cell_type": "code",
   "execution_count": 2,
   "metadata": {},
   "outputs": [
    {
     "name": "stdout",
     "output_type": "stream",
     "text": [
      "150\n"
     ]
    }
   ],
   "source": [
    "def Sum(*args):\n",
    "\n",
    "    sum = 0\n",
    "    for i in args:\n",
    "        sum += i\n",
    "    \n",
    "    return sum\n",
    "\n",
    "print(Sum(10, 20, 30, 40, 50))"
   ]
  },
  {
   "cell_type": "markdown",
   "metadata": {},
   "source": [
    ">"
   ]
  },
  {
   "cell_type": "markdown",
   "metadata": {},
   "source": [
    "Q10. Create a class named ‘Encapsulation’:\n",
    "\n",
    "        a. Inside the class, first create a constructor. Inside the constructor, initialize originalValue variable as 10.\n",
    "        b. After creating the constructor, define a function named ‘Value’ and this function should return the variable that we have initialized in the constructor.\n",
    "        c. Now create 2nd function named setValue, and pass an argument named ‘newValue’. The task of this function will be to replace the value of the originalValue variable by the value of the newValue variable."
   ]
  },
  {
   "cell_type": "code",
   "execution_count": 15,
   "metadata": {},
   "outputs": [
    {
     "name": "stdout",
     "output_type": "stream",
     "text": [
      "20\n"
     ]
    }
   ],
   "source": [
    "class Encapsulation:\n",
    "    \n",
    "    def __init__(self):\n",
    "        self.original_value = 10\n",
    "\n",
    "    def value(self):\n",
    "        return self.original_value\n",
    "    \n",
    "    def setValue(self, new_value):\n",
    "        self.original_value = new_value\n",
    "\n",
    "obj = Encapsulation()\n",
    "obj.setValue(20)\n",
    "print(obj.value())\n"
   ]
  }
 ],
 "metadata": {
  "kernelspec": {
   "display_name": "Python 3",
   "language": "python",
   "name": "python3"
  },
  "language_info": {
   "codemirror_mode": {
    "name": "ipython",
    "version": 3
   },
   "file_extension": ".py",
   "mimetype": "text/x-python",
   "name": "python",
   "nbconvert_exporter": "python",
   "pygments_lexer": "ipython3",
   "version": "3.10.4"
  }
 },
 "nbformat": 4,
 "nbformat_minor": 2
}
