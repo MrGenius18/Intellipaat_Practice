{
 "cells": [
  {
   "cell_type": "markdown",
   "metadata": {},
   "source": [
    "Author:- **Bhautik Gondaliya**\n",
    "\n",
    "mo. no.:- **[9586280240](https://)**\n",
    "\n",
    "mail id.:- **[mr.genius0180@gmail.com](https://)**\n",
    ">\n",
    ">\n",
    "guide:- **Aryan Raj**\n",
    "\n",
    "Sponcerd:- **Intellipaat**\n",
    ">\n",
    ">\n",
    "Title:- **Module-2 Case-Study Advance Python**\n",
    "\n",
    "Date:- **28/08/2024**"
   ]
  },
  {
   "cell_type": "markdown",
   "metadata": {},
   "source": [
    ">"
   ]
  },
  {
   "cell_type": "markdown",
   "metadata": {},
   "source": [
    "Q1. Create a class named Employee, with a constructor ‘__init__’ method that accepts name and salary as parameters and set properties named name and salary.\n",
    "\n",
    "Q2. Define __str__ method in Employee class so that when someone tries to print the object the string Name: employee_name, Salary: employee_salary is printed with the actual employee name and salary."
   ]
  },
  {
   "cell_type": "code",
   "execution_count": 5,
   "metadata": {},
   "outputs": [
    {
     "name": "stdout",
     "output_type": "stream",
     "text": [
      "Name: Bhautik Gondaliya, Salary: 85000\n"
     ]
    }
   ],
   "source": [
    "class Employee:\n",
    "    \n",
    "    def __init__(self, name, salary):\n",
    "        self.name = name\n",
    "        self.salary = salary\n",
    "\n",
    "    def __str__(self):\n",
    "        return f\"Name: {self.name}, Salary: {self.salary}\"\n",
    "\n",
    "user_name = input(\"Enter Your Name: \")\n",
    "user_salary = input(\"Enter Your Salary: \")\n",
    "\n",
    "emp = Employee(user_name, user_salary)\n",
    "print(emp)"
   ]
  },
  {
   "cell_type": "markdown",
   "metadata": {},
   "source": [
    ">"
   ]
  },
  {
   "cell_type": "markdown",
   "metadata": {},
   "source": [
    "Q3. Create another class named Calculator, with methods to add, subtract, multiply and divide two numbers.\n",
    "\n",
    "Q4. These methods take two numbers as parameters.\n",
    "\n",
    "Q5. These methods will be called by a method named execute command.\n",
    "\n",
    "Q6. Execute command takes in 3 parameters command which is string that can be either ‘add’, ‘sub’, ‘mul’, ‘div’, and two numbers and it will call the appropriate method based on command parameter."
   ]
  },
  {
   "cell_type": "code",
   "execution_count": 1,
   "metadata": {},
   "outputs": [
    {
     "data": {
      "text/plain": [
       "11"
      ]
     },
     "execution_count": 1,
     "metadata": {},
     "output_type": "execute_result"
    }
   ],
   "source": [
    "class Calculator:\n",
    "    \n",
    "    def add(self, n1, n2):\n",
    "        return n1 + n2\n",
    "    \n",
    "    def subtract(self, n1, n2):\n",
    "        return n1 - n2\n",
    "    \n",
    "    def multiply(self, n1, n2):\n",
    "        return n1 * n2\n",
    "    \n",
    "    def divide(self, n1, n2):\n",
    "        if n2 == 0:\n",
    "            raise ValueError(\"Cannot divide by zero!\")\n",
    "        return n1 / n2\n",
    "    \n",
    "    def executeCommand(self, command, n1, n2):\n",
    "        if command == 'add':\n",
    "            return self.add(n1, n2)\n",
    "        elif command == 'sub':\n",
    "            return self.subtract(n1, n2)\n",
    "        elif command == 'mul':\n",
    "            return self.multiply(n1, n2)\n",
    "        elif command == 'div':\n",
    "            return self.divide(n1, n2)\n",
    "        else:\n",
    "            raise ValueError(f\"Invalid command: {command}\")\n",
    "\n",
    "user_cmd = input(\"Enter Your Command Name (add, sub, mul, div)\")\n",
    "user_n1 = int(input(\"Enter Your 1st Number: \"))\n",
    "user_n2 = int(input(\"Enter Your 2nd Number: \"))\n",
    "\n",
    "calc = Calculator()\n",
    "calc.executeCommand(user_cmd, user_n1, user_n2)"
   ]
  }
 ],
 "metadata": {
  "kernelspec": {
   "display_name": "Python 3",
   "language": "python",
   "name": "python3"
  },
  "language_info": {
   "codemirror_mode": {
    "name": "ipython",
    "version": 3
   },
   "file_extension": ".py",
   "mimetype": "text/x-python",
   "name": "python",
   "nbconvert_exporter": "python",
   "pygments_lexer": "ipython3",
   "version": "3.10.4"
  }
 },
 "nbformat": 4,
 "nbformat_minor": 2
}
